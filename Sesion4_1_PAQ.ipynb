{
  "nbformat": 4,
  "nbformat_minor": 0,
  "metadata": {
    "colab": {
      "provenance": [],
      "include_colab_link": true
    },
    "kernelspec": {
      "name": "python3",
      "display_name": "Python 3"
    },
    "language_info": {
      "name": "python"
    }
  },
  "cells": [
    {
      "cell_type": "markdown",
      "metadata": {
        "id": "view-in-github",
        "colab_type": "text"
      },
      "source": [
        "<a href=\"https://colab.research.google.com/github/joana20-source/PAQ_24O/blob/main/Sesion4_1_PAQ.ipynb\" target=\"_parent\"><img src=\"https://colab.research.google.com/assets/colab-badge.svg\" alt=\"Open In Colab\"/></a>"
      ]
    },
    {
      "cell_type": "markdown",
      "source": [
        "# Principios de programación 3\n",
        "---"
      ],
      "metadata": {
        "id": "Tu_PRIDRA_rK"
      }
    },
    {
      "cell_type": "markdown",
      "source": [
        "## Colecciones de datos\n",
        "---"
      ],
      "metadata": {
        "id": "XjemkhGDHBPz"
      }
    },
    {
      "cell_type": "markdown",
      "source": [
        "\n",
        "### <font size=5 color='blue'> Listas</font>\n",
        "\n",
        "Supongamos que deseamos almacenar en variables las masas molares de los primeros 10 elementos de la tabla periódica. Para ello, tendriamos que hacer lo siguiente:\n",
        "\n",
        "```python\n",
        "mm_elemento_1 = 1.01\n",
        "mm_elemento_2 = 4.00\n",
        "mm_elemento_3 = 6.97\n",
        "mm_elemento_4 = 9.01\n",
        "mm_elemento_5 = 10.81\n",
        "mm_elemento_6 = 12.01\n",
        "mm_elemento_7 = 14.01\n",
        "mm_elemento_8 = 16.00\n",
        "mm_elemento_9 = 19.00\n",
        "mm_elemento_10 = 20.18\n",
        "```\n",
        "\n",
        "En algunos escenarios pude resultar más adecuado definir una *lista*, un tipo de dato en Python que almacena varios valores bajo un nombre común. Recordando la analogía de las variables y las cajas, una lista sería la caja donde guardamos otras cajas (o si pensamos en las variables como bolsas, una lista es como la bolsa donde guardamos las bolsas).\n",
        "\n",
        "❓Coloca otra analogía para las listas.\n",
        "\n",
        "Para definir una lista, encerramos una lista de datos entre corchetes `[]`, separando cada dato con comas:\n",
        "\n",
        "```python\n",
        "variable = [dato1, dato2, dato3]\n",
        "```\n",
        "\n",
        "Los nombres de variables para listas y otras colecciones de datos siguen las mismas restricciones y convenciones que las variables ya vistas.\n",
        "\n",
        "\n",
        "#### **Nota importante**:\n",
        "En general es muy poco recomendable utilizar acentos y símbolos propios del español dentro del código (letras acentuadas, ñ), con la única *excepción* dentro de textos/strings.\n",
        "\n",
        "❓ En la siguiente celda de código (cc) está definida una lista `mm_elementos`. Complétala para que almacene las masas molares de los primeros 10 elementos. Intenta verificar tu definición (¿Cómo lo hacíamos en la sesión anterior?)."
      ],
      "metadata": {
        "id": "_ONM6juNBVXG"
      }
    },
    {
      "cell_type": "code",
      "source": [
        "mm_elementos = [1.01, 4.00]"
      ],
      "metadata": {
        "id": "yK_g2_tWJUfK"
      },
      "execution_count": null,
      "outputs": []
    },
    {
      "cell_type": "markdown",
      "source": [
        "Las listas pueden almacenar valores de diferentes tipos:\n",
        "```python\n",
        "mm_elementos = [1.01,4 ,'Li = 6.97']\n",
        "```\n",
        "\n",
        "**No suele recomendarse esto**, ya que en listas grandes esta disparidad en tipos de datos puede complicar su manipulación.\n",
        "\n",
        "❓Completa las siguientes listas con tipos de datos adecuados hasta que cada una tenga 5 elementos."
      ],
      "metadata": {
        "id": "FRH3V8hAJrZP"
      }
    },
    {
      "cell_type": "code",
      "source": [
        "pKa = [14.0,]\n",
        "n_coordinacion = [3,]\n",
        "grupos_funcionales = ['-OH',]"
      ],
      "metadata": {
        "id": "VTXCUbQ0uJ80"
      },
      "execution_count": null,
      "outputs": []
    },
    {
      "cell_type": "markdown",
      "source": [
        "#### Acceso a elementos en listas\n",
        "\n",
        "* Para acceder a un elemento de una lista utilizaremos los *índices de posición*:\n",
        "\n",
        "```python\n",
        "# Para acceder a un elemento:\n",
        "lista[indice]\n",
        "```\n",
        "<font color='red'>\n",
        "En general estos índices comienzan por 0 </font>, por lo que si necesitamos el primer elemento de la lista usariamos `lista [0]`, y si necesitamos el segundo usariamos `lista[1]`.\n",
        "\n",
        "\n"
      ],
      "metadata": {
        "id": "sOtE4gWW8r7L"
      }
    },
    {
      "cell_type": "markdown",
      "source": [
        "<font size=4 color='blue'> Veamos un ejemplo:</font> Crea una lista llamada *frutas* con los siguientes elementos: manzana, uva, naranja, fresa, mandarina, pera, guayaba, mango, sandía, melón. En diferentes cc, obtén mediante índices las siguientes frutas: naranja, guayaba y melón."
      ],
      "metadata": {
        "id": "NhO0wMnsLEve"
      }
    },
    {
      "cell_type": "markdown",
      "source": [
        "❓Accediendo a los elementos de la lista `mm_elementos` por medio de sus índices, calcula las masas molares de los siguientes compuestos, almacenandolos en variables con nombres adecuados. Imprime los resultados, señalando el compuesto asociado.\n",
        "* HF\n",
        "* CH$_4$\n",
        "* NH$_3$\n",
        "* CF$_4$\n",
        "* CF$_4$Ne"
      ],
      "metadata": {
        "id": "ZKxA6_SGKrmd"
      }
    },
    {
      "cell_type": "markdown",
      "source": [
        "Supongamos que te entregan una lista, pero no te dicen cuantos elementos tiene. Si quisieras acceder al último valor, ¿cómo lo harías?\n",
        "\n",
        "En Python puede hacerse uso de índices negativos, los cuales van en sentido opuesto y comienzan con `-1` para el último elemento:\n",
        "```python\n",
        "#Ultimo elemento de la lista\n",
        "lista[-1]\n",
        "```\n",
        "\n",
        "❓¿Cómo podrías acceder al penúltimo elemento?\n",
        "\n",
        "❓Usando índices negativos, calcula la masa molar de CF$_4$Ne."
      ],
      "metadata": {
        "id": "fIOhdafPRDYc"
      }
    },
    {
      "cell_type": "markdown",
      "source": [
        "####  <font size=5 color='blue'> Rebanadas o Slices</font>\n",
        "\n",
        "También podemos acceder a fragmentos con más de un elemento de una lista. Para ello usaremos las *rebanadas* o *slices*.\n",
        "\n",
        "```python\n",
        "# Usando slices:\n",
        "lista[inicio:fin]\n",
        "```\n",
        "\n",
        "**Importante**: El índice de *fin* en una rebanada nos indica hasta donde requerimos la rebanada, pero sin incluir dicho elemento. Prueba con varios ejemplos para que esto quede claro.\n",
        "\n",
        "Si necesitamos acceder por ejemplo del primer al tercer elemento, usariamos `lista[0:3]`.\n",
        "\n",
        "Es posible no definir el inicio o el fin, en cuyo caso se considera el último o el primer elemento como inicio o fin, correspondientemente. La rebanada antes descrita podría ser también `lista[:3]`.\n",
        "\n",
        "❓Usando slices, define una nueva lista de masas molares que contenga los elementos del segundo periodo de la tabla periódica.\n",
        "\n",
        "❓Verifica si la lista de masas molares fue afectada luego de utilizar la rebanada. Anota tu observación.\n",
        "\n",
        "❓Ejecuta la siguiente cc. En una nueva celda, genera rebanadas de la lista para los siguientes casos. Evita utilizar el índice 0 o el último.\n",
        "\n",
        "* Tres amigos que quieren tamales rojo, de rajas y de mole.\n",
        "* Un grupo de amigos que quiere uno de cada tipo, pero se acabaron los tamales verdes.\n",
        "* Cuatro químicos quieren medir la temperatura de los tamales que están al fondo de la olla, de un tipo distinto cada uno. Supón que el último tamal es el que está al fondo. Intenta que sea general (algunos días los tamales están ordenados de forma distinta)."
      ],
      "metadata": {
        "id": "r_erzqCbSl2u"
      }
    },
    {
      "cell_type": "code",
      "source": [
        "olla_tamales = ['verde', 'rojo', 'rajas', 'mole', 'dulce', 'oaxaqueño rojo']"
      ],
      "metadata": {
        "id": "iWfpzZbSYt1v"
      },
      "execution_count": null,
      "outputs": []
    },
    {
      "cell_type": "markdown",
      "source": [
        "### Alterando valores\n",
        "\n",
        "Para cambiar un valor, basta con redefinirlo como lo haríamos con una variable:\n",
        "\n",
        "```python\n",
        "lista[indice] = nuevo_valor\n",
        "```\n",
        "\n",
        "❓Altera al menos un valor de la lista `olla_tamales`."
      ],
      "metadata": {
        "id": "1pIhq7LEoftx"
      }
    },
    {
      "cell_type": "markdown",
      "source": [
        "#### Funciones y métodos de listas\n",
        "\n",
        "La función `len(lista)` regresa el tamaño de una lista.\n",
        "\n",
        "❓Usa esta función para recuperar el tamaño de tres de las listas hasta ahora definidas.\n",
        "\n"
      ],
      "metadata": {
        "id": "fal9UC87S2gf"
      }
    },
    {
      "cell_type": "markdown",
      "source": [
        "Los *métodos* son un tipo especial de funciones que se asocian a tipos de datos/variables específicos. Su notación ya no es parecida a la de las funciones matemáticas ($f(x)$). En su lugar, primero indicamos el dato sobre el que actúa ($x$) y luego indicamos el nombre del método ($f$):\n",
        "\n",
        "```python\n",
        "dato.metodo()\n",
        "```\n",
        "\n",
        "En el caso de las listas, un método muy utilizado es `append()`, cuyo efecto es agregar al final de la lista nuevos elementos. Si quisieramos agregar la masa molar del elemento 11 a nuestra lista, usaríamos:\n",
        "\n",
        "```python\n",
        "mm_elementos.append(22.99)\n",
        "```\n",
        "\n",
        "❓ Ejecuta la instrucción anterior y verifica si modificó la lista correspondiente.\n",
        "\n"
      ],
      "metadata": {
        "id": "zLydGpCZanGG"
      }
    },
    {
      "cell_type": "markdown",
      "source": [
        "Los métodos y las funciones no suelen alterar a la variable sobre la que actúan, sino que generan un resultado independiente. Esto **no siempre se cumple**, algunos métodos si alteran el valor de la variable.\n",
        "\n",
        "Un consejo para tu aprendizaje en programación: *Siempre hay que experimentar*. Antes de asumir que tu código va a funcionar como esperas, aún cuando lo has diseñado con cuidado, es importante realizar pruebas y registrar tus observaciones. Siempre puedes crear un pequeño ejemplo de prueba, con variables diferentes a las que utilizarás, en celdas de código separadas o incluso en un Notebook distinto. Lo peor que puede pasar es que encuentres errores que nutran tu aprendizaje. Además, como usamos Google Colab el contenido de tu computadora está en general seguro.\n",
        "\n",
        "Siempre puedes iniciar de cero tu experimento en Colab, actualizando la página, o selecionando en el menú *Entorno de ejecución* la opción *Reiniciar entorno de ejecución*.\n",
        "\n",
        "❓ Modificando la lista original, agrega un nuevo elemento a `olla_tamales`. Verifica el resultado."
      ],
      "metadata": {
        "id": "_NXsTHzdft_n"
      }
    },
    {
      "cell_type": "markdown",
      "source": [
        "#### Strings y Listas\n",
        "\n",
        "Las strings pueden considerarse listas de caractéres (letras, números y símbolos), por lo que una buena parte de lo que hemos hecho con listas podemos hacerlo con strings.\n",
        "\n",
        "❓Usando slices, recupera el nombre del autor de la siguiente cita:"
      ],
      "metadata": {
        "id": "Qmc-RN3PfEfT"
      }
    },
    {
      "cell_type": "code",
      "source": [
        "frase = \"Knowing without seeing is at the heart of chemistry. -Roald Hoffmann\""
      ],
      "metadata": {
        "id": "LIfQ2rQShz4y"
      },
      "execution_count": null,
      "outputs": []
    },
    {
      "cell_type": "markdown",
      "source": [
        "## Diccionarios\n",
        "\n",
        "Otro tipo de colección que podemos crear son los diccionarios. Estos se componen por pares *llave:valor*. La llave se utiliza para identificar a los elementos (*valores*) de la colección, en lugar de los índices numéricos que se utilizan en las listas.\n",
        "\n",
        "Para definirlos, seguimos la siguiente sintaxis:\n",
        "```python\n",
        "nombre_diccionario = {llave1:valor1, llave2:valor2}\n",
        "```\n",
        "\n",
        "Para acceder a los elementos del diccionario:\n",
        "```python\n",
        "nombre_diccionario[llave1] # Accede a valor1\n",
        "```\n",
        "\n",
        "Las llaves suelen ser palabras, por lo que deben ser escritas entre comillas.\n",
        "\n",
        "Los diccionarios son una muy buena opción cuando resulta más conveniente recordar o usar una llave para acceder al valor que requerimos.\n",
        "\n",
        "❓La siguiente celda contiene un diccionario que contiene las masas molares de algunos átomos. Ejecuta esta celda. En segunda celda se desea calcular la masa molar de CaTiO$_3$; completa la instrucción para calcular la masa correcta."
      ],
      "metadata": {
        "id": "rXv3AOu5NkFS"
      }
    },
    {
      "cell_type": "code",
      "source": [
        "tabla1 = {'Ca': 40.078, 'Ti':47.867, 'O':16.000}"
      ],
      "metadata": {
        "id": "7zVTj_77Q60W"
      },
      "execution_count": null,
      "outputs": []
    },
    {
      "cell_type": "code",
      "source": [
        "mm_catio3 = tabla1['Ca']"
      ],
      "metadata": {
        "id": "jBAfDgRNRQc8"
      },
      "execution_count": null,
      "outputs": []
    },
    {
      "cell_type": "markdown",
      "source": [
        "## Extra: Colecciones anidadas\n",
        "\n",
        "Es posible tener una colección dentro de otra colección. Observa el siguiente ejemplo para una tabla periódica más elaborada:"
      ],
      "metadata": {
        "id": "KsbQoiZZQPnB"
      }
    },
    {
      "cell_type": "code",
      "source": [
        "tabla2 = {'Li':{'mm':6.96,'z':3,'bloque':'s'},\n",
        "          'Be':{'mm':9.01,'z':4,'bloque':'s'},\n",
        "          'B':{'mm':10.81,'z':5,'bloque':'p'},\n",
        "          'Cf':{'mm':250.51,'z':98,'bloque':'f'}}"
      ],
      "metadata": {
        "id": "rtxC1kV5SMM1"
      },
      "execution_count": null,
      "outputs": []
    },
    {
      "cell_type": "markdown",
      "source": [
        "## Tarea\n",
        "\n",
        "1. Otro tipo de dato en Python para almacenar colecciones de datos son las *tuplas*. La forma de definirlos es muy similar, pero en lugar de corchetes se utilizan paréntesis:\n",
        "\n",
        "```python\n",
        "tupla = (dato_1, dato_2, dato_3)\n",
        "```\n",
        "\n",
        "En un nuevo Notebook, realiza lo siguiente:\n",
        "\n",
        "  * Crea dos tuplas distintas que almacenen datos asociables a un laboratorio de Química (por ejemplo, volumen de matraces, nombres de reactivos, accidentes por semana).\n",
        "  * Realiza ejemplos de las siguientes operaciones sobre ambas tuplas, indicando en un comentario o celda de texto la operación que realizas: acceso a un elemento por índice, rebanadas, alterar un valor, tamaño de la colección, agregar un elemento al final.\n",
        "  * Indica qué diferencias encontraste entre las listas y las tuplas.\n",
        "\n"
      ],
      "metadata": {
        "id": "gErmTkU_e4ma"
      }
    },
    {
      "cell_type": "code",
      "source": [],
      "metadata": {
        "id": "Q_QGT2NgqAPo"
      },
      "execution_count": null,
      "outputs": []
    }
  ]
}