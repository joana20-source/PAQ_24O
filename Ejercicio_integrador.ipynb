{
  "nbformat": 4,
  "nbformat_minor": 0,
  "metadata": {
    "colab": {
      "provenance": [],
      "authorship_tag": "ABX9TyNh6vGyBdZ9Him5RtGtbxuO",
      "include_colab_link": true
    },
    "kernelspec": {
      "name": "python3",
      "display_name": "Python 3"
    },
    "language_info": {
      "name": "python"
    }
  },
  "cells": [
    {
      "cell_type": "markdown",
      "metadata": {
        "id": "view-in-github",
        "colab_type": "text"
      },
      "source": [
        "<a href=\"https://colab.research.google.com/github/joana20-source/PAQ_24O/blob/main/Ejercicio_integrador.ipynb\" target=\"_parent\"><img src=\"https://colab.research.google.com/assets/colab-badge.svg\" alt=\"Open In Colab\"/></a>"
      ]
    },
    {
      "cell_type": "markdown",
      "source": [
        "<a href=\"https://colab.research.google.com/github/joana20-source/PAQ_24O/blob/main/Ejercicio_integrador.ipynb\" target=\"_parent\"><img src=\"https://colab.research.google.com/assets/colab-badge.svg\" alt=\"Open In Colab\"/></a>"
      ],
      "metadata": {
        "id": "4-xp1CrhE3A8"
      }
    },
    {
      "cell_type": "markdown",
      "source": [
        "La velocidad cuadrática media de un gas está definida por la expresión matemática siguiente\n",
        "\n",
        "$u_{ms} = \\sqrt{3RT/\\mu} $\n",
        "\n",
        "donde $\\mu$ es igual a $N_{A}m$ con m igual a la masa y R es igual a 8.314 J/K.\n",
        "\n",
        "1) Calcula la velocidad cuadrática media de los átomos de helio y de las moléculas de nitrógeno en m/s a 25 °C.\n",
        "\n",
        "\n",
        "2) Repita el procedimiento anterior para todos los gases noble."
      ],
      "metadata": {
        "id": "OeAcG_DmCvUY"
      }
    },
    {
      "cell_type": "code",
      "source": [],
      "metadata": {
        "id": "3JCfziiAEw63"
      },
      "execution_count": null,
      "outputs": []
    }
  ]
}