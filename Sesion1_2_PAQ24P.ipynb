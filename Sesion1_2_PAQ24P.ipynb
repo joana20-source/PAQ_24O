{
  "nbformat": 4,
  "nbformat_minor": 0,
  "metadata": {
    "colab": {
      "provenance": [],
      "toc_visible": true,
      "authorship_tag": "ABX9TyPIgZxZMfZbxYsWkVP7m9P2",
      "include_colab_link": true
    },
    "kernelspec": {
      "name": "python3",
      "display_name": "Python 3"
    },
    "language_info": {
      "name": "python"
    }
  },
  "cells": [
    {
      "cell_type": "markdown",
      "metadata": {
        "id": "view-in-github",
        "colab_type": "text"
      },
      "source": [
        "<a href=\"https://colab.research.google.com/github/molecular-mar/molecular-mar.github.io/blob/master/Sesion1_2_PAQ24P.ipynb\" target=\"_parent\"><img src=\"https://colab.research.google.com/assets/colab-badge.svg\" alt=\"Open In Colab\"/></a>"
      ]
    },
    {
      "cell_type": "markdown",
      "source": [
        "# Formato básico de Markdown\n",
        "---"
      ],
      "metadata": {
        "id": "FcVoAR3LKMUP"
      }
    },
    {
      "cell_type": "markdown",
      "source": [
        "## Jupyter Notebook y Google Colab\n",
        "---\n",
        "\n",
        "En este curso usaremos Jupyter Notebooks (en español se les conoce como libretas o cuadernos de Jupyter), documentos que combinan bloques de texto con bloques de código. Son de amplio uso en cómputo científico, ya que funcionan como bitácoras, donde corremos *experimentos* y documentamos nuestras observaciones.\n",
        "\n",
        "Este documento es una libreta de Jupyter, implementada en la herramienta Google Colab. Usaremos esta herramienta en general durante el curso.\n",
        "\n"
      ],
      "metadata": {
        "id": "DUBKK7haMO-K"
      }
    },
    {
      "cell_type": "markdown",
      "source": [
        "### Ventajas de Colab\n",
        "\n",
        "* No es necesario instalar nada, solo necesitas un navegador de internet.\n",
        "* Acceso a un equipo virtual con buenos recursos de cómputo.\n",
        "\n"
      ],
      "metadata": {
        "id": "m9-HXjdiMVkj"
      }
    },
    {
      "cell_type": "markdown",
      "source": [
        "### Desventajas de Colab\n",
        "\n",
        "* Indispensable el acceso a internet.\n",
        "* Pasos adicionales para acceder a archivos locales (en tu computadora).\n"
      ],
      "metadata": {
        "id": "GG8phTzaMZMC"
      }
    },
    {
      "cell_type": "markdown",
      "source": [
        "## Markdown\n",
        "\n",
        "Es un *lenguaje de marcado* (que utiliza *marcas* para indicar como debe distribuirse el contenido), muy utilizado en sitios web para escribir artículos en blogs, y para la documentación inicial de algunos *códigos*.\n",
        "\n",
        "NOTA: En este curso, usaremos la palabra código y programa de forma intercambiable.\n",
        "\n",
        "El texto que estás leyendo, y el anterior a éste, fue escrito usando Markdown. En Jupyter los bloques de texto se escriben usando Markdown.\n",
        "\n",
        "Para ver el código Markdown de un bloque de texto, has doble click sobre el mismo (prueba aquí).\n",
        "\n",
        "Para regresar a visualizar solo el texto, usa en tu teclado Shift(⇧)+ Enter.\n"
      ],
      "metadata": {
        "id": "Ixg_iOhkMcwt"
      }
    },
    {
      "cell_type": "markdown",
      "source": [
        "## Formato en Markdown  \n",
        "\n",
        "Una herramienta para separar visualmente secciones de téxto es una linea horizontal. Para escribir una, usa solo tres guiónes (---) en una linea de texto.\n",
        "```\n",
        "---\n",
        "```\n",
        "\n",
        "Ejemplo:\n",
        "\n",
        "---\n",
        "\n",
        "\n",
        "---\n",
        "\n",
        "Para escribir un título, se usa un gato (#). Debes poner un espacio entre # y tu título:\n",
        "```\n",
        "# Titulo\n",
        "```\n",
        "\n",
        "Ejemplo:\n",
        "\n",
        "# Hola UAMI\n",
        "\n",
        "Puedes agregar más de un # para escribir subtítulos. Según el número de #, cambiará el nivel del título (subtítulo, subsubtítulo, y así sucesivamente).\n",
        "\n",
        "---\n",
        "Para escribir en negritas, se usa doble asterísco (**) al inicio y al final:\n",
        "```\n",
        "**texto en negritas**\n",
        "```\n",
        "Ejemplo:\n",
        "\n",
        "**Este texto está en negritas.**\n",
        "\n",
        "---\n",
        "Para escribir en itálicas, se usa un solo asterísco (*) al inicio y al final:\n",
        "```\n",
        "*texto en itálica*\n",
        "```\n",
        "Ejemplo:\n",
        "\n",
        "*Este texto está en itálica.*\n",
        "\n",
        "---\n",
        "Para escribir ejemplos de código, se usan tres acentos (```) en la linea anterior al ejemplo y en la linea posterior. Para que aparezcan colores de apoyo, es necesario indicar el lenguaje después de los primeros tres acentos.\n",
        "\n",
        "````markdown\n",
        "```python\n",
        "# ejemplo de código\n",
        "```\n",
        "````\n",
        "\n",
        "Ejemplo:\n",
        "```python\n",
        "# Esto tiene formato de código\n",
        "print(\"Hola UAMI\")\n",
        "```\n",
        "\n",
        "---\n",
        "Para crear una lista, coloca un asterísco antes de cada elemento. Si quieres una sublista, pon al menos dos espacios antes del asterísco. El **identado** (espacios previo al renglón) determina a que lista pertenece el elemento.\n",
        "\n",
        "```\n",
        "* Primer elemento de la lista\n",
        "* Segundo elemento de la sublista\n",
        "  * Elemento de la sublista\n",
        "    * Elemento de la subsublista\n",
        "```\n",
        "Ejemplo:\n",
        "* Primer elemento de la lista\n",
        "* Segundo elemento de la sublista\n",
        " * Elemento de la sublista\n",
        "   * Elemento de la subsublista\n",
        "\n",
        "---\n",
        "Para incluir una imágen, usando una dirección web:\n",
        "\n",
        "```\n",
        "![Texto de respaldo](Dirección web)\n",
        "```\n",
        "El texto de respaldo aparece cuando la dirección web no es accesible.\n",
        "\n",
        "Ejemplo:\n",
        "\n",
        "![Logo de la UAM](https://upload.wikimedia.org/wikipedia/commons/thumb/d/d5/Logo_de_la_UAM.svg/1200px-Logo_de_la_UAM.svg.png)\n",
        "\n",
        "Intenta con una dirección web que no sea una imágen, para ver la función del texto de respaldo.\n"
      ],
      "metadata": {
        "id": "TPh0FUhx4aPo"
      }
    },
    {
      "cell_type": "markdown",
      "source": [
        "---\n",
        "### Extra (No considerar para la tarea)\n",
        "\n",
        "Puedes incluir ecuaciones usando formato LaTeX, encerrando la ecuación entre pares de símbolos de pesos ($$):\n",
        "\n",
        "```\n",
        "$$k=Ae^{\\frac{-E_a}{RT}}$$\n",
        "```\n",
        "\n",
        "Ejemplo:\n",
        "$$k=Ae^{\\frac{-E_a}{RT}}$$\n",
        "\n",
        "Encerrando la expresión entre un solo simbolo $, puedes incluir LaTeX en un mismo parrafo.\n",
        "\n",
        "```\n",
        "La formula del ácido sulfúrico es H$_2$SO$_4$\n",
        "```\n",
        "\n",
        "Ejemplo:\n",
        "H$_2$SO$_2$"
      ],
      "metadata": {
        "id": "cKKjAHhF2zi9"
      }
    },
    {
      "cell_type": "markdown",
      "source": [
        "# Tarea\n",
        "\n",
        "1. Crea una nueva libreta de Jupyter, y usando **al menos** las opciones de formato mencionadas, escribe un *breve* texto sobre **uno** de los siguientes temas:\n",
        "\n",
        "* Los carotenoides del Cempasúchil\n",
        "* Las antocianínas de la Nochebuena\n",
        "* La humulona del lúpulo\n",
        "\n",
        "*No se evaluará la investigación, sino el uso correcto y extensivo de Markdown.*\n"
      ],
      "metadata": {
        "id": "DkQuTkqGR7Gz"
      }
    },
    {
      "cell_type": "code",
      "source": [],
      "metadata": {
        "id": "R93kPYatVJUs"
      },
      "execution_count": null,
      "outputs": []
    }
  ]
}