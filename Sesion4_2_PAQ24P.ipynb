{
  "nbformat": 4,
  "nbformat_minor": 0,
  "metadata": {
    "colab": {
      "provenance": [],
      "authorship_tag": "ABX9TyMP1j2M8IQ6/7MuPkmxKRbH",
      "include_colab_link": true
    },
    "kernelspec": {
      "name": "python3",
      "display_name": "Python 3"
    },
    "language_info": {
      "name": "python"
    }
  },
  "cells": [
    {
      "cell_type": "markdown",
      "metadata": {
        "id": "view-in-github",
        "colab_type": "text"
      },
      "source": [
        "<a href=\"https://colab.research.google.com/github/molecular-mar/molecular-mar.github.io/blob/master/Sesion4_2_PAQ24P.ipynb\" target=\"_parent\"><img src=\"https://colab.research.google.com/assets/colab-badge.svg\" alt=\"Open In Colab\"/></a>"
      ]
    },
    {
      "cell_type": "markdown",
      "source": [
        "# Otras colecciones de datos\n",
        "\n",
        "---"
      ],
      "metadata": {
        "id": "Pa8zf7lZuT72"
      }
    },
    {
      "cell_type": "markdown",
      "source": [
        "## Diccionarios\n",
        "\n",
        "Otro tipo de colección que podemos crear son los diccionarios. Estos se componen por pares *llave:valor*. La llave se utiliza para identificar a los elementos (*valores*) de la colección, en lugar de los índices numéricos que se utilizan en las listas.\n",
        "\n",
        "Para definirlos, seguimos la siguiente sintaxis:\n",
        "```python\n",
        "nombre_diccionario = {llave1:valor1, llave2:valor2}\n",
        "```\n",
        "\n",
        "Para acceder a los elementos del diccionario:\n",
        "```python\n",
        "nombre_diccionario[llave1] # Accede a valor1\n",
        "```\n",
        "\n",
        "Las llaves suelen ser palabras, por lo que deben ser escritas entre comillas.\n",
        "\n",
        "Los diccionarios son una muy buena opción cuando resulta más conveniente recordar o usar una llave para acceder al valor que requerimos.\n",
        "\n",
        "❓La siguiente celda tiene un diccionario con las masas molares de algunos átomos. Ejecuta esta celda. En la segunda celda se desea calcular la masa molar de CaTiO$_3$; completa la instrucción para calcular la masa correcta."
      ],
      "metadata": {
        "id": "j4Udb2nadVe-"
      }
    },
    {
      "cell_type": "code",
      "source": [
        "tabla1 = {'Ca': 40.078, 'Ti':47.867, 'O':16.000}"
      ],
      "metadata": {
        "id": "7zVTj_77Q60W"
      },
      "execution_count": null,
      "outputs": []
    },
    {
      "cell_type": "code",
      "source": [
        "mm_catio3 = tabla1['Ca']"
      ],
      "metadata": {
        "id": "jBAfDgRNRQc8"
      },
      "execution_count": null,
      "outputs": []
    },
    {
      "cell_type": "markdown",
      "source": [
        "❓ Repite el procedimiento anterior para los compuestos:\n",
        "* CH$_4$\n",
        "* C$_6$H$_5$OH\n",
        "* Al$_2$(CH$_3$)$_6$"
      ],
      "metadata": {
        "id": "Do1gmBFrqO_p"
      }
    },
    {
      "cell_type": "markdown",
      "source": [
        "Observa el siguiente ejemplo para una tabla periódica más elaborada, con diccionario de diccionarios:"
      ],
      "metadata": {
        "id": "PH-4ZGlVrfoD"
      }
    },
    {
      "cell_type": "code",
      "source": [
        "tabla2 = {'Li':{'mm':6.96,'z':3,'bloque':'s'},\n",
        "          'Be':{'mm':9.01,'z':4,'bloque':'s'},\n",
        "          'B':{'mm':10.81,'z':5,'bloque':'p'},\n",
        "          'Cf':{'mm':250.51,'z':98,'bloque':'f'}}"
      ],
      "metadata": {
        "id": "rtxC1kV5SMM1"
      },
      "execution_count": null,
      "outputs": []
    },
    {
      "cell_type": "markdown",
      "source": [
        "## Tarea\n",
        "\n",
        "* Sube una copia de este notebook junto con los ejercicios solicitados arriba (con símbolo ❓).\n",
        "\n",
        "* Otro tipo de dato en Python para almacenar colecciones de datos son las *tuplas*. La forma de definirlos es muy similar, pero en lugar de corchetes se utilizan paréntesis:\n",
        "\n",
        "```python\n",
        "tupla = (dato_1, dato_2, dato_3)\n",
        "```\n",
        "\n",
        "En tu copia de este Notebook (el mismo indicado en el punto previo), realiza lo siguiente:\n",
        "\n",
        "  * Crea dos tuplas distintas que almacenen datos asociables a un laboratorio de Química (por ejemplo, volumen de matraces, nombres de reactivos, accidentes por semana).\n",
        "  * Realiza ejemplos de las siguientes operaciones sobre ambas tuplas, indicando en un comentario o celda de texto la operación que realizas: acceso a un elemento por índice, rebanadas, alterar un valor, tamaño de la colección, agregar un elemento al final.\n",
        "  * Indica qué diferencias encontraste entre las listas y las tuplas."
      ],
      "metadata": {
        "id": "RSIDwkuXopkP"
      }
    },
    {
      "cell_type": "code",
      "source": [],
      "metadata": {
        "id": "-QOelQjcoqMy"
      },
      "execution_count": null,
      "outputs": []
    }
  ]
}