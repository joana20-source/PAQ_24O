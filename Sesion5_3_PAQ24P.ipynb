{
  "nbformat": 4,
  "nbformat_minor": 0,
  "metadata": {
    "colab": {
      "provenance": [],
      "authorship_tag": "ABX9TyNv3NKzDtwDk2O+0lj8QzDR",
      "include_colab_link": true
    },
    "kernelspec": {
      "name": "python3",
      "display_name": "Python 3"
    },
    "language_info": {
      "name": "python"
    }
  },
  "cells": [
    {
      "cell_type": "markdown",
      "metadata": {
        "id": "view-in-github",
        "colab_type": "text"
      },
      "source": [
        "<a href=\"https://colab.research.google.com/github/molecular-mar/molecular-mar.github.io/blob/master/Sesion5_3_PAQ24P.ipynb\" target=\"_parent\"><img src=\"https://colab.research.google.com/assets/colab-badge.svg\" alt=\"Open In Colab\"/></a>"
      ]
    },
    {
      "cell_type": "markdown",
      "source": [
        "## Repaso de ciclos `for`\n",
        "La instrucción `for` nos permite realizar una serie de instrucciones de forma repetida. `for` utiliza un iterable (que puede ser, por ejemplo una lista, una tupla o un rango) para determinar cuantas veces se repetirán estas instrucciones, a la par de que habrá una variable que tomará como valor cada uno de los elementos del iterable en cuestión.\n",
        "\n",
        "### Ciclos `for` sobre dos listas\n",
        "\n",
        "Hasta ahora hemos visto como usar `for` para pasar por cada elemento de **una** lista. ¿Cómo podriamos pasar por cada elemento de **dos** listas? Si ambas listas son del mismo tamaño y recordando que podemos acceder a sus elementos usando índices, una forma puede ser la siguiente:"
      ],
      "metadata": {
        "id": "AykJ08rgM-UI"
      }
    },
    {
      "cell_type": "code",
      "source": [
        "edificio = ['R','T','AT','S','H']\n",
        "departamento = ['Química','Física','Matemáticas','Biología','Historia']\n",
        "# Nota como usamos un intervalo con tamaño igual a alguna de las listas.\n",
        "for i in range(len(edificio)):\n",
        "  print(edificio[i],departamento[i])"
      ],
      "metadata": {
        "id": "7C15yYv-fNyN"
      },
      "execution_count": null,
      "outputs": []
    },
    {
      "cell_type": "markdown",
      "source": [
        "### Cálculo de velocidad\n",
        "\n",
        "❓En las siguientes listas se reporta la distancia y el tiempo que utilizó un corredor en una prueba de atletismo. Calcula la velocidad en cada punto utilizando un `for`. *Consejo:* Nota que ambas listas tienen el mismo tamaño."
      ],
      "metadata": {
        "id": "KpHRFV0vcGIW"
      }
    },
    {
      "cell_type": "code",
      "source": [
        "distancia = [10, 30, 50, 70, 90, 110, 130, 150, 170, 190] # en metros\n",
        "tiempo = [1.5, 3.0, 4.5, 6.0, 7.5, 9.0, 10.5, 12.0, 13.5, 15.0] # en segundos"
      ],
      "metadata": {
        "id": "eSC93DrJchjA"
      },
      "execution_count": null,
      "outputs": []
    },
    {
      "cell_type": "markdown",
      "source": [
        "### Cálculo del promedio de masa atómica\n",
        "\n",
        "❓Crea un programa que calcule el promedio de las masas atómicas para una cantidad dada de elementos. El código debe *solicitar* al usuario la cantidad de elementos para los cuáles desea calcular el promedio. Usa un ciclo `for` para *pedir* al usuario que ingrese el simbolo de cada elemento y su masa atómica. Al final, imprime el valor promedio y la lista de símbolos de elementos.\n"
      ],
      "metadata": {
        "id": "ANRV_yrFaDNL"
      }
    },
    {
      "cell_type": "markdown",
      "source": [
        "### Corregir titulos\n",
        "\n",
        "❓Para un conjunto de soluciones se obtuvieron sus formulas químicas, concentraciones en M($\\frac{mol}{L}$) y sus volúmenes en cL (centilitros). Estos datos están almacenados en la lista `soluciones`. Completa las siguientes celdas de código según se pide."
      ],
      "metadata": {
        "id": "Z2Zw1sJ4Z_2U"
      }
    },
    {
      "cell_type": "code",
      "source": [
        "soluciones = [['NaCl', 0.66, 56], ['Cl', 1.18, 23], ['SO4', 1.92, 87], ['C2O2', 0.34, 11], ['[NaOH', 0.66, 42],  ['O2', 0.92, 66], ['MnO4', 2.12, 35], ['CuSO3', 3.8, 17]]\n",
        "\n",
        "# Cambia la siguiente linea\n",
        "solo_smiles =  [ for solucion in ]# Corrige para generar una lista que solo contenga las concentraciones"
      ],
      "metadata": {
        "id": "9c23V6buBQJ7"
      },
      "execution_count": null,
      "outputs": []
    },
    {
      "cell_type": "code",
      "source": [
        "# Cálculo del número de moleculas\n",
        "avogadro = 6.022 # Corrige esta linea\n",
        "n_moleculas = # Esta variable almacena los números de moléculas de cada solución\n",
        "for solucion in soluciones:\n",
        "  # Ajusta las siguientes lineas\n",
        "  concentracion =\n",
        "  volumen =\n",
        "  n_moleculas.(concentracion*volumen*Avogadro) # ¿Qué falta para almacenar el número de moléculas calculado?\n",
        "\n",
        "for indice in :\n",
        "  print(\"El número de moleculas para el compuesto\", soluciones[][0], \"es\", [indice])"
      ],
      "metadata": {
        "id": "v2OLLcBPK3A-"
      },
      "execution_count": null,
      "outputs": []
    }
  ]
}