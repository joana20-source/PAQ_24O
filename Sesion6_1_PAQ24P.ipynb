{
  "nbformat": 4,
  "nbformat_minor": 0,
  "metadata": {
    "colab": {
      "provenance": [],
      "authorship_tag": "ABX9TyOpTAmRCbROsbfTonP76O36",
      "include_colab_link": true
    },
    "kernelspec": {
      "name": "python3",
      "display_name": "Python 3"
    },
    "language_info": {
      "name": "python"
    }
  },
  "cells": [
    {
      "cell_type": "markdown",
      "metadata": {
        "id": "view-in-github",
        "colab_type": "text"
      },
      "source": [
        "<a href=\"https://colab.research.google.com/github/molecular-mar/molecular-mar.github.io/blob/master/Sesion6_1_PAQ24P.ipynb\" target=\"_parent\"><img src=\"https://colab.research.google.com/assets/colab-badge.svg\" alt=\"Open In Colab\"/></a>"
      ]
    },
    {
      "cell_type": "markdown",
      "source": [
        "# Principios de programación 5\n",
        "---"
      ],
      "metadata": {
        "id": "Tu_PRIDRA_rK"
      }
    },
    {
      "cell_type": "markdown",
      "source": [
        "NOTAS ADICIONALES:\n",
        "* Cuando definas una variable, este nombre no debe ser igual al de alguna función. Esto puede producir que ya no puedas utilizar correctamente la función.\n",
        "* En la barra del lado izquierdo, hay una opción con símbolo $\\{x\\}$. Esta opción te mostrará los tipos de tus variables, sin la necesidad de usar la función `type()`."
      ],
      "metadata": {
        "id": "p0N2HPr8LKzL"
      }
    },
    {
      "cell_type": "markdown",
      "source": [
        "## Condicionales\n",
        "---"
      ],
      "metadata": {
        "id": "XjemkhGDHBPz"
      }
    },
    {
      "cell_type": "markdown",
      "source": [
        "### Condición if\n",
        "\n",
        "Es posible controlar que una o varias instrucciones se ejecuten en nuestro programa, dada una condición. En el dia a dia, nosotros tomamos decisiones de esta forma:\n",
        "\n",
        "* **Si está nublado**, salimos con paraguas\n",
        "* **Si tengo examen el lunes**, estudio antes del lunes\n",
        "* **Si tengo hambre**, voy al kiosko por un sándwich\n",
        "\n",
        "En Python nosotros podemos tomar decisiones sobre que instrucciones ejecutar usando el condicional `if`, el cuál sigue la siguiente sintaxis:\n",
        "\n",
        "```python\n",
        "if condicion: # Si se cumple la condición\n",
        "  instruccion_1 # Se ejecutan estas instrucciones identadas\n",
        "  instruccion_2\n",
        "  ...\n",
        "```\n",
        "\n",
        "Comenzamos por la palabra `if`, seguidos de una condición, y terminamos la instrucción usando `:`. Luego, en las siguientes lineas, identadas como en el caso de `for`, indicamos que instrucciones se realizarán si la condición se cumple.\n",
        "\n",
        "Por ejemplo, si tenemos una solución cualquiera, podemos medir su pH y tener la siguiente clasificación:\n",
        "* Si $0< pH < 7$, la solución es ácida.\n",
        "* Si $pH = 7$, la solución es neutra.\n",
        "* Si $7 < pH < 14$, la solución es básica.\n",
        "\n",
        "Si quisieramos imprimir un mensaje si el pH (guardado en una variable) cumple con la condición adecuada, podriamos escribir:\n",
        "\n",
        "```python\n",
        "pH = 0 # Prueba con diferentes valores\n",
        "if pH < 7:\n",
        "  print(\"La solución es ácida\")\n",
        "```\n",
        "❓Copia el código anterior y prueba cambiando el valor del pH para soluciones no ácidas.\n",
        "\n"
      ],
      "metadata": {
        "id": "Ux5vsWZFrRbT"
      }
    },
    {
      "cell_type": "code",
      "source": [],
      "metadata": {
        "id": "j_UbEeEf-XwZ"
      },
      "execution_count": null,
      "outputs": []
    },
    {
      "cell_type": "markdown",
      "source": [
        "### Lógica\n",
        "\n",
        "Si escribiéramos en español lo que se evalúa al usar `if`, podríamos escribir: *Si la condición es verdad, entonces realiza las siguientes instrucciones.* Una condición, como la que describimos previamente, al ser evaluada solo puede dar como resultado una de dos posibilidades: o es **cierta** o es **falsa**. Por ejemplo, en `ph < 7`, solo hay dos posibilidades: o *`ph` es menor que 7*, lo cuál resultaría en que la condición se cumple y **es cierta**, o *es mayor o igual a 7*, en cuyo caso la condición se evalúa como **falsa**.\n",
        "\n",
        "Los `bool`, o *booleanos* en español, son otro tipo de dato que es utilizado en este tipo de operaciones condicionales. Este tipo de datos solo puede tomar dos valores posibles: **`True`** o **`False`**. Al igual que con otros tipos de datos, podemos definir variables que sean de tipo bool: `variable = True`. Estos valores booleanos forman parte de las palabras reservadas de Python, por lo que no debemos utilizarlas para definir una variable (No hacer `True = dato`).\n",
        "\n",
        "❓Define tres variables: una que almacene `True`, otra que almacene `False`, y una que almacene `ph < 7` (cuida de `ph` esté definido). Verifica el tipo de ambas usando `type()`, e intenta convertirlas a tipos distintos (recuerda las funciones `int()`,  `float()` y `str()`)."
      ],
      "metadata": {
        "id": "_ONM6juNBVXG"
      }
    },
    {
      "cell_type": "code",
      "source": [],
      "metadata": {
        "id": "_LM4vAi_ijTm"
      },
      "execution_count": null,
      "outputs": []
    },
    {
      "cell_type": "markdown",
      "source": [
        "#### Operadores de comparación e identidad\n",
        "\n",
        "Hay otras operaciones que pueden pensarse como *pruebas de verdad* (¿Se cumple lo que la operación indica?). Algunos de estos los llamaremos *operadores de comparación*, dado que la prueba que realizan consiste en justo comparar dos datos.  A continuación se muestra una tabla con algunos operadores de este tipo:\n",
        "\n",
        "\n",
        "|Operador|Interpretación|\n",
        "|:---:|---|\n",
        "|`<`|Menor que|\n",
        "|`>`|Mayor que|\n",
        "|`<=`|Menor igual que ($\\leq$)|\n",
        "|`<=`|Mayor igual que ($\\geq$)|\n",
        "|`==`|Igual a|\n",
        "|`!=`|Diferente a|\n",
        "|`is`|Idéntico a|\n",
        "\n",
        "❓Usando las variables de la siguiente celda de código, escribe operaciones que cumplan lo siguiente usando los operadores de comparación:\n",
        "\n",
        "* var1 y var2 -> True\n",
        "* var1 y var4 -> True\n",
        "* var3 y var4 -> False\n",
        "* var5 y var6 -> False\n",
        "* var4 **is** ❗ -> True (Colocar en lugar de ❗ un dato adecuado)"
      ],
      "metadata": {
        "id": "e3R2QXGg4c3C"
      }
    },
    {
      "cell_type": "code",
      "source": [
        "var1 = 10\n",
        "var2 = 6\n",
        "var3 = 1E-4\n",
        "var4 = 10.0\n",
        "var5 = \"adn\"\n",
        "var6 = \"dimetilformamida\""
      ],
      "metadata": {
        "id": "eYYM3Mj0-D8V"
      },
      "execution_count": 4,
      "outputs": []
    },
    {
      "cell_type": "markdown",
      "source": [
        "❓Crea dos condiciones nuevas para `ph`, usando `if`, adecuadas para indicar si la solución es básica o neutra, usando los operadores recién vistos."
      ],
      "metadata": {
        "id": "dCGWsbae-E_G"
      }
    },
    {
      "cell_type": "code",
      "source": [],
      "metadata": {
        "id": "fxZ5juvt-N7f"
      },
      "execution_count": null,
      "outputs": []
    },
    {
      "cell_type": "markdown",
      "source": [
        "#### Operadores lógicos\n",
        "\n",
        "Podemos crear condiciones compuestas haciendo uso de *operadores lógicos*. A continuación se muestra una tabla con algunos de estos operadores:\n",
        "\n",
        "|Operador|Interpretación|\n",
        "|--|--|\n",
        "|`and`|*y*|\n",
        "|`or`|*o*|\n",
        "|`not`|*no es*|\n",
        "\n",
        "Las operaciones `and` y `or`, al igual que los operadores de comparación, necesitan de dos datos que primero se convierten a tipo booleano. En la siguiente tabla podemos observar los posibles resultados (indicado por Y en la tabla) para las combinaciones de ambos datos (señalados por A y B en la tabla). Recuerda que 0 equivale a `False` y 1 a `True`:\n",
        "\n",
        "![](https://ecuarobot.com/wp-content/uploads/2020/03/NMssklexG.png)\n",
        "\n",
        "Podemos observar lo siguiente:\n",
        "\n",
        "* `and` solo resulta en `True` si ambos datos son `True`, de lo contrario da `False`.\n",
        "* `or` resulta en `True` si al menos uno de los datos es `True`, y solo da `False` si ambos datos son `False`.\n",
        "* `not` solo necesita un dato y da como resultado el valor opuesto.  \n",
        "\n",
        "Observemos el siguiente ejemplo. En la variable `sandwich` guardaremos un booleano que indique si hay o no sándwich en el kiosko. En la variable `torta` haremos algo similar, pero para las tortas. Al usar los operadores lógicos podemos representar diferentes situaciones, indicadas en los comentarios."
      ],
      "metadata": {
        "id": "1lqntx3I-oxM"
      }
    },
    {
      "cell_type": "code",
      "source": [
        "sandwich = True\n",
        "torta = False\n",
        "# En las siguientes instrucciones, True indicará\n",
        "# que si iremos a comprar al kiosko.\n",
        "print(sandwich and torta) # Solo iremos si hay sandwiches y tortas\n",
        "print(sandwich or torta) # Iremos si hay al menos alguno de los dos\n",
        "print(not sandwich) # Iremos si no hay sandwiches"
      ],
      "metadata": {
        "id": "RTiPRpdaMiGG"
      },
      "execution_count": null,
      "outputs": []
    },
    {
      "cell_type": "markdown",
      "source": [
        "❓Crea dos variables que almacenen booleanos. Una que represente si hay entrada libre en un museo, y otra que indique si está cerca de tu casa. Usando operadores lógicos, escribe una operación que de como resultado `True` solo si el museo tiene entrada libre y está cerca de tu casa."
      ],
      "metadata": {
        "id": "kSMiUH4NAY8J"
      }
    },
    {
      "cell_type": "markdown",
      "source": [
        "❓Usando los operadores hasta ahora abordados, crea nuevas condiciones `if` para `ph` cuando la solución es ácida o es básica, pero incluyendo la *restricción* de que el pH debe estar entre 0 y 14. Prueba con valores distintos de `ph` que las condiciones funcionan correctamente."
      ],
      "metadata": {
        "id": "_sAOd3NVCE0a"
      }
    },
    {
      "cell_type": "markdown",
      "source": [
        "### Condiciones `else` y `elif`\n",
        "\n",
        "Luego de ejecutar un `if` se ejecutaran las instrucciones fuera del bloque (que no están identadas). Veamos el siguiente ejemplo:\n",
        "\n"
      ],
      "metadata": {
        "id": "xX3m08LKBr8E"
      }
    },
    {
      "cell_type": "code",
      "source": [
        "hay_cafe = True\n",
        "if hay_cafe:\n",
        "  print(\"Tomemos un café\")\n",
        "print(\"¿Tienes tiempo el viernes?\")"
      ],
      "metadata": {
        "id": "7YrE4GAYRNqA"
      },
      "execution_count": null,
      "outputs": []
    },
    {
      "cell_type": "markdown",
      "source": [
        "Quizá sería conveniente que la condición anterior indique que realizar solo cuando no hay café, es decir **solo cuando la condición no se cumple**. Para ejecutar acciones solamente cuando no se cumple la condición `if` podemos utilizar la condición `else`:\n",
        "\n",
        "\n",
        "```python\n",
        "if condicion:\n",
        "  instruccion1 #Si condicion da como resultado True, se ejecuta esto\n",
        "  instruccion2\n",
        "else:\n",
        "  instruccion3 #Si condicion es False, se ejecuta esto otro\n",
        "instruccion4 #Sin importar el resultado de condicion, después de lo anterior se ejecuta esto.\n",
        "```\n",
        "Si la alternativa es tomar un chocolate si no hay café, tendriamos:\n",
        "\n"
      ],
      "metadata": {
        "id": "i3_JGUucHR_y"
      }
    },
    {
      "cell_type": "code",
      "source": [
        "hay_cafe = True\n",
        "if hay_cafe:\n",
        "  print(\"Tomemos un café\")\n",
        "else:\n",
        "  print(\"Tomemos un chocolate\")\n",
        "print(\"¿Tienes tiempo el viernes?\")"
      ],
      "metadata": {
        "id": "ErR0KMc-HSZD"
      },
      "execution_count": null,
      "outputs": []
    },
    {
      "cell_type": "markdown",
      "source": [
        "❓Escribe un código para el tipo de solución dado el pH, que indique si la solución es ácida o si la solución **no** es ácida. Sin importar el pH, el código debe imprimir el mensaje \"Verifica con un indicador de pH\"."
      ],
      "metadata": {
        "id": "ZomrPP_D8k89"
      }
    },
    {
      "cell_type": "code",
      "source": [],
      "metadata": {
        "id": "h9YiQTC88goj"
      },
      "execution_count": null,
      "outputs": []
    },
    {
      "cell_type": "markdown",
      "source": [
        "También podemos incluir condiciones intermedias: cuando la condición `if` no se cumple, podemos utilizar `elif` para evaluar una o varias nuevas condiciones. Podemos o no al final incluir una condición `else`, que se evaluará solo si no se cumple ni la condición `if` ni las condiciones `elif`.\n",
        "\n",
        "```python\n",
        "if condicion1:\n",
        "  ... # Si se cumple condicion1, esto se ejecuta\n",
        "elif condicion2:\n",
        "  ...# Si no se cumple condicion1, evaluar condicion2. Si se cumple condicion 2, esto se ejecuta\n",
        "elif condicion3:\n",
        "  ...\n",
        "else:# Si no se cumple ninguna condicion, esto se ejecuta\n",
        "  ...\n",
        "```\n",
        "\n",
        "Por ejemplo:"
      ],
      "metadata": {
        "id": "YXFSqT3LJBY7"
      }
    },
    {
      "cell_type": "code",
      "source": [
        "hay_cafe = False\n",
        "hay_te = False\n",
        "if hay_cafe:\n",
        "  print(\"Tomemos un café\")\n",
        "elif hay_te:\n",
        "  print(\"Tomemos un té\")\n",
        "else:\n",
        "  print(\"Tomemos un chocolate\")\n",
        "print(\"¿Tienes tiempo el viernes?\")"
      ],
      "metadata": {
        "id": "RCenUTRH98uX"
      },
      "execution_count": null,
      "outputs": []
    },
    {
      "cell_type": "markdown",
      "source": [
        "❓Crea un pequeño programa que indique si la solución es ácida, básica, neutra, o si el pH no está en el intervalo $[0,14]$. Utiliza `input()` para hacerlo interactivo. Debe mostrar un mensaje de bienvenida y uno de despedida, ayudando a indicar el inicio y final del programa."
      ],
      "metadata": {
        "id": "m8TIi7cb99G8"
      }
    },
    {
      "cell_type": "code",
      "source": [],
      "metadata": {
        "id": "1tJ1X5R199nM"
      },
      "execution_count": null,
      "outputs": []
    },
    {
      "cell_type": "markdown",
      "source": [
        "## Ejecución en la terminal\n",
        "\n",
        "Por ahora, la mayor parte de nuestra programación la hemos realizado exclusivamente en los notebooks de Jupyter. Pero en ocasiones, una vez que hemos desarrollado un procedimiento adecuado, necesitaremos ejecutar el programa sin tener que abrir el notebook. Para ello, tenemos que seguir algunos pasos:\n",
        "\n",
        "1.   Debemos escribir en un archivo de texto nuestro procedimiento. Esto puede hacerse escribiendo en un notebook de Jupyter nuevo, en una sola celda de código, las instrucciones del programa\n",
        "2.   Descargamos nuestro programa en formato .py, siguiendo las opciones *Archivo → Descargar → Descargar .py*\n",
        "3. En Linux o Mac, por medio de la terminal debemos ubicarnos en el folder donde está el archivo (o, equivalentemente, mover al archivo a nuestra ubicación). En Windows puede usarse la terminal o el explorador.\n",
        "4. Ejecutamos el archivo, ya sea usando `python programa.py` o con doble click sobre el archivo.\n",
        "\n",
        "❓Descarga el programa para imprimir nuestro tipo de solución dado su pH, y ejecutalo. Sigue las instrucciones anteriores. Incluye abajo una captura de pantalla de la ejecución de un ejemplo.\n",
        "\n"
      ],
      "metadata": {
        "id": "DBeXtnZ7EU_U"
      }
    },
    {
      "cell_type": "markdown",
      "source": [
        "## Tarea\n",
        "\n",
        "1. Supón que aislamos una pequeña proteina formada por la siguiente cadena de aminoácidos: MKTGRLLVYHSLDPNQWE (cada letra representa un aminoácido, puedes verificar en tablas). Almacena esta cadena en una variable. Usando `for` (considera que los strings son iterables, o listas de caracteres), itera sobre cada aminoácido e imprime en que número de aminoácido se encuentra el cíclo. Usando un `if` dentro del ciclo `for`, indica cuando el aminoácido sea leucina (L). Repite el ejercicio anterior, pero solamente imprime el número de aminoácido cuando este sea leucina.\n",
        "\n",
        "3. La siguiente lista muestra una serie de energías de interacción (en kJ/mol) entre algunos pares de átomos:\n",
        "`interacciones=[1.5, 20.14, 6.2, 3E4, 191.9, 0.3, -200]`\n",
        "\n",
        "\n",
        "\n",
        "Asumamos que valores positivos de energía se asocian a interacciones atractivas. Dada la siguiente clasificación:\n",
        "\n",
        "* Enlace iónico: mayor que 600 kJ/mol\n",
        "* Enlace covalente: 150-400 kJ/mol\n",
        "* Puente de hidrógeno: 6-30 kJ/mol\n",
        "* Interacción de van der Waals: 2-4 kJ/mol\n",
        "\n",
        "Crea un programa que, dentro de un ciclo, indique que tipo de enlace podría existir para cada energía de la lista. Indicar **además** cuando la **energía esté entre dos clasificaciones distintas**, y **cuando la energía sea repulsiva**."
      ],
      "metadata": {
        "id": "ylYI8qTW-Gxd"
      }
    },
    {
      "cell_type": "code",
      "source": [],
      "metadata": {
        "id": "8graavtuGZTM"
      },
      "execution_count": null,
      "outputs": []
    }
  ]
}