{
  "nbformat": 4,
  "nbformat_minor": 0,
  "metadata": {
    "colab": {
      "provenance": [],
      "authorship_tag": "ABX9TyP4QnQ8RL61vmOOHHd/WHNS",
      "include_colab_link": true
    },
    "kernelspec": {
      "name": "python3",
      "display_name": "Python 3"
    },
    "language_info": {
      "name": "python"
    }
  },
  "cells": [
    {
      "cell_type": "markdown",
      "metadata": {
        "id": "view-in-github",
        "colab_type": "text"
      },
      "source": [
        "<a href=\"https://colab.research.google.com/github/molecular-mar/molecular-mar.github.io/blob/master/Sesion9_1_PAQ24P.ipynb\" target=\"_parent\"><img src=\"https://colab.research.google.com/assets/colab-badge.svg\" alt=\"Open In Colab\"/></a>"
      ]
    },
    {
      "cell_type": "markdown",
      "source": [
        "# Módulos y paquetes\n",
        "---\n"
      ],
      "metadata": {
        "id": "J9VIQaPeJ0Zd"
      }
    },
    {
      "cell_type": "markdown",
      "source": [
        "Las funciones resultan de gran utilidad al condensar procedimientos que no quisieramos escribir desde cero cada que sean necesarios. Hasta ahora solo hemos usado las funciones que hemos definido y las llamadas *funciones internas*, que Python reconoce sin necesidad de pasos adicionales.\n",
        "\n",
        "La gran mayoría de las funciones de uso común en Python provienen de *paquetes*, que son compendios de funciones (y variables) previamente desarrollados con un fin específico. Dichas funciones se encuentran almacenadas en archivos, conocidos como módulos. En otros lenguajes a este tipo de compendios se les conocen como *bibliotecas*, o debido a una traducción incorrecta del inglés como *librerias*.\n",
        "\n",
        "Para utilizar un paquete debemos utilizar la instrucción `import`:\n",
        " ```python\n",
        " import paquete\n",
        " ```\n",
        "\n",
        " Un paquete común es el de funciones matemáticas `math`, el cuál incluye funciones como la raíz cuadrada, funciones trigonométricas, función logaritmo, constantes como $\\pi$ o $e$, entre otras."
      ],
      "metadata": {
        "id": "3mp2K_h9O4pw"
      }
    },
    {
      "cell_type": "code",
      "source": [
        "import math\n",
        "\n",
        "# Para utilizar una función de un paquete, debemos escribir el nombre\n",
        "# del paquete, un punto y el nombre de la función del paquete.\n",
        "print(math.sqrt(4))\n",
        "print(math.log(math.e)) # Nota que e, al ser un número, no va acompañado de parentesis\n",
        "print(math.pi)"
      ],
      "metadata": {
        "id": "3pC8p1m1Q9ts"
      },
      "execution_count": null,
      "outputs": []
    },
    {
      "cell_type": "markdown",
      "source": [
        "En la práctica no es muy común el uso del paquete `math`. En su lugar se utiliza **Numpy**, cuyas capacidades son más extensas y emplea algoritmos más eficientes.\n",
        "\n",
        "Es frecuente usar abreviaturas para no escribir el nombre completo del paquete. Con este fin usamos la instrucción `as`:"
      ],
      "metadata": {
        "id": "KxDB6Q2KRjau"
      }
    },
    {
      "cell_type": "code",
      "source": [
        "import numpy as np #usaremos np como 'apodo' de numpy\n",
        "\n",
        "np.pi"
      ],
      "metadata": {
        "id": "gsLgHTn0wRKM"
      },
      "execution_count": null,
      "outputs": []
    },
    {
      "cell_type": "markdown",
      "source": [
        "Con la instrucción anterior, le hemos puesto un *apodo* al paquete `numpy`. Dicho apodo lo podemos definir como queramos, pero muchos paquetes suelen recomendar un apodo en específico, como es el caso de `np` para `numpy`."
      ],
      "metadata": {
        "id": "INaBT6LOd55u"
      }
    },
    {
      "cell_type": "markdown",
      "source": [
        "Escribir el nombre del paquete o la abreviatura para realizar una operación puede resultar engorroso. Pero tiene un uso importante: si nosotros definimos una variable llamada `pi`, no habrá confusiones internamente sobre cuál es nuestra variable y cuál la del paquete Numpy (`np.pi`). Cuando cargamos muchos paquetes es útil por los mismos motivos: quizá el paquete `numeros` tiene una función llamada `suma`, y el paquete `matriz` también. Podemos cargar ambos módulos y sin confusiones utilizar una función o la otra: `numeros.suma(2,3)` y `matriz.suma(A,B)`.\n",
        "\n",
        "Aún así, es posible cargar funciones o variables de un paquete de tal forma que no sea necesario indicar de que paquete proviene. Para ellos usamos la instrucción `from` antes de `import`:\n",
        "\n",
        "```python\n",
        "from paquete import funcion1, variable1, funcion2,...\n",
        "```\n",
        "\n"
      ],
      "metadata": {
        "id": "EF7poM3HY4sG"
      }
    },
    {
      "cell_type": "markdown",
      "source": [
        "Revisa el siguiente ejemplo, donde cargamos el submódulo `random` del paquete `numpy`, que incluye funciones para generar números aleatorios."
      ],
      "metadata": {
        "id": "HfEWoMm2e9Bq"
      }
    },
    {
      "cell_type": "code",
      "source": [
        "from numpy import sum\n",
        "sum([1,2,3])"
      ],
      "metadata": {
        "id": "3gonWamze5d7"
      },
      "execution_count": null,
      "outputs": []
    },
    {
      "cell_type": "markdown",
      "source": [
        "### Algunos paquetes comúnes para ciencias:\n",
        "\n",
        "* **Numpy**: Provee de herramientas para la manipulación de datos numéricos. Útil para problemas de álgebra lineal, generación de números aleatorios, manipulación de funciones, métodos numéricos.\n",
        "\n",
        "* **Matplotlib**: Nos permite realizar gráficas de diversos tipos con amplias capacidades de personalización.\n",
        "\n",
        "* **Pandas**: Para la creación y manipulación de datos en tablas, similar a lo que podríamos hacer en una hoja de cálculo.\n",
        "\n",
        "* **Sympy**: Para realizar cálculo simbólico, lo que permite realizar operaciones algebraicas con símbolos (como lo hacemos Mathematica o MatLab).\n",
        "\n",
        "* **Scikit-learn**: Para realizar procesos de aprendizaje automatizado, incluyendo clasificación, regresión y clustering.\n",
        "\n",
        "Dada su importancia, veremos a continuación algunos procedimientos básicos que podemos hacer con Numpy, Pandas y Matplotlib. Las siguientes secciones fueron tomadas o adaptadas del siguiente notebook: [Python para Química, parte 2](https://colab.research.google.com/github/molecular-mar/ws_python_quimica/blob/main/PythonQuimiK2.ipynb)."
      ],
      "metadata": {
        "id": "fWhQJq1qi96g"
      }
    },
    {
      "cell_type": "markdown",
      "source": [
        "### Numpy\n",
        "\n",
        "Como se indicó arriba, Numpy nos puede ayudar a realizar muchas operaciones matemáticas. Estas son accesibles de forma relativamente sencilla y además están optimizadas, por lo que se ejecutan más rápido que si nosotros crearamos una función con un fin similar. Puedes consultar más en la página del [Numpy](https://numpy.org/doc/stable/).\n",
        "Para empezar, en Numpy podemos crear un tipo de dato similar a las listas, conocido como *arreglo* o `array`. En la siguiente celda veamos un ejemplo de este tipo de dato:"
      ],
      "metadata": {
        "id": "vpZK9fB1meEU"
      }
    },
    {
      "cell_type": "code",
      "source": [
        "#Importante siempre cargar primero el paquete si no lo hemos hecho\n",
        "import numpy as np\n",
        "\n",
        "#Para crear desde cero un arreglo, indicando sus elementos:\n",
        "arreglo_1 = np.array([3,6,3,6,9])\n",
        "#Nota que el argumento es una lista\n",
        "\n",
        "#Podemos crear un arreglo de numpy desde una variable que sea una lista:\n",
        "lista_1 = [2,4,2,4,8]\n",
        "arreglo_2 = np.array(lista_1)\n",
        "\n",
        "print(arreglo_1, lista_1, arreglo_2)\n",
        "# Nota cuales son las diferencias al imprimir una lista o imprimir un arreglo"
      ],
      "metadata": {
        "id": "d2oEkFn3n1av"
      },
      "execution_count": null,
      "outputs": []
    },
    {
      "cell_type": "markdown",
      "source": [
        "Es posible realizar algunas operaciones que hemos visto en el curso de una forma sencilla usando Numpy:"
      ],
      "metadata": {
        "id": "xQvzvZbGqajG"
      }
    },
    {
      "cell_type": "code",
      "source": [
        "arr = np.array([0, 1, 2, 3, 4, 5, 6, 7, 8, 9])\n",
        "print(2 * arr) # ¿Cómo haríamos esto usando listas?"
      ],
      "metadata": {
        "id": "-mMT0Gyl3sRz"
      },
      "execution_count": null,
      "outputs": []
    },
    {
      "cell_type": "code",
      "source": [
        "# Para construir una matriz\n",
        "\n",
        "matriz1 = np.array([[1,2,3],[4,5,6],[7,8,9]])\n",
        "print(2 * matriz1) # Aplica igual que con un arreglo unidimensional"
      ],
      "metadata": {
        "id": "Ug5UpAKD43VM"
      },
      "execution_count": null,
      "outputs": []
    },
    {
      "cell_type": "markdown",
      "source": [
        "❓Crea la matriz:\n",
        "\n",
        "$$\\mathbf{A}=\\begin{bmatrix}\n",
        "1 & 0 & 0\\\\\n",
        "0 & 1 & 0\\\\\n",
        "0 & 0 & 1\n",
        "\\end{bmatrix}$$\n",
        "\n",
        "Crea y escribe una segunda matriz $\\mathbf{B}$ para que la suma $\\mathbf{A+B}$ dé como resultado la matriz $\\mathbf{C}$:\n",
        "\n",
        "$$\\mathbf{C}=\\begin{bmatrix}\n",
        "1 & 0 & 1\\\\\n",
        "0 & 2 & 0\\\\\n",
        "1 & 0 & 3\n",
        "\\end{bmatrix}$$\n",
        "\n",
        "Calcula e imprime la matriz $\\mathbf{C}$."
      ],
      "metadata": {
        "id": "D2c1khBY5U4C"
      }
    },
    {
      "cell_type": "markdown",
      "source": [
        "### Arreglos usando secuencias\n",
        "\n",
        "Podemos crear arreglos siguiendo secuencias que podamos definir de forma sencilla, similar a lo que haciamos con `range` pero con más posibilidades:\n"
      ],
      "metadata": {
        "id": "_BG96A-nXoKI"
      }
    },
    {
      "cell_type": "code",
      "source": [
        "# Con arange generamos secuencias como al usar range\n",
        "# arange(inicio, fin(no inclusivo), paso)\n",
        "arr = np.arange(0, 10, 0.5)\n",
        "arr"
      ],
      "metadata": {
        "id": "zpMVmKozXdzc"
      },
      "execution_count": null,
      "outputs": []
    },
    {
      "cell_type": "code",
      "source": [
        "# Con linspace debemos indicar el número de divisiones\n",
        "# linspace(inicio,fin(inclusivo),divisiones)\n",
        "arr = np.linspace(0,10, 20)\n",
        "arr"
      ],
      "metadata": {
        "id": "dqlHa4RHYFMR"
      },
      "execution_count": null,
      "outputs": []
    },
    {
      "cell_type": "markdown",
      "source": [
        "### Cambiando la forma del arreglo\n"
      ],
      "metadata": {
        "id": "lEtEQwqDXYvB"
      }
    },
    {
      "cell_type": "code",
      "source": [
        "# Para determinar la forma del arreglo, podemos usar shape y size\n",
        "print(matriz1)\n",
        "print(matriz1.size)\n",
        "print(matriz1.shape)"
      ],
      "metadata": {
        "id": "hhcaOf7bZaID"
      },
      "execution_count": null,
      "outputs": []
    },
    {
      "cell_type": "code",
      "source": [
        "# Podemos cambiar la forma del arreglo\n",
        "array_1D = np.linspace(0, 9.5, 20)\n",
        "array_2D = np.reshape(array_1D, (4, 5))\n",
        "array_2D"
      ],
      "metadata": {
        "id": "RN0Fj4p5bLl7"
      },
      "execution_count": null,
      "outputs": []
    },
    {
      "cell_type": "code",
      "source": [
        "# Para volverlo unidimensional (aplanarlo)\n",
        "print(array_2D.flatten())"
      ],
      "metadata": {
        "id": "LwHDcaLjcV3U"
      },
      "execution_count": null,
      "outputs": []
    },
    {
      "cell_type": "code",
      "source": [
        "# Podemos generar la transpuesta\n",
        "transpuesta_2D = array_2D.T\n",
        "print(array_2D, transpuesta_2D)"
      ],
      "metadata": {
        "id": "ceo5YL-RcYt6"
      },
      "execution_count": null,
      "outputs": []
    },
    {
      "cell_type": "markdown",
      "source": [
        "### Índices en Numpy\n",
        "\n"
      ],
      "metadata": {
        "id": "0u-cZf5Ieo-n"
      }
    },
    {
      "cell_type": "code",
      "source": [
        "# Para un arreglo de una dimensión, es igual que con listas\n",
        "array_1D[5]"
      ],
      "metadata": {
        "id": "sBJZOR4Oe8G5"
      },
      "execution_count": null,
      "outputs": []
    },
    {
      "cell_type": "code",
      "source": [
        "# Para un arreglo multidimensional, podemos hacer varias cosas\n",
        "array_2D[1] # Una fila completa"
      ],
      "metadata": {
        "id": "k78ZITJNfA-0"
      },
      "execution_count": null,
      "outputs": []
    },
    {
      "cell_type": "code",
      "source": [
        "array_2D[1][0] # Un solo elemento"
      ],
      "metadata": {
        "id": "QMlDXKOffQ3p"
      },
      "execution_count": null,
      "outputs": []
    },
    {
      "cell_type": "code",
      "source": [
        "array_2D[1,0] # Equivalente"
      ],
      "metadata": {
        "id": "u26SJG6ofYvH"
      },
      "execution_count": null,
      "outputs": []
    },
    {
      "cell_type": "code",
      "source": [
        "array_2D[:,1] # Una columna"
      ],
      "metadata": {
        "id": "BP24hukwfyH9"
      },
      "execution_count": null,
      "outputs": []
    },
    {
      "cell_type": "code",
      "source": [
        "# ¿Cómo accedemos al último elemento?"
      ],
      "metadata": {
        "id": "Pc91b-migFOR"
      },
      "execution_count": null,
      "outputs": []
    },
    {
      "cell_type": "markdown",
      "source": [
        "❓Para la matriz `D`, imprime los siguientes números.\n",
        "\n",
        "* 8\n",
        "* 2\n",
        "* La segunda columna\n",
        "* La tercera fila\n",
        "\n"
      ],
      "metadata": {
        "id": "OICEpPrh-_Ga"
      }
    },
    {
      "cell_type": "code",
      "source": [
        "D = np.array([[1,2,3],[4,5,6],[7,8,9]])"
      ],
      "metadata": {
        "id": "V8APWOdl_Kbi"
      },
      "execution_count": null,
      "outputs": []
    },
    {
      "cell_type": "markdown",
      "source": [
        "---\n",
        "### Operaciones algebraicas"
      ],
      "metadata": {
        "id": "xl9oybd_rQKI"
      }
    },
    {
      "cell_type": "code",
      "source": [
        "import numpy as np\n",
        "vec_a = np.array([1,2,1])\n",
        "vec_b = np.array([3,7,4])\n",
        "a = [[1,2],[3,4]]\n",
        "b = [[5,6],[7,8]]\n",
        "#Utiliza las matrices A y B previamente definidas\n",
        "producto_punto = np.dot(vec_a,vec_b) # Para realizar el producto punto\n",
        "producto_matricial = np.matmul(a,b) # Para realizar el producto matricial\n",
        "producto_matricial2 = np.dot(a,b) # Otra forma de realizar el producto matricial\n",
        "print(producto_punto)\n",
        "print(producto_cruz)\n",
        "print(producto_cruz2)"
      ],
      "metadata": {
        "id": "ZpktCfF0rXPg"
      },
      "execution_count": null,
      "outputs": []
    },
    {
      "cell_type": "code",
      "source": [
        "# Podemos resolver sistemas de ecuaciones lineales Ax=B\n",
        "mat_A = np.array([[4,-2,1],[-3,-1,4],[1,-1,3]])\n",
        "mat_B = np.array([15,8,13])\n",
        "np.linalg.solve(mat_A,mat_B)\n"
      ],
      "metadata": {
        "id": "DkA6cgfDtT6K"
      },
      "execution_count": null,
      "outputs": []
    }
  ]
}