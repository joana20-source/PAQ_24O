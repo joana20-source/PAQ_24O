{
  "nbformat": 4,
  "nbformat_minor": 0,
  "metadata": {
    "colab": {
      "provenance": [],
      "authorship_tag": "ABX9TyMwjjbXurv2YKnzrtr/1Fy0",
      "include_colab_link": true
    },
    "kernelspec": {
      "name": "python3",
      "display_name": "Python 3"
    },
    "language_info": {
      "name": "python"
    }
  },
  "cells": [
    {
      "cell_type": "markdown",
      "metadata": {
        "id": "view-in-github",
        "colab_type": "text"
      },
      "source": [
        "<a href=\"https://colab.research.google.com/github/joana20-source/PAQ_24O/blob/main/ejemplo_examen2.ipynb\" target=\"_parent\"><img src=\"https://colab.research.google.com/assets/colab-badge.svg\" alt=\"Open In Colab\"/></a>"
      ]
    },
    {
      "cell_type": "markdown",
      "source": [
        "<a href=\"https://colab.research.google.com/github/joana20-source/PAQ_24O/blob/main/ejemplo_examen2.ipynb\" target=\"_parent\"><img src=\"https://colab.research.google.com/assets/colab-badge.svg\" alt=\"Open In Colab\"/></a>"
      ],
      "metadata": {
        "id": "-n_TnmUPNJQr"
      }
    },
    {
      "cell_type": "markdown",
      "source": [
        "# Examen parcial 2 - Programación Aplicada a la Química 24-P\n",
        "\n",
        "## Instrucciones:\n",
        "\n",
        "1. Lee este documento con cuidado.\n",
        "1. Puedes consultar tus notas en formato físico.\n",
        "1. El uso de IA, como ChatGPT o similares, es motivo de cancelación del examen."
      ],
      "metadata": {
        "id": "KHINtk93tHgw"
      }
    },
    {
      "cell_type": "markdown",
      "source": [
        "## Problema. Aventura en el laboratorio\n",
        "\n",
        "Escribe una función, llamada `uamito_en_laboratorio`, que regrese un mensaje adecuado de acuerdo con la siguiente historia. Pon atención a los parámetros necesarios para la historia: `bata`, `agua_o_acido`, `googles` y `rosa_claro`.\n",
        "\n",
        "Uamito tomará una clase de Laboratorio de Química Analítica el lunes a las 8:00 am. Para entrar al laboratorio es obligatorio el uso de la bata. Si uamito no lleva bata, no lo dejarán entrar y se irá a dormir a los pastos. Si uamito sí lleva la bata, entrará al laboratorio.\n",
        "\n",
        "Ya en clase, el profesor les pide preparar una solución de ácido clorhídrico diluído. Para ello, Uamito debe mezclar agua con el ácido concentrado. Si añade primero el agua, puede seguir con la clase. Si añade primero el ácido, el vaso va a salpicar; si uamito tenia googles, solo será regañado por el profesor, de lo contrario, tendrá que ir al servicio médico y tendrá NA.\n",
        "\n",
        "Luego de preparar la solución, se realizará una titulación utilizando un indicador de feloftaleína. Si la solución final de uamito es color rosa mexicano, uamito reprobó 😞. Si la solución es rosa claro, uamito aprobará la materia y su profesor lo felicitará 😄.  "
      ],
      "metadata": {
        "id": "San9o7tCu_2h"
      }
    }
  ]
}