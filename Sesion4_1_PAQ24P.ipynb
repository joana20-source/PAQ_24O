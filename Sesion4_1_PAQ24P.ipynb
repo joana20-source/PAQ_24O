{
  "nbformat": 4,
  "nbformat_minor": 0,
  "metadata": {
    "colab": {
      "provenance": [],
      "toc_visible": true,
      "authorship_tag": "ABX9TyPY2wumgUDM4vb8plW6MfGl",
      "include_colab_link": true
    },
    "kernelspec": {
      "name": "python3",
      "display_name": "Python 3"
    },
    "language_info": {
      "name": "python"
    }
  },
  "cells": [
    {
      "cell_type": "markdown",
      "metadata": {
        "id": "view-in-github",
        "colab_type": "text"
      },
      "source": [
        "<a href=\"https://colab.research.google.com/github/molecular-mar/molecular-mar.github.io/blob/master/Sesion4_1_PAQ24P.ipynb\" target=\"_parent\"><img src=\"https://colab.research.google.com/assets/colab-badge.svg\" alt=\"Open In Colab\"/></a>"
      ]
    },
    {
      "cell_type": "markdown",
      "source": [
        "# Principios de programación 3\n",
        "---"
      ],
      "metadata": {
        "id": "Tu_PRIDRA_rK"
      }
    },
    {
      "cell_type": "markdown",
      "source": [
        "## Colecciones de datos\n",
        "---"
      ],
      "metadata": {
        "id": "XjemkhGDHBPz"
      }
    },
    {
      "cell_type": "markdown",
      "source": [
        "\n",
        "### Listas\n",
        "\n",
        "Supongamos que deseamos almacenar en variables las masas molares de los primeros 10 elementos de la tabla periódica. Para ello tendríamos que hacer lo siguiente:\n",
        "\n",
        "```python\n",
        "mm_elemento_1 = 1.01\n",
        "mm_elemento_2 = 4.00\n",
        "mm_elemento_3 = 6.97\n",
        "mm_elemento_4 = 9.01\n",
        "mm_elemento_5 = 10.81\n",
        "mm_elemento_6 = 12.01\n",
        "mm_elemento_7 = 14.01\n",
        "mm_elemento_8 = 16.00\n",
        "mm_elemento_9 = 19.00\n",
        "mm_elemento_10 = 20.18\n",
        "```\n",
        "\n",
        "En algunos escenarios pude resultar más adecuado definir una *lista*, un tipo de dato en Python que almacena varios valores bajo un nombre común. Recordando la analogía de las variables y las cajas, una lista sería la caja donde guardamos otras cajas (o si pensamos en las variables como bolsas, una lista es como la bolsa donde guardamos las bolsas).\n",
        "\n",
        "❓Coloca otra analogía para las listas.\n",
        "\n",
        "Para definir una lista, encerramos una lista de datos entre corchetes `[]`, separando cada dato con comas:\n",
        "\n",
        "```python\n",
        "variable = [dato1, dato2, dato3]\n",
        "```\n",
        "\n",
        "Los nombres de variables para listas y otras colecciones de datos siguen las mismas restricciones y convenciones que las variables ya vistas.\n",
        "\n",
        "#### Nota importante:\n",
        "En general es muy poco recomendable utilizar acentos y símbolos propios del español dentro del código (letras acentuadas, ñ), con la única *excepción* dentro de textos/strings.\n",
        "\n",
        "❓ Escribe una lista de 5 elementos con datos de tu preferencia."
      ],
      "metadata": {
        "id": "_ONM6juNBVXG"
      }
    },
    {
      "cell_type": "markdown",
      "source": [
        "❓ En la siguiente celda de código (cc) está definida una lista `mm_elementos`. Completala para que almacene las masas molares de los primeros 10 elementos. Intenta verificar tu definición (¿Cómo lo hacíamos en la sesión anterior?)."
      ],
      "metadata": {
        "id": "i6J635K9kQpb"
      }
    },
    {
      "cell_type": "code",
      "source": [
        "mm_elementos = [1.01, 4.00]"
      ],
      "metadata": {
        "id": "yK_g2_tWJUfK"
      },
      "execution_count": null,
      "outputs": []
    },
    {
      "cell_type": "markdown",
      "source": [
        "Las listas pueden almacenar valores de diferentes tipos:\n",
        "```python\n",
        "mm_elementos = [1.01,4 ,'Li = 6.97']\n",
        "```\n",
        "\n",
        "**No suele recomendarse esto**, ya que en listas grandes esta disparidad en tipos de datos puede complicar su manipulación.\n",
        "\n",
        "❓Completa las siguientes listas con tipos de datos adecuados hasta que cada una tenga 5 elementos."
      ],
      "metadata": {
        "id": "FRH3V8hAJrZP"
      }
    },
    {
      "cell_type": "code",
      "source": [
        "n_coordinacion = [3,]\n",
        "grupos_funcionales = ['-OH',]"
      ],
      "metadata": {
        "id": "VTXCUbQ0uJ80"
      },
      "execution_count": null,
      "outputs": []
    },
    {
      "cell_type": "markdown",
      "source": [
        "#### Acceso a elementos en listas\n",
        "\n",
        "* Para acceder a un elemento de una lista utilizaremos los *índices de posición*:\n",
        "\n",
        "```python\n",
        "# Para acceder a un elemento:\n",
        "lista[indice]\n",
        "```\n",
        "\n",
        "En general estos índices comienzan por 0, por lo que si necesitamos el primer elemento de la lista usariamos `lista [0]`, y si necesitamos el segundo usariamos `lista[1]`.\n",
        "\n",
        "❓Accediendo a los elementos de la lista `mm_elementos` por medio de sus índices, calcula las masas molares de los siguientes compuestos, almacenandolos en variables con nombres adecuados. Imprime los resultados, señalando el compuesto asociado.\n",
        "* NH$_3$\n",
        "* CF$_4$Ne\n"
      ],
      "metadata": {
        "id": "sOtE4gWW8r7L"
      }
    },
    {
      "cell_type": "markdown",
      "source": [
        "Supongamos que te entregan una lista, pero no te dicen cuantos elementos tiene. Si quisieras acceder al último valor, ¿cómo lo harías?\n",
        "\n",
        "En Python puede hacerse uso de índices negativos, los cuales van en sentido opuesto y comienzan con `-1` para el último elemento:\n",
        "```python\n",
        "#Ultimo elemento de la lista\n",
        "lista[-1]\n",
        "```\n",
        "\n",
        "❓¿Cómo podrías acceder al penúltimo elemento?\n",
        "\n",
        "❓Usando índices negativos, calcula la masa molar de CF$_4$Ne."
      ],
      "metadata": {
        "id": "fIOhdafPRDYc"
      }
    },
    {
      "cell_type": "markdown",
      "source": [
        "### Rebanadas o Slices\n",
        "\n",
        "También podemos acceder a fragmentos con más de un elemento de una lista. Para ello usaremos las *rebanadas* o *slices*.\n",
        "\n",
        "```python\n",
        "# Usando slices:\n",
        "lista[inicio:fin]\n",
        "```\n",
        "\n",
        "**Importante**: El índice de *fin* en una rebanada nos indica hasta donde requerimos la rebanada, pero sin incluir dicho elemento. Prueba con varios ejemplos para que esto quede claro.\n",
        "\n",
        "Si necesitamos acceder por ejemplo del primer al tercer elemento, usariamos `lista[0:3]`.\n",
        "\n",
        "Es posible no definir el inicio o el fin, en cuyo caso se considera el último o el primer elemento como inicio o fin, correspondientemente. La rebanada antes descrita podría ser también `lista[:3]`.\n",
        "\n",
        "❓Usando slices, define una nueva lista de masas molares que contenga los elementos del segundo periodo de la tabla periódica.\n",
        "\n",
        "❓Verifica si la lista de masas molares fue afectada luego de utilizar la rebanada. Anota tu observación.\n",
        "\n",
        "❓Ejecuta la siguiente cc. En una nueva celda, genera rebanadas de la lista para los siguientes casos. Evita utilizar el índice 0 o el último.\n",
        "\n",
        "* Tres amigos que quieren tamales rojo, de rajas y de mole.\n",
        "* ¿Cuál sería la lista si se acabaron los tamales verdes?"
      ],
      "metadata": {
        "id": "r_erzqCbSl2u"
      }
    },
    {
      "cell_type": "code",
      "source": [
        "olla_tamales = ['verde', 'rojo', 'rajas', 'mole', 'dulce', 'oaxaqueño rojo']"
      ],
      "metadata": {
        "id": "iWfpzZbSYt1v"
      },
      "execution_count": null,
      "outputs": []
    },
    {
      "cell_type": "markdown",
      "source": [
        "### Alterando valores\n",
        "\n",
        "Para cambiar un valor, basta con redefinirlo como lo haríamos con una variable:\n",
        "\n",
        "```python\n",
        "lista[indice] = nuevo_valor\n",
        "```\n",
        "\n",
        "❓Altera al menos un valor de la lista `olla_tamales`."
      ],
      "metadata": {
        "id": "1pIhq7LEoftx"
      }
    },
    {
      "cell_type": "markdown",
      "source": [
        "### Funciones y métodos de listas\n",
        "\n",
        "La función `len(lista)` regresa el tamaño de una lista.\n",
        "\n",
        "❓Usa esta función para recuperar el tamaño de tres de las listas hasta ahora definidas.\n",
        "\n"
      ],
      "metadata": {
        "id": "fal9UC87S2gf"
      }
    },
    {
      "cell_type": "code",
      "source": [],
      "metadata": {
        "id": "afbEgaxlFHmi"
      },
      "execution_count": null,
      "outputs": []
    },
    {
      "cell_type": "markdown",
      "source": [
        "Los *métodos* son un tipo especial de funciones que se asocian a tipos de datos/variables específicos. Su notación ya no es parecida a la de las funciones matemáticas ($f(x)$). En su lugar, primero indicamos el dato sobre el que actúa ($x$) y luego indicamos el nombre del método ($f$):\n",
        "\n",
        "```python\n",
        "dato.metodo()\n",
        "```\n",
        "\n",
        "En el caso de las listas un método muy utilizado es `append()`, cuyo efecto es agregar al final de la lista nuevos elementos. Si quisieramos agregar la masa molar del elemento 11 a nuestra lista, usaríamos:\n",
        "\n",
        "```python\n",
        "mm_elementos.append(22.99)\n",
        "```\n",
        "\n",
        "❓ Ejecuta la instrucción anterior y verifica si modificó la lista correspondiente.\n",
        "\n",
        "❓ Usando append, añade a la lista las masas molares de Mg y Al.\n",
        "\n"
      ],
      "metadata": {
        "id": "zLydGpCZanGG"
      }
    },
    {
      "cell_type": "markdown",
      "source": [
        "Los métodos y las funciones no suelen alterar a la variable sobre la que actúan, sino que generan un resultado independiente. Esto **no siempre se cumple**, algunos métodos si alteran el valor de la variable.\n",
        "\n",
        "Un consejo para tu aprendizaje en programación: *Siempre hay que experimentar*. Antes de asumir que tu código va a funcionar como esperas, aún cuando lo has diseñado con cuidado, es importante realizar pruebas y registrar tus observaciones. Siempre puedes crear un pequeño ejemplo de prueba, con variables diferentes a las que utilizarás, en celdas de código separadas o incluso en un Notebook distinto. Lo peor que puede pasar es que encuentres errores que nutran tu aprendizaje. Además, como usamos Google Colab el contenido de tu computadora está en general seguro.\n",
        "\n",
        "Siempre puedes iniciar de cero tu experimento en Colab, actualizando la página, o selecionando en el menú *Entorno de ejecución* la opción *Reiniciar entorno de ejecución*.\n",
        "\n",
        "❓ Modificando la lista original, agrega un nuevo elemento a `olla_tamales`. Verifica el resultado."
      ],
      "metadata": {
        "id": "_NXsTHzdft_n"
      }
    },
    {
      "cell_type": "markdown",
      "source": [
        "---\n",
        "---"
      ],
      "metadata": {
        "id": "SyeA5qAboD-I"
      }
    },
    {
      "cell_type": "markdown",
      "source": [
        "### Strings y Listas\n",
        "\n",
        "Las strings pueden considerarse listas de caractéres (letras, números y símbolos), por lo que una buena parte de lo que hemos hecho con listas podemos hacerlo con strings.\n",
        "\n",
        "❓Usando slices, recupera el nombre del autor de la siguiente cita:"
      ],
      "metadata": {
        "id": "Qmc-RN3PfEfT"
      }
    },
    {
      "cell_type": "code",
      "source": [
        "frase = \"Knowing without seeing is at the heart of chemistry. -Roald Hoffmann\""
      ],
      "metadata": {
        "id": "LIfQ2rQShz4y"
      },
      "execution_count": null,
      "outputs": []
    },
    {
      "cell_type": "markdown",
      "source": [
        "❓ En una variable almacena la frase:\n",
        "\n",
        "```\n",
        "\"¿Cual es la comida favorita de los quimicos?...El mol-e xD\"\n",
        "```\n",
        "Usando slices extrae de la frase las siguientes palabras:\n",
        "* comida\n",
        "* quimicos\n",
        "* mol-e\n",
        "* xD\n"
      ],
      "metadata": {
        "id": "VFjFfqbylnVz"
      }
    },
    {
      "cell_type": "markdown",
      "source": [
        "### Listas anidadas\n",
        "\n",
        "Es posible tener una colección dentro de otra colección.\n",
        "La siguiente celda contiene una lista de listas:"
      ],
      "metadata": {
        "id": "KsbQoiZZQPnB"
      }
    },
    {
      "cell_type": "code",
      "source": [
        "solventes = [\"Hexano\", \"Benceno\", \"Agua\", \"DMF\"]\n",
        "solutos = [\"Sal\", \"Glucosa\", \"Cuprato\"]\n",
        "frascos = [solventes, solutos]\n",
        "print(frascos)"
      ],
      "metadata": {
        "id": "VzMaFtizrk8f",
        "outputId": "c3214670-5097-4fb3-b0ac-163d9ba1201b",
        "colab": {
          "base_uri": "https://localhost:8080/"
        }
      },
      "execution_count": null,
      "outputs": [
        {
          "output_type": "stream",
          "name": "stdout",
          "text": [
            "[['Hexano', 'Benceno', 'Agua', 'DMF'], ['Sal', 'Glucosa', 'Cuprato']]\n"
          ]
        }
      ]
    },
    {
      "cell_type": "markdown",
      "source": [
        "❓ Crea una lista anidada, llamada `unidades`, que contenga una lista con los nombres de las unidades de la UAM y una con los colores representativos de cada unidad. En otra celda accede al elemento con la unidad Lerma y a su color correspondiente."
      ],
      "metadata": {
        "id": "rl9_cXsSsJNC"
      }
    },
    {
      "cell_type": "markdown",
      "source": [
        "### Vectores y matrices\n",
        "\n",
        "Podemos pensar que una lista numérica es similar a los vectores que vemos en Álgebra lineal. Por ejemplo, supongamos un vector $\\mathbf{a}$ con 4 elementos:\n",
        "\\begin{align}\n",
        "    \\mathbf{a}=\\begin{bmatrix}\n",
        "           a_{1} \\\\\n",
        "           a_{2} \\\\\n",
        "           a_{3} \\\\\n",
        "           a_{4}\n",
        "    \\end{bmatrix}\n",
        "\\end{align}\n",
        "Podemos representar $\\mathbf{a}$ por una lista (los elementos de la lista deben ser variables previamente definidas o datos numéricos). En Python:\n",
        "\n",
        "```Python\n",
        "a = [a1, a2, a3, a4]\n",
        "```\n",
        "\n",
        "Asignando valores numéricos tendríamos:"
      ],
      "metadata": {
        "id": "6db0Rhwqw4vb"
      }
    },
    {
      "cell_type": "code",
      "source": [
        "a = [2, 4, 6, 8]"
      ],
      "metadata": {
        "id": "4J3ewt35xhIz"
      },
      "execution_count": null,
      "outputs": []
    },
    {
      "cell_type": "markdown",
      "source": [
        "❓ Define dos listas representando a los siguientes vectores $\\mathbf{a}$ y $\\mathbf{b}$:\n",
        "\n",
        "\\begin{align}\\mathbf{a}=\\begin{bmatrix}\n",
        "           4 \\\\\n",
        "           3 \\\\\n",
        "           0 \\\\\n",
        "    \\end{bmatrix}\\quad,\\quad \\mathbf{b}=\\begin{bmatrix}\n",
        "           0 \\\\\n",
        "           2 \\\\\n",
        "           6 \\\\\n",
        "    \\end{bmatrix}\n",
        "\\end{align}\n",
        "\n",
        "Definiendo una nueva lista que represente al vector (o escalar) $\\mathbf{c}$, en celdas separadas realiza las siguientes operaciones:\n",
        "\n",
        "* $\\mathbf{c}=\\mathbf{a}+\\mathbf{b}$\n",
        "* $\\mathbf{c}=5\\mathbf{a}$ (producto con escalar)"
      ],
      "metadata": {
        "id": "QHpzh7hZz6nV"
      }
    },
    {
      "cell_type": "markdown",
      "source": [
        "---\n",
        "Por otro lado, una matriz podria representarse como una lista de listas. Una matriz de tres por tres genérica tiene la forma:\n",
        "\n",
        "\\begin{align}\n",
        "    \\mathbf{A}=\\begin{bmatrix}\n",
        "           a_{11} & a_{12} & a_{13} \\\\\n",
        "          a_{21} & a_{22} & a_{23}\\\\\n",
        "          a_{31} & a_{32} & a_{33} \\\\\n",
        "    \\end{bmatrix}\n",
        "\\end{align}\n",
        "\n",
        "Para un elemento dado de la matriz, $a_{ij}$, el indice $i$ indica la fila y el indice $j$ la columna. Por ejemplo, la matriz identidad $\\mathbf{I}$ 3x3:\n",
        "\n",
        "\\begin{align}\n",
        "    \\mathbf{I}=\\begin{bmatrix}\n",
        "           1 &0 &0 \\\\\n",
        "          0 &1 &0\\\\\n",
        "          0 & 0 &1 \\\\\n",
        "    \\end{bmatrix}\n",
        "\\end{align}\n",
        "\n",
        "En Python, sería:"
      ],
      "metadata": {
        "id": "PIpEXHxryIKd"
      }
    },
    {
      "cell_type": "code",
      "source": [
        "I = [[1,0,0],[0,1,0],[0,0,1]]"
      ],
      "metadata": {
        "id": "8rOQoTsozPsE"
      },
      "execution_count": null,
      "outputs": []
    },
    {
      "cell_type": "markdown",
      "source": [
        "## Tarea\n",
        "* Definiendo una nueva lista que represente al vector (o escalar) $\\mathbf{c}$, en celdas separadas realiza las siguientes operaciones (considerando los vectores $\\mathbf{a}$ y $\\mathbf{b}$ mencionados arriba):\n",
        "\n",
        "  * $c=\\mathbf{a} \\cdot \\mathbf{b}$ (producto punto)\n",
        "  * $\\mathbf{c}=\\mathbf{a} \\times \\mathbf{b}$ (producto cruz)\n",
        "    \n",
        "Imprime en cada caso el vector resultante.\n",
        "\n",
        "\n"
      ],
      "metadata": {
        "id": "gErmTkU_e4ma"
      }
    },
    {
      "cell_type": "markdown",
      "source": [
        "* En una nueva celda define una lista de listas que represente a la siguiente matriz:\n",
        "\\begin{align}\n",
        "        \\mathbf{A}=\\begin{bmatrix}\n",
        "           1 & 2 & 3 \\\\\n",
        "           4 & 5 & 6 \\\\\n",
        "           7 & 8 & 9\n",
        "    \\end{bmatrix}\n",
        "    \\end{align}\n",
        "\n",
        "Imprime lo siguiente:\n",
        "* La lista que acabas de definir. Si por ejemplo la defines como `A`, usa `print(A)`.\n",
        "* `A[0]` (identifica que elemento o elementos $a_{ij}$ imprimes).\n",
        "* `A[0][0]` (identifica que elemento o elementos $a_{ij}$ imprimes).\n",
        "* Dado lo observado, imprime todos los elementos diagonales de $\\mathbf{A}$.\n"
      ],
      "metadata": {
        "id": "iQvCpaX5epau"
      }
    }
  ]
}