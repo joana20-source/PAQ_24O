{
  "nbformat": 4,
  "nbformat_minor": 0,
  "metadata": {
    "colab": {
      "provenance": [],
      "include_colab_link": true
    },
    "kernelspec": {
      "name": "python3",
      "display_name": "Python 3"
    },
    "language_info": {
      "name": "python"
    }
  },
  "cells": [
    {
      "cell_type": "markdown",
      "metadata": {
        "id": "view-in-github",
        "colab_type": "text"
      },
      "source": [
        "<a href=\"https://colab.research.google.com/github/joana20-source/PAQ_24O/blob/main/Ejercicio_funciones.ipynb\" target=\"_parent\"><img src=\"https://colab.research.google.com/assets/colab-badge.svg\" alt=\"Open In Colab\"/></a>"
      ]
    },
    {
      "cell_type": "markdown",
      "source": [
        "# Repaso Programación Aplicada a la Química\n",
        "\n",
        "Los siguientes ejercicios servirán para practicar los temas: Ciclos, Condicionales y Funciones.\n",
        "\n",
        "## Problema 1: Especies cargadas\n",
        "\n",
        "1. Escribe un código que, a partir del número de protones y de electrones, indique si el sistema es un anión, un catión o es neutro. También indica cuando el valor no tiene sentido físico.\n",
        "2. Adapta el punto anterior para utilizarlo en una función.\n",
        "3. Usemos el siguiente formato para indicar la carga de una especie química: *formula_química{#carga/+ o -}*. Por ejemplo, para $[Cu(NH_3)_6]^{2-}$ escribiriamos *Cu(NH3)6{2-}*. Escribe un código que recupere solamente el signo asociado a la carga. Con base en esto, crea una función modificada de la anterior que use este tipo de formato.\n",
        "4. La siguiente lista contiene una serie de especies neutras o cargadas:\n",
        "\n",
        "```python\n",
        "especies = ['Cl{-}', 'NH4{+}', 'H2O2', 'NO3{-}', 'Ca{2+}', 'SO4{2-}', 'N2O', 'K{+}', 'Fe{3+}', 'OH{-}', 'MnO4{-}', 'CuSO2', 'CH3COO{-}', 'CO3{2-}', 'Na{+}']\n",
        "```\n",
        "\n",
        "Escribe un código que indique cuantos aniones, cationes y especies neutras tiene la lista.\n",
        "\n"
      ],
      "metadata": {
        "id": "Qg-7xAmGv4LK"
      }
    },
    {
      "cell_type": "markdown",
      "source": [
        "## Problema 2: ADN\n",
        "\n",
        "0. Los nucleótidos del ADN son adenina (A), guanina (G), citosina (C) y timina (T). Sabemos que solo pueden formarse pares *A-T* y *G-C*. En los siguientes ejercicios, usa las siguientes cadenas de ADN como ejemplo:\n",
        "```\n",
        "cadena_adn_1 = 'ATGCATCGTAGCATGC'\n",
        "cadena_adn_2 = 'GCTAGCATCGTAGCTA'\n",
        "```\n",
        "1. Escribe un código que indique cuál es el último nucleótido de una cadena dada, así como el número de nucleótidos. La cadena estará dada como texto.\n",
        "2. Crea una función que verifique que la cadena es válida (que solo esté formada por los nucleótidos posibles), imprimiendo un mensaje si es válida o no.\n",
        "3. Un codón está formado por 3 nucleótidos. Escribe código que indique el número máximo de nucleótidos de una cadena de ADN.\n",
        "4. Escribe un código que, a partir de una cadena de ADN, de como resultado la cadena complementaria.\n",
        "5. Escribe un código que verifique que dos cadenas de ADN son complementarias.\n",
        "\n"
      ],
      "metadata": {
        "id": "1gTfIjFFQI-H"
      }
    }
  ]
}