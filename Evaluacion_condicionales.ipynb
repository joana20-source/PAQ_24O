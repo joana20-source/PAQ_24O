{
  "nbformat": 4,
  "nbformat_minor": 0,
  "metadata": {
    "colab": {
      "provenance": [],
      "include_colab_link": true
    },
    "kernelspec": {
      "name": "python3",
      "display_name": "Python 3"
    },
    "language_info": {
      "name": "python"
    }
  },
  "cells": [
    {
      "cell_type": "markdown",
      "metadata": {
        "id": "view-in-github",
        "colab_type": "text"
      },
      "source": [
        "<a href=\"https://colab.research.google.com/github/joana20-source/PAQ_24O/blob/main/Evaluacion_condicionales.ipynb\" target=\"_parent\"><img src=\"https://colab.research.google.com/assets/colab-badge.svg\" alt=\"Open In Colab\"/></a>"
      ]
    },
    {
      "cell_type": "markdown",
      "source": [
        "# Evaluación de condicionales. Programación Aplicada a la Química\n",
        "\n"
      ],
      "metadata": {
        "id": "Qg-7xAmGv4LK"
      }
    },
    {
      "cell_type": "markdown",
      "source": [
        "## Problema 1: Cuántica\n",
        "\n",
        "En el modelo de Bohr para el átomo de hidrógeno, la energía del electrón en el nivel n está dada por la ecuación:\n",
        "\n",
        "$E_{n} = -13.6/n^{2}$  eV\n",
        "Para los siguientes valores de n=[0, -1, 5, 8, -9, 10, 0, -100, 20]\n",
        "\n",
        "Crea un programa que determine si el electrón está en un estado fundamental, estado excitado o en un estado no permitido.\n",
        "\n",
        "Repite el paso anterior, pero ahora solicitando al usuario dos valores para generar una lista y que por medio de un ciclo while y los condicionales se determine el estado del electrón."
      ],
      "metadata": {
        "id": "gbpvCLj4pAJZ"
      }
    },
    {
      "cell_type": "markdown",
      "source": [
        "## Problema 2: Termodinámica\n",
        "Un químico desea determinar si una reacción es espontánea, no espontánea o está en equilibrio en función de la energía libre de Gibbs ($\\Delta G$). La energía libre de Gibbs está relacionada con la entalpía ($\\Delta H$) y la entropía ($\\Delta S$) a través de la ecuación:\n",
        "\n",
        "\n",
        "$\\Delta G = \\Delta H - T \\Delta S $\n",
        "donde T es la temperatura en kelvins.\n",
        "\n",
        "1. El químico necesita un programa que:\n",
        "Solicite al usuario los valores de $\\Delta H$, $\\Delta S$ en kJ/mol y T en K.\n",
        "\n",
        "2. Calcule $\\Delta G$\n",
        "\n",
        "3. Clasifique la reacción según las siguientes reglas:\n",
        "\n",
        "* $\\Delta G$ negativa es una reacción espontánea\n",
        "* $\\Delta G$ positiva es una reacción no espontánea\n",
        "* $\\Delta G$ igual a cero es una reacción en equilibrio"
      ],
      "metadata": {
        "id": "lbWpWvoAl0zs"
      }
    },
    {
      "cell_type": "code",
      "execution_count": null,
      "metadata": {
        "id": "MbnhONBKvyY2"
      },
      "outputs": [],
      "source": []
    }
  ]
}