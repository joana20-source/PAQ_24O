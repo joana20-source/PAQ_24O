{
  "nbformat": 4,
  "nbformat_minor": 0,
  "metadata": {
    "colab": {
      "provenance": [],
      "authorship_tag": "ABX9TyMgDmV1oNSPgQPuzZ1+/2md",
      "include_colab_link": true
    },
    "kernelspec": {
      "name": "python3",
      "display_name": "Python 3"
    },
    "language_info": {
      "name": "python"
    }
  },
  "cells": [
    {
      "cell_type": "markdown",
      "metadata": {
        "id": "view-in-github",
        "colab_type": "text"
      },
      "source": [
        "<a href=\"https://colab.research.google.com/github/joana20-source/PAQ_24O/blob/main/Ejercicios_funciones_repaso.ipynb\" target=\"_parent\"><img src=\"https://colab.research.google.com/assets/colab-badge.svg\" alt=\"Open In Colab\"/></a>"
      ]
    },
    {
      "cell_type": "markdown",
      "source": [
        "## Ejercicio 1:\n",
        "Dados los siguientes puntos de ebullición y fusión estándar para varios metales, determina su estado (sólido, líquido o gaseoso) a 500 °C."
      ],
      "metadata": {
        "id": "mC4opCGLVDj4"
      }
    },
    {
      "cell_type": "code",
      "execution_count": null,
      "metadata": {
        "id": "6BH2ZnbDU2un"
      },
      "outputs": [],
      "source": [
        "metales = ['Fe', 'Al', 'Hg', 'Ti', 'Pb']\n",
        "# temperaturas estáandar del cambio de fase para varios metales en K.\n",
        "puntos_fusion = [1811 , 933, 234, 1941 , 601]\n",
        "puntos_ebullicion = [3134 , 2743 , 630, 3560 , 2022]"
      ]
    },
    {
      "cell_type": "markdown",
      "source": [
        "## Ejercicio 2:\n",
        "La capacidad calorífica de un cristal en el modelo de Einstein se define como:\n",
        "\n",
        "$C_{V, m} = 3R(\\frac{\\Theta_{E}}{T})^{2} \\frac{exp(\\frac{\\Theta_{E}}{T})}{[exp(\\frac{\\Theta_{E}}{T})-1]^{2}}$\n",
        "\n",
        "Donde $\\Theta_{E}$, temperatura de Einstein, es una constante para un maetrial dado.\n",
        "\n",
        "Escribe una función en python que calcule $C_{V, m}$ a 300 K para (a) sodio ($\\Theta_{E}=192 K$) y (b) Diamante ($\\Theta_{E}= 1450 K$)"
      ],
      "metadata": {
        "id": "g22KYX3lWRSA"
      }
    },
    {
      "cell_type": "markdown",
      "source": [
        "## Ejercicio 3:\n",
        "\n",
        "Crea una función en python para cada una de las siguientes ecuaciones.\n",
        "\n",
        "Ecuación de estado del gas ideal:\n",
        "$P = \\frac{nRT}{V}$\n",
        "\n",
        "Ecuación de estado de Van der Waals:\n",
        "$P = \\frac{nRT}{V-nb}-\\frac{n^{2}a}{V^{2}}$\n",
        "\n",
        "Ecuación de estado de Dieterici:\n",
        "$P = \\frac{nRT exp(-\\frac{na}{RTV})}{V-nb}$\n",
        "\n",
        "\n",
        "Compara la presión predicha para 1 kol de $CO_{2}$ a 273.15 K confinado en un volumen de 20 L. Toma los valores de los parámetros de Van der Waals $a=3.640 L^{2}bar/mol^{2}$ y $b=0.04267 L/mol$; y los parámetros de Dieterici $a=4.692 L^{2}bar/mol^{2}$ y $b=0.04639 L/mol$.\n",
        "\n",
        "Repite los cálculos para 0.01 mol."
      ],
      "metadata": {
        "id": "qFi_sBujZNDe"
      }
    },
    {
      "cell_type": "code",
      "source": [
        "\n"
      ],
      "metadata": {
        "id": "7g3pXZn7WQ-P"
      },
      "execution_count": null,
      "outputs": []
    }
  ]
}