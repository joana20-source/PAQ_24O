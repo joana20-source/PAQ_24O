{
  "nbformat": 4,
  "nbformat_minor": 0,
  "metadata": {
    "colab": {
      "provenance": [],
      "authorship_tag": "ABX9TyPJ+TOsJeEAtcghkcd9sv7w"
    },
    "kernelspec": {
      "name": "python3",
      "display_name": "Python 3"
    },
    "language_info": {
      "name": "python"
    }
  },
  "cells": [
    {
      "cell_type": "markdown",
      "source": [
        "<a href=\"https://colab.research.google.com/github/joana20-source/PAQ_24O/blob/main/Sesion5_4_PAQ.ipynb\" target=\"_parent\"><img src=\"https://colab.research.google.com/assets/colab-badge.svg\" alt=\"Open In Colab\"/></a>"
      ],
      "metadata": {
        "id": "WEsvk0-Veapy"
      }
    },
    {
      "cell_type": "markdown",
      "source": [
        "# Ciclo `while` y su uso"
      ],
      "metadata": {
        "id": "YGEgG5p1nZEg"
      }
    },
    {
      "cell_type": "markdown",
      "source": [
        "La estructura while en Python es un bucle que se ejecuta mientras una condición sea verdadera. Es útil cuando no sabemos exactamente cuántas veces queremos repetir un bloque de código, pero sabemos que queremos que se repita hasta que una condición deje de cumplirse.\n",
        "```python\n",
        "contador = 0\n",
        "while condición:\n",
        "    # Código a ejecutar mientras la condición sea verdadera\n",
        "```\n",
        "Veamos un poco a detalle la sintaxis de `while`. Es usual que antes del ciclo while se defina una variable que será el elemento `i` sobre el cual correrá nuestro ciclo. Además, a `i` se le debe asignar algun número desde el inico, normalmente cero, ya que a partir de ese número comienza el conteo en el ciclo.\n",
        "\n",
        "Una vez definida la variable de inicio y conteo, se escribe la función `while` seguida de una condición y finalmente los dos puntos `:`.\n",
        "\n",
        "Por otra parte, la condición a cumplir se describe con operadores de asignación, comparación y lógica. A continuación, se muestran algunos ejemplos de estos operadores.\n",
        "\n",
        "\n",
        "| Operador  | Nombre                   | Descripción                                                                                       | Ejemplo de uso en `while`                              |\n",
        "|-----------|---------------------------|---------------------------------------------------------------------------------------------------|--------------------------------------------------------|\n",
        "| `==`      | Igual a                   | Verifica si dos valores son iguales                                                               | `while x == 5:`                                        |\n",
        "| `!=`      | Distinto de               | Verifica si dos valores son diferentes                                                            | `while x != 0:`                                        |\n",
        "| `<`       | Menor que                 | Verifica si el valor de la izquierda es menor que el de la derecha                                | `while x < 10:`                                        |\n",
        "| `<=`      | Menor o igual que         | Verifica si el valor de la izquierda es menor o igual al de la derecha                            | `while x <= 10:`                                       |\n",
        "| `>`       | Mayor que                 | Verifica si el valor de la izquierda es mayor que el de la derecha                                | `while x > 0:`                                         |\n",
        "| `>=`      | Mayor o igual que         | Verifica si el valor de la izquierda es mayor o igual al de la derecha                            | `while x >= 1:`                                        |\n",
        "| `=`       | Asignación                | Asigna un valor a una variable                                                                    | `contador = 0`                                         |\n",
        "| `+=`      | Incremento (suma)         | Incrementa la variable en un valor específico (por lo general en un ciclo)                        | `contador += 1`                                        |\n",
        "| `-=`      | Decremento (resta)        | Decrementa la variable en un valor específico                                                     | `contador -= 1`                                        |\n",
        "| `*=`      | Multiplicación y asignación | Multiplica la variable por un valor específico y asigna el resultado                             | `contador *= 2`                                        |\n",
        "| `/=`      | División y asignación     | Divide la variable por un valor específico y asigna el resultado                                  | `contador /= 2`                                        |\n",
        "| `and`     | Y lógico                  | Todas las condiciones deben ser verdaderas para que el bucle continúe                             | `while x < 10 and y > 5:`                              |\n",
        "| `or`      | O lógico                  | Al menos una condición debe ser verdadera para que el bucle continúe                              | `while x < 10 or y > 5:`                               |\n",
        "\n",
        "\n",
        "\n",
        "\n",
        "\n",
        "\n",
        "<font color='blue'> Veamos algunos ejemplos del funcionamiento de  `while` </font>"
      ],
      "metadata": {
        "id": "Hk9eul3B8p_H"
      }
    },
    {
      "cell_type": "code",
      "source": [
        "i = 1\n",
        "while i < 6:\n",
        "  print(i)\n",
        "  i += 1"
      ],
      "metadata": {
        "id": "3EL8N726nYvL"
      },
      "execution_count": null,
      "outputs": []
    },
    {
      "cell_type": "code",
      "source": [
        "i = 1\n",
        "while i <= 6:\n",
        "  print(i)\n",
        "  i += 1"
      ],
      "metadata": {
        "id": "7-KWsDMEZUpL"
      },
      "execution_count": null,
      "outputs": []
    },
    {
      "cell_type": "code",
      "source": [
        "contador = 0\n",
        "while contador < 5:\n",
        "   print(contador**2)\n",
        "   contador += 1\n",
        "\n"
      ],
      "metadata": {
        "id": "9ZSqXHP__Qgo"
      },
      "execution_count": null,
      "outputs": []
    },
    {
      "cell_type": "code",
      "source": [
        "frutas = ['manzana', 'naranja', 'higo', 'durazno', 'mandarina']\n",
        "\n",
        "fruta = 0\n",
        "while fruta < len(frutas):\n",
        "  print('La fruta es ' + frutas[fruta])\n",
        "  fruta += 1"
      ],
      "metadata": {
        "id": "tJ-V4aaAOfo2"
      },
      "execution_count": null,
      "outputs": []
    },
    {
      "cell_type": "code",
      "execution_count": null,
      "metadata": {
        "id": "F08nn8CKnYBM"
      },
      "outputs": [],
      "source": [
        "dia = 0\n",
        "semana = ['Lunes', 'Martes', 'Miércoles', 'Jueves', 'Viernes', 'Sabado', 'Domingo']\n",
        "while dia < 7:\n",
        "   print(\"Hoy es \" + semana[dia])\n",
        "   dia += 1"
      ]
    },
    {
      "cell_type": "code",
      "source": [
        "#Ejemplo donde se calcula la concentracion para cada volumen\n",
        "volumen = [3.2, 4.2, 5.2, 6.2, 7.2, 8.2, 9.2]\n",
        "n = 4.0 #mol\n",
        "\n",
        "concentraciones = []\n",
        "vol = 0\n",
        "while vol < len(volumen):\n",
        "    concentracion = n / volumen[vol]\n",
        "    print(concentracion)\n",
        "    vol += 1\n",
        "    concentraciones.append(concentracion)\n",
        "\n",
        "\n",
        "concentraciones"
      ],
      "metadata": {
        "id": "uCcUKibQXIUG"
      },
      "execution_count": null,
      "outputs": []
    },
    {
      "cell_type": "markdown",
      "source": [
        "Ejercicio: calcula el promedio de las temperaturas usando un ciclo while"
      ],
      "metadata": {
        "id": "NIJfhd8edM7n"
      }
    },
    {
      "cell_type": "code",
      "source": [
        "temperaturas = [18, 20, 22, 24, 26, 28, 30]"
      ],
      "metadata": {
        "id": "DJm3pdYNcwcK"
      },
      "execution_count": null,
      "outputs": []
    },
    {
      "cell_type": "markdown",
      "source": [
        "Ejercicio: calcula el valor de $f(x) = x^3 + 2$ para valores de $x$ desde 14.0 hasta 500 usando un ciclo while."
      ],
      "metadata": {
        "id": "ej3KnUhRf8tf"
      }
    },
    {
      "cell_type": "code",
      "source": [],
      "metadata": {
        "id": "ESf6SChxgSWV"
      },
      "execution_count": null,
      "outputs": []
    }
  ]
}