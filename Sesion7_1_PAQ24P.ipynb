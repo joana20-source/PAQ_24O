{
  "nbformat": 4,
  "nbformat_minor": 0,
  "metadata": {
    "colab": {
      "provenance": [],
      "authorship_tag": "ABX9TyN40BmDlekfAgWg/HfidGD4",
      "include_colab_link": true
    },
    "kernelspec": {
      "name": "python3",
      "display_name": "Python 3"
    },
    "language_info": {
      "name": "python"
    }
  },
  "cells": [
    {
      "cell_type": "markdown",
      "metadata": {
        "id": "view-in-github",
        "colab_type": "text"
      },
      "source": [
        "<a href=\"https://colab.research.google.com/github/molecular-mar/molecular-mar.github.io/blob/master/Sesion7_1_PAQ24P.ipynb\" target=\"_parent\"><img src=\"https://colab.research.google.com/assets/colab-badge.svg\" alt=\"Open In Colab\"/></a>"
      ]
    },
    {
      "cell_type": "markdown",
      "source": [
        "# Principios de programación 6\n",
        "---"
      ],
      "metadata": {
        "id": "Tu_PRIDRA_rK"
      }
    },
    {
      "cell_type": "markdown",
      "source": [
        "## Creación de Funciones\n",
        "---"
      ],
      "metadata": {
        "id": "XjemkhGDHBPz"
      }
    },
    {
      "cell_type": "markdown",
      "source": [
        "### Funciones básicas\n",
        "\n",
        "Hasta ahora hemos hecho uso de *funciones*, tales como `len()`, `type()`, `abs()` y `round()`. Para entender mejor cómo es que funcionan las funciones, veamos como podemos crear nuestras propias funciones.\n",
        "\n",
        "Una de las utilidades de programar es evitar repetir una tarea una y otra vez. Una *función* es un conjunto de instrucciones fijo al cuál le damos un nombre para utilizarlo posteriormente. Esto nos ayuda a no tener que repetir código, manteniendo nuestro progama corto y por ende más manejable.\n",
        "\n",
        "La sintaxis para definir una función es:\n",
        "\n",
        "```python\n",
        "def funcion(parametro1, parametro2,...):\n",
        "  instruccion1\n",
        "  instruccion2\n",
        "  ...\n",
        "```\n",
        "\n",
        "❓NO la ejecutes la siguiente celda aún. La siguiente celda define una función, llamada `axolote`.  En una nueva celda, intenta ejecutar la instrucción `axolote()`. Registra en una celda de texto el error que te aparece. Luego ejecuta la celda que define a `axolote`, y vuelve a ejecutar la celda con `axolote()`.\n",
        "\n"
      ],
      "metadata": {
        "id": "Ux5vsWZFrRbT"
      }
    },
    {
      "cell_type": "code",
      "source": [
        "def axolote():\n",
        "  print('''\n",
        "⠀⠀⠀⢀⠀⠀⠀⠀⠀⠀⠀⣀⣀⡤⠤⠤⠤⣄⣀⡀⠀⠀⠀⠀⠀⠀⠀⠀⠀⠀\n",
        "⠀⠀⢴⠋⠙⠳⣤⡀⣠⠖⠋⠁⠀⠀⠀⠀⠀⠀⠀⠉⠓⠤⡀⣠⡴⠟⠛⣷⠀⠀\n",
        "⠀⠀⠈⠳⢤⣀⢈⠟⠁⠀⠀⠀⠀⠀⠀⠀⠀⠀⠀⠀⠀⠀⠘⢏⣀⣠⡴⠋⠀⠀\n",
        "⢀⣠⣤⣄⣄⣉⡏⠀⠀⠀⠀⠀⠀⠀⠀⠀⠀⠀⠀⠀⠀⠀⠀⠈⣇⣡⣤⡴⣦⣀\n",
        "⢹⣅⡀⠀⠀⠈⡇⠀⠀⠀⠀⠀⠀⠀⠀⠀⠀⠀⠀⠀⠀⠀⠀⠀⡏⠁⠀⢀⣠⠏\n",
        "⠀⠈⠙⠉⢋⣉⣇⠀⠀⣾⣷⠄⠀⠀⠀⠀⠀⠀⠀⢴⣿⡆⠀⢀⣿⡙⠋⠋⠀⠀\n",
        "⠀⠀⢤⠶⠋⠉⢈⣦⡀⠈⠉⠀⠀⠀⠉⠉⠉⠀⠀⠀⠉⠀⣠⣎⠈⠉⠛⢷⡀⠀\n",
        "⠀⠀⠻⣤⣤⠶⠋⠀⠈⠑⠠⠄⣀⣀⣀⣀⣀⣀⡀⠤⠐⠉⠀⠈⠻⠶⠖⠶⠃⠀\n",
        "⠀⠀⠀⠀⠀⠀⠀⠀⠀⠀⠀⢠⠃⠤⡀⠀⡠⠤⢱⠀⠀⠀⠀⠀⠀⠀⠀⠀⠀⠀\n",
        "⠀⠀⠀⠀⠀⠀⠀⠀⠀⠀⠀⡎⠀⠉⠁⠀⠉⠉⠀⡇⠀⠀⠀⠀⠀⠀⠀⠀⠀⠀\n",
        "⠀⠀⠀⠀⠀⠀⠀⠀⠀⠀⠀⡇⢀⠤⡀⠀⡠⢄⢀⠇⠀⠀⠀⠀⠀⠀⠀⠀⠀⠀\n",
        "⠀⠀⠀⠀⠀⠀⠀⠀⠀⠀⠀⠘⠢⣀⣀⣀⣈⡠⠊⠀⠀⠀⠀⠀⠀⠀⠀⠀⠀⠀\n",
        "⠀⠀⠀⠀⠀⠀⠀⠀⠀⠀⠀⠀⠀⡌⡇⠀⣎⠇⠀⠀⠀⠀⠀⠀⠀⠀⠀⠀⠀⠀\n",
        "⠀⠀⠀⠀⠀⠀⠀⠀⠀⠀⠀⠀⠀⢡⡇⣸⠜⠀⠀⠀⠀⠀⠀⠀⠀⠀⠀⠀⠀⠀\n",
        "⠀⠀⠀⠀⠀⠀⠀⠀⠀⠀⠀⠀⠀⠀⠓⠉⠀⠀⠀⠀⠀⠀''')"
      ],
      "metadata": {
        "id": "j_UbEeEf-XwZ"
      },
      "execution_count": null,
      "outputs": []
    },
    {
      "cell_type": "markdown",
      "source": [
        "Como habrás notado, colocar parámetros en la función es opcional. Los parámetros son variables que **solamente** van a ser utilizados dentro de la función. Esto nos permite ajustar el resultado de nuestra función.\n",
        "\n",
        "Veamos otro ejemplo de función, esta vez con parámetros. Recordemos que el cambio en la energía libre de Gibbs($\\Delta G$) puede indicarnos si una reacción es espontanea o no:"
      ],
      "metadata": {
        "id": "ll3RhoW4jNNh"
      }
    },
    {
      "cell_type": "code",
      "source": [
        "def tipo_reaccion(energia_libre):\n",
        "  if energia_libre > 0:\n",
        "    print('Reacción no espontanea')\n",
        "  else:\n",
        "    print('Reacción espontanea')\n",
        "# Nota: Observa que esta función es similar a la que se\n",
        "# utilizaría para obtener el valor absoluto"
      ],
      "metadata": {
        "id": "E5O7CcMWjUnX"
      },
      "execution_count": null,
      "outputs": []
    },
    {
      "cell_type": "code",
      "source": [
        "# Probemos la función que acabamos de definir\n",
        "tipo_reaccion(-10)\n",
        "tipo_reaccion(10)"
      ],
      "metadata": {
        "id": "TF8tyjV6kaDP"
      },
      "execution_count": null,
      "outputs": []
    },
    {
      "cell_type": "markdown",
      "source": [
        "Vamos a definir una función para calcular distancia euclidiana a partir de dos coordenadas:\n",
        "$$d=\\sqrt{(\\Delta x^2+ \\Delta y^2+ \\Delta z^2}$$\n",
        "$$d=\\sqrt{((x_2-x_1)^2+ (y_2-y_1)^2+ (z_2-z_1)^2}$$\n",
        "\n",
        "❓ Crea una función `distancia1` que tome como parámetros cada una de las componentes de las coordenadas. Puedes llamar a estos parámetros como x1, x2, y1, y2, z1 y z2. Dentro de la función, guarda en una variable `dist` el cálculo de la distancia e imprime un mensaje con dicho valor. Prueba la función usando las coordenadas (0,0,0) y (10,10,10).\n",
        "\n",
        "❓¿Qué pasa si intentas imprimir el valor de `dist` fuera de la función?\n",
        "\n",
        "❓Observa cómo cambia el resultado entre `distancia1(0,1,0,1,0,1)` y `distancia1(0,0,0,1,1,1)`. ¿Por qué se observa este cambio?"
      ],
      "metadata": {
        "id": "HsWxh-v5rWbL"
      }
    },
    {
      "cell_type": "code",
      "source": [],
      "metadata": {
        "id": "pL3iWns4wCjJ"
      },
      "execution_count": null,
      "outputs": []
    },
    {
      "cell_type": "markdown",
      "source": [
        "Los parámetros son utilizados como nombres dentro de la función de los datos que damos al *llamar a la función*. Los tipos de datos que podemos pasar no están restringidos, pero debemos tener cuidado sobre que hacemos con ellos dentro de la función.\n",
        "\n",
        "❓En una nueva celda de código, crea una copia de la definición de `distancia1` para crear una función `distancia2`. En lugar de tomar como parámetros cada componente de las coordenadas, considera solo dos parámetros `coordenada1` y `coordenada2`. Dentro de la función, utiliza ambos parámetros como si fueran listas con forma `[x1,y1,z1]` y `[x2,y2,z2]`. Prueba la función: define dos listas con coordenadas `coord1 = (0,0,0)` y `coord2 = (10,10,10)`, luego ejecuta `distancia2(coord1,coord2)` y verifica el resultado."
      ],
      "metadata": {
        "id": "_3WIq3tOwetj"
      }
    },
    {
      "cell_type": "markdown",
      "source": [
        "### `return`\n",
        "\n",
        "Hasta ahora las funciones declaradas solamente imprimen mensajes. No podríamos utilizarlas como a las funciones `round()` o `abs()`, las cuales dan como resultado un dato que podemos manipular. Por ejemplo, podemos ejecutar `3+abs(-2)` y obtener un resultado (intentalo en una celda).\n",
        "\n",
        "Para que una función *regrese* un dato, debemos de utilizar la instrucción `return`, la cuál indica que dato o datos vamos a regresar. La sintaxis es `return dato1, dato2, ...`\n",
        "\n",
        "❓Escribe una nueva función `distancia3` a partir de `distancia2`, que regrese la distancia calculada. Guarda el resultado en una variable.\n",
        "\n"
      ],
      "metadata": {
        "id": "yX-VG4CUrsH9"
      }
    },
    {
      "cell_type": "markdown",
      "source": [
        "### Alcance de variables\n",
        "\n",
        "❓En una nueva función `distancia4`, a partir de `distancia1` y usando variables como argumentos, después de calcular la distancia modifica alguno de los argumentos (por ejemplo, x1 = 2 * 4). Luego llama a la función y verifica si fue modificada la variable utilizada como argumento.\n",
        "\n",
        "\n"
      ],
      "metadata": {
        "id": "F_WCEwfyt6IL"
      }
    },
    {
      "cell_type": "markdown",
      "source": [
        "Como se vio previamente, las variables definidas dentro de una función y sus parámetros no son accesibles fuera de la función. En general esto será así, pero hay dos casos que debemos tener presentes.\n",
        "\n",
        "El primero es que podemos crear variables de alcance *global*, a las cuales podemos acceder dentro y fuera de una función. En programación está desaconsejado usar este tipo de variable. No las trataremos en el curso pero puedes investigar cómo utilizarlas.\n",
        "\n",
        "El segundo caso son las listas y otros iterables. Cuando pasamos una lista, al igual que con otros tipos de argumentos, estamos creando una copia local solo utilizable dentro de la función. Pero las listas y algunas otras colecciones de datos tienen conocimiento de la variable original. Por ello algunos cambios, como cuando usamos `append`, pueden alterar a nuestra variable original. En general, es preferente crear una nueva lista (por ejemplo, con `nueva_lista = lista_original.copy()`) y regresar ésta en lugar de modificar la lista original. De esta forma evitamos posibles errores o comportamientos inesperados.\n",
        "\n",
        "❓ Crea una función `agregar_ligando`, con argumentos `complejo` y `ligando`. En la función, escribe solo una linea que utilice `append` para agregar `ligando` a `complejo`. Fuera de la función, crea una lista `catalizador = ['Ru', 'Cl', 'PPh3']`. Usando la función `agregar_ligando` tres veces, añade otro ligando *Cl* y dos ligandos *PPh3* mas. Imprime  `agregar_ligando` luego de cada uso de `agregar_ligando` para verificar el cambio."
      ],
      "metadata": {
        "id": "CnPDDuB-v19s"
      }
    },
    {
      "cell_type": "markdown",
      "source": [
        "### Argumentos posicionales\n",
        "\n",
        "Las funciones que hemos utilizado asignan los datos utilizados cuando son empleadas en orden. En el caso de `distancia2`, siempre el primer dato va a utilizarse como `coordenada1` y el segundo como `coordenada2`. Este tipo de argumentos se les conoce como posicionales, dada esta característica.\n",
        "\n",
        "También podemos utilizar *argumentos por palabra clave*. Usemos el siguiente ejemplo para entender como funcionan.\n",
        "\n",
        "❓ En la siguiente celda de código se define una función para imprimir el simbolo de un isotopo a partir de el número de protones y el número de neutrones. Utiliza esta función sin argumentos y comenta el resultado. Luego, utilizala para imprimir el isotopo que corresponde con 6 protones y 8 neutrones. Vuelve a usar la función, pero usando `isotopo(neutrones=8, protones=6)` y comenta el resultado."
      ],
      "metadata": {
        "id": "jvoqPUGXzmxq"
      }
    },
    {
      "cell_type": "code",
      "source": [
        "# Podemos definir parametros por palabras clave o keyword\n",
        "def isotopo(protones=1, neutrones=0):\n",
        "    elementos = ('H', 'He', 'Li', 'Be', 'B', 'C', 'N', 'O', 'F', 'Ne')\n",
        "    simbolo = elementos[protones - 1]\n",
        "    masa = protones + neutrones\n",
        "    print(str(masa) + simbolo)"
      ],
      "metadata": {
        "id": "hW3jswLu0sVK"
      },
      "execution_count": null,
      "outputs": []
    },
    {
      "cell_type": "markdown",
      "source": [
        "### Docstrings\n",
        "\n",
        "Cuando usamos funciones puede resultar muy útil comentar como funciona, principalmente mencionando que tipos de datos deberiamos de utilizar como argumentos y que tipo de datos va a regresar. Podemos comentar usando `#`, pero es más recomentable usar lo que se conoce como `docstring`. Ejecuta la siguiente celda, que tiene una versión comentada de la función distancia:"
      ],
      "metadata": {
        "id": "YVlkO6zH1wDT"
      }
    },
    {
      "cell_type": "code",
      "source": [
        "# Podemos documentar nuestras funciones usando docstrings\n",
        "def distanciaN(coord1, coord2):\n",
        "    '''(lista/tupla, lista/tupla) -> float\n",
        "    Toma las coordenadas cartesianas, en listas o tuplas,\n",
        "    de dos atomos y regresa la distancia entre ambos.\n",
        "\n",
        "    distancia((1,2,3), (4,5,6)) -> 5.196152422706632\n",
        "    '''\n",
        "\n",
        "    # Diferencias entre las coordenadas x, y, z\n",
        "    dx = coord1[0] - coord2[0]\n",
        "    dy = coord1[1] - coord2[1]\n",
        "    dz = coord1[2] - coord2[2]\n",
        "    d = (dx**2 + dy**2 + dz**2)**(0.5)\n",
        "\n",
        "    return d"
      ],
      "metadata": {
        "id": "aoxndk_-2YXH"
      },
      "execution_count": null,
      "outputs": []
    },
    {
      "cell_type": "markdown",
      "source": [
        "Luego, en la siguiente celda escribe el nombre de la función, coloca tu cursos sobre el nombre y observa qué efecto tiene."
      ],
      "metadata": {
        "id": "bxx4NECc2cOH"
      }
    },
    {
      "cell_type": "code",
      "source": [],
      "metadata": {
        "id": "VwmQ0fK9y7Hi"
      },
      "execution_count": null,
      "outputs": []
    },
    {
      "cell_type": "markdown",
      "source": [
        "## Tarea\n",
        "\n",
        "Entrega en un nuevo notebook las respuestas a los siguientes ejercicios.\n",
        "\n",
        "1. Supón que vamos a comenzar un negocio de venta de galletas, y queremos saber si será suficiente para costear un viaje a Italia (o a donde prefieras vacacionar). Vamos a generar una función `precio_por_galleta`, la cuál va a necesitar los siguientes datos:\n",
        "\n",
        "* `costo_harina`\n",
        "* `costo_huevo`\n",
        "* `costo_azucar`\n",
        "* `costo_mantequilla`\n",
        "* `numero_de_galletas`\n",
        "* `ganancia_obtenida`\n",
        "\n",
        "La función debe **regresar** el precio al cuál tendremos que vender nuestras galletas para generar la ganancia que requerimos si las vendemos todas.\n",
        "\n",
        "Analicemos el problema. Sabemos que la ganancia obtenida ($g_o$) será igual a la venta total ($v_T$) menos el costo de hacer las galletas ($c_T$):\n",
        "\n",
        "$$g_o = v_T - c_T$$\n",
        "\n",
        "El costo total es igual a la suma del costo de cada ingrediente:\n",
        "\n",
        "$$c_T = c_{harina} + c_{huevo} + c_{azucar} + c_{mantequilla}$$\n",
        "\n",
        "La venta total será igual al precio por galleta ($p_g$) multiplicado por el número de galletas $n_g$ :\n",
        "\n",
        "$$v_T = n_g * p_g$$\n",
        "\n",
        "Al final, podemos obtener una expresión para el precio por galleta:\n",
        "\n",
        "$$ p_g = \\frac{g_o + c_T}{n_g} $$\n",
        "\n",
        " * Edita esta función para que cumpla con lo siguiente: debe tener por defecto una ganancia de 20,000, y un número de galletas de 1,000. Crea una nueva función, a partir de una copia de la anterior, para incluir chocolate a la receta.\n",
        "\n",
        " * Determina en cuánto venderiamos cada galleta para realizar un viaje a Morelia con costo de 1,500. Considera los siguientes costos y una producción de 400 galletas:\n",
        "  * harina = 60\n",
        "  * huevo = 40\n",
        "  * azucar = 30\n",
        "  * mantequilla = 120\n",
        "\n",
        "1. Crea y prueba funciones que resuelvan los siguientes problemas:\n",
        "\n",
        " 1. Calculadora de decaimiento radioactivo (indica la concentración dadas $n$ vidas medias).\n",
        " 2. Calculadora del gas ideal (calcular una variable dadas las demás). Puedes seguir uno de los siguientes caminos: crear funciones distintas para cada variable, o con condicionales establecer que variable resta y calcularla.\n",
        " 3. Ecuación de Henderson-Hasselbalch. El programa debe dar el valor de pH resolviendo al ecuación."
      ],
      "metadata": {
        "id": "ylYI8qTW-Gxd"
      }
    },
    {
      "cell_type": "code",
      "source": [],
      "metadata": {
        "id": "8graavtuGZTM"
      },
      "execution_count": null,
      "outputs": []
    }
  ]
}