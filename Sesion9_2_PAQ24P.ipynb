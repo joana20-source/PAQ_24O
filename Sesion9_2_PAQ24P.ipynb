{
  "nbformat": 4,
  "nbformat_minor": 0,
  "metadata": {
    "colab": {
      "provenance": [],
      "authorship_tag": "ABX9TyMzbPjfpyIN8rloasqRH7n8",
      "include_colab_link": true
    },
    "kernelspec": {
      "name": "python3",
      "display_name": "Python 3"
    },
    "language_info": {
      "name": "python"
    }
  },
  "cells": [
    {
      "cell_type": "markdown",
      "metadata": {
        "id": "view-in-github",
        "colab_type": "text"
      },
      "source": [
        "<a href=\"https://colab.research.google.com/github/molecular-mar/molecular-mar.github.io/blob/master/Sesion9_2_PAQ24P.ipynb\" target=\"_parent\"><img src=\"https://colab.research.google.com/assets/colab-badge.svg\" alt=\"Open In Colab\"/></a>"
      ]
    },
    {
      "cell_type": "markdown",
      "source": [
        "# Manejo de datos con Pandas\n",
        "\n",
        "Pandas es una biblioteca de Python ampliamente utilizada para el análisis y la manipulación de datos. Veremos que al usarlo generaremos datos con estructura de tablas, similar a una hoja de cálculo. Puedes consultar la documentación en la página de [Pandas](https://pandas.pydata.org/docs/user_guide/index.html).\n",
        "\n",
        "Comencemos por cargar el paquete que suele abreviarse con `pd`:"
      ],
      "metadata": {
        "id": "ApFabUiRCYik"
      }
    },
    {
      "cell_type": "code",
      "execution_count": null,
      "metadata": {
        "id": "waoT0C5MCNLp"
      },
      "outputs": [],
      "source": [
        "import pandas as pd"
      ]
    },
    {
      "cell_type": "markdown",
      "source": [
        "Antes de continuar, veamos como podemos subir un archivo a la nube de Colab. Primero debemos cargar el archivo, dando click sobre el ícono de carpeta del lado izquierdo.\n",
        "Puedes arrastrar tu archivo a la sección que se despliega para subirlo.\n",
        "\n",
        "❓Carga el archivo `propiedades_químicas.csv`  que se encuentra en el aula virtual en la sección \"Datos atómicos\".\n"
      ],
      "metadata": {
        "id": "Rk7cmQZEDQ_g"
      }
    },
    {
      "cell_type": "markdown",
      "source": [
        "## Lectura de archivos\n",
        "\n",
        "Pandas puede leer distintos formatos de archivo: csv, xls, xlsx (ambos formatos usados en Excel), html, entre otros. Las funciones para leer un archivo tienen nombres fáciles de recordar o deducir, como `read_csv()` y `read_excel()`.\n",
        "\n",
        "En la siguiente celda leeremos el archivo csv que subiste a Colab previamente:"
      ],
      "metadata": {
        "id": "s46xKPNUGSCe"
      }
    },
    {
      "cell_type": "code",
      "source": [
        "datos_elementos = pd.read_csv('propiedades_quimicas.csv')"
      ],
      "metadata": {
        "id": "7gKN-7ywFeVN"
      },
      "execution_count": null,
      "outputs": []
    },
    {
      "cell_type": "markdown",
      "source": [
        "La función `read_csv` tiene varios parámetros que podemos modificar según sea necesario. Algunos son:\n",
        "\n",
        "\n",
        "\n",
        "*   `sep`: para indicar el separador de los datos. Si en lugar de coma se utiliza punto y coma, deberíamos indicar `sep=\";\"`\n",
        "*   `skiprows`: nos permite indicar cuántas filas deben omitirse al inicio del archivo. Útil cuando al comienzo tenemos datos como título y comentarios.\n",
        "*   `skipfooter`: similar a skiprows, para omitir filas al final del archivo.\n",
        "* `header`: Para indicar si la primera fila contiene los títulos de las columnas. Debe indicarse con un booleano: `header=True` si se encuentran los encabezados, `header=False` si no se quieren leer del archivo.\n",
        "\n"
      ],
      "metadata": {
        "id": "qgpnJJt6OFHi"
      }
    },
    {
      "cell_type": "markdown",
      "source": [
        "Pandas hace uso de un tipo de dato llamado `DataFrame`, el cuál permite la visualización, manipulación y análisis de datos en formato de tablas. Veamos el `DataFrame` (df) que cargamos en `datos_elementos`:"
      ],
      "metadata": {
        "id": "5lR7zrdJT8tU"
      }
    },
    {
      "cell_type": "code",
      "source": [
        "# Primero comprobemos el tipo de dato:\n",
        "print(type(datos_elementos))"
      ],
      "metadata": {
        "id": "gObEAh8uPhWs"
      },
      "execution_count": null,
      "outputs": []
    },
    {
      "cell_type": "code",
      "source": [
        "# Visualicemos datos_elementos:\n",
        "datos_elementos"
      ],
      "metadata": {
        "id": "ekxqtkGMVcBU"
      },
      "execution_count": null,
      "outputs": []
    },
    {
      "cell_type": "markdown",
      "source": [
        "Podemos visualizar las dimensiones del df similar a como lo hicimos para los arrays de Numpy:"
      ],
      "metadata": {
        "id": "F0pLeHyoV3Rn"
      }
    },
    {
      "cell_type": "code",
      "source": [
        "print(datos_elementos.shape) # Dimensiones: (filas, columnas)\n",
        "print(datos_elementos.size) # Número total de elementos"
      ],
      "metadata": {
        "id": "DWaSphZsVm3C"
      },
      "execution_count": null,
      "outputs": []
    },
    {
      "cell_type": "markdown",
      "source": [
        "Es importante hacer una copia del df original, ya que posteriormente haremos algunas modificaciones y podriamos perder la información original. Para ello podemos utilizar la instrucción `copy`:"
      ],
      "metadata": {
        "id": "wP6NaDzfMk_T"
      }
    },
    {
      "cell_type": "code",
      "source": [
        "datos_elementos_original = datos_elementos.copy()"
      ],
      "metadata": {
        "id": "WD4ICM63Mlmn"
      },
      "execution_count": null,
      "outputs": []
    },
    {
      "cell_type": "markdown",
      "source": [
        "Podemos obtener el análisis estadísticos de los datos del dataframe de forma sencilla utilizando la instrucción `describe()`:"
      ],
      "metadata": {
        "id": "NV8bPYQXalT1"
      }
    },
    {
      "cell_type": "code",
      "source": [
        "datos_elementos.describe()"
      ],
      "metadata": {
        "id": "nT8xrR1mazGn"
      },
      "execution_count": null,
      "outputs": []
    },
    {
      "cell_type": "markdown",
      "source": [
        "## Acceso a los datos\n",
        "\n",
        "El acceso a los datos de un df es similar a como se realiza para los array de Numpy. La diferencia es que ahora también podemos acceder haciendo uso de los títulos de las columnas y de las filas. Veamos algunos ejemplos:"
      ],
      "metadata": {
        "id": "dQzh7vAzXZoo"
      }
    },
    {
      "cell_type": "code",
      "source": [
        "# Para recuperar los datos de una columna\n",
        "datos_elementos['Elemento']"
      ],
      "metadata": {
        "id": "uC0pj83g0AN4"
      },
      "execution_count": null,
      "outputs": []
    },
    {
      "cell_type": "code",
      "source": [
        "# Para recuperar los datos de una fila. Requerimos de loc:\n",
        "datos_elementos.loc[0]"
      ],
      "metadata": {
        "id": "_zED3I6f0QL6"
      },
      "execution_count": null,
      "outputs": []
    },
    {
      "cell_type": "markdown",
      "source": [
        "**Nota:** Cuando leemos los datos desde un archivo y no indicamos los títulos de columnas o de filas, estos son autogenerados utilizando enteros. Es importante verificar el tipo de dato de los títulos en dicho caso, probando si funciona `datos_elementos.loc[0]` o `datos_elementos.loc['0']`"
      ],
      "metadata": {
        "id": "B7XGiL1rZET7"
      }
    },
    {
      "cell_type": "code",
      "source": [
        "# Para acceder a un elemento de la tabla\n",
        "datos_elementos.loc[1,'Elemento'] # Damos fila y columna"
      ],
      "metadata": {
        "id": "XMS85_5P02jw"
      },
      "execution_count": null,
      "outputs": []
    },
    {
      "cell_type": "code",
      "source": [
        "# Usando indices de posición. Debemos usar iloc:\n",
        "print(datos_elementos.iloc[2, 2])"
      ],
      "metadata": {
        "id": "k5PvHkk51I9H"
      },
      "execution_count": null,
      "outputs": []
    },
    {
      "cell_type": "code",
      "source": [
        "# Podemos hacer uso de slicing con iloc\n",
        "print(datos_elementos.iloc[2:, :2])"
      ],
      "metadata": {
        "id": "PFBa2JuYbOPJ"
      },
      "execution_count": null,
      "outputs": []
    },
    {
      "cell_type": "code",
      "source": [
        "# Podemos usar listas de títulos para especificar varios indices/columnas\n",
        "# Nota que pueden no ser consecutivos:\n",
        "datos_elementos.loc[[7,5],['Elemento','Electronegatividad']]"
      ],
      "metadata": {
        "id": "RdKvd938Xad3"
      },
      "execution_count": null,
      "outputs": []
    },
    {
      "cell_type": "markdown",
      "source": [
        "❓\n",
        "* Descarga del aula virtual el archivo \"Datos de titulación\", luego súbelo a Colab y lee el archivo usando pandas.\n",
        "* Guarda en variables separadas las columnas `V` y `ΔE`.\n",
        "* Guarda en otra variable los datos de la fila 30 a la fila 76.\n",
        "* Usando una sola instrucción de pandas, guarda en otra variable  los datos de la fila 20 a la 40 de las columnas `pH` y `∆pH/∆v (mL)`"
      ],
      "metadata": {
        "id": "SokVgj2zG7rz"
      }
    },
    {
      "cell_type": "code",
      "source": [
        "# Para leer un archivo Excel es necesario importar openpyxl\n",
        "import openpyxl\n",
        "import pandas as pd\n",
        "\n",
        "titulacion = pd.read_excel()# Debes modificar esta linea.\n",
        "# Utiliza los siguientes parámetros:\n",
        "# skiprows=1, skipfooter=15, sheet_name='Hoja1'"
      ],
      "metadata": {
        "id": "E-M4cWsmWRS_"
      },
      "execution_count": null,
      "outputs": []
    },
    {
      "cell_type": "markdown",
      "source": [
        "## Modificando el DataFrame\n",
        "\n",
        "Podemos realizar distintos tipos de modificaciones sobre un df, como modificar datos de la tabla, agregar o eliminar filas y columnas e incluso unir tablas. Veamos algunas de estas instrucciones:"
      ],
      "metadata": {
        "id": "J_ACurXWvz9v"
      }
    },
    {
      "cell_type": "code",
      "source": [
        "# Podemos insertar columnas. Recordemos la forma de nuestro df\n",
        "datos_elementos"
      ],
      "metadata": {
        "id": "B2FN-1LCr4zm"
      },
      "execution_count": null,
      "outputs": []
    },
    {
      "cell_type": "code",
      "source": [
        "# Añadimos una columna de estado de oxidación\n",
        "datos_elementos['Estado de oxidación'] = [+1, -2, +4, -3, +2, +1, +1, +2, -2, +5]\n",
        "datos_elementos"
      ],
      "metadata": {
        "id": "X-ip_EthsGLf"
      },
      "execution_count": null,
      "outputs": []
    },
    {
      "cell_type": "markdown",
      "source": [
        "También podemos eliminar filas y columnas. Para esto utilizamos la instrucción `drop`, donde debemos indicar el título y si se trata de una columna (`axis=1`) o de una fila(`axis=0`):"
      ],
      "metadata": {
        "id": "73OUZ-qRv4e4"
      }
    },
    {
      "cell_type": "code",
      "source": [
        "# Para conservar los cambios es importante guardar en el mismo dataframe\n",
        "datos_elementos = datos_elementos.drop('Estado a 25°C', axis=1)"
      ],
      "metadata": {
        "id": "gL7Z7pzxtIWl"
      },
      "execution_count": null,
      "outputs": []
    },
    {
      "cell_type": "code",
      "source": [
        "# ¿Qué significa axis 0 o 1?\n",
        "datos_elementos = datos_elementos.drop(9, axis=0)\n",
        "datos_elementos"
      ],
      "metadata": {
        "id": "L8nBGZ0Ptgl4"
      },
      "execution_count": null,
      "outputs": []
    },
    {
      "cell_type": "markdown",
      "source": [
        "La instrucción `merge` nos permite unir dos dataframes. No tienen que ser necesariamente de la misma forma (`shape`). Si tenemos una `tabla1` y una `tabla2`, para unir la segunda con la primera escribimos `tabla1.merge(tabla2)`."
      ],
      "metadata": {
        "id": "1w8j84cLvwYT"
      }
    },
    {
      "cell_type": "code",
      "source": [
        "datos_elementos2 = pd.read_csv('propiedades_quimicas2.csv')\n",
        "datos_elementos2_original = datos_elementos2.copy()\n",
        "datos_elementos2"
      ],
      "metadata": {
        "id": "r-MJUsY6t8RB"
      },
      "execution_count": null,
      "outputs": []
    },
    {
      "cell_type": "code",
      "source": [
        "#Usamos merge para unir ambos df\n",
        "datos_elementos.merge(datos_elementos2)"
      ],
      "metadata": {
        "id": "UharEYL7unim"
      },
      "execution_count": null,
      "outputs": []
    },
    {
      "cell_type": "markdown",
      "source": [
        "También existe la instrucción `concat`, que realiza la unión de ambas tablas pero a diferencia de `merge` no empata los datos que hay en común (en ambas tablas, la columna en común es `Elemento`). También cambia la sintaxis: para unir `tabla1` y `tabla2`, debemos escribir `pd.concat((tabla1, tabla2))`:"
      ],
      "metadata": {
        "id": "Qq5TZthKwSXn"
      }
    },
    {
      "cell_type": "code",
      "source": [
        "pd.concat((datos_elementos, datos_elementos2))"
      ],
      "metadata": {
        "id": "soi1rOswwiZZ"
      },
      "execution_count": null,
      "outputs": []
    },
    {
      "cell_type": "code",
      "source": [
        "# Especificando el eje\n",
        "pd.concat((datos_elementos, datos_elementos2), axis=1)"
      ],
      "metadata": {
        "id": "SCd__U3Hw0qT"
      },
      "execution_count": null,
      "outputs": []
    },
    {
      "cell_type": "markdown",
      "source": [
        "❓ Sube los archivos *ir700.csv* e *ir800.csv*, que se encuentran en el aula virtual. Leelos y visualiza el contenido de cada dataframe. Genera un nuevo dataframe donde los datos de ambos archivos estén unidos de forma adecuada."
      ],
      "metadata": {
        "id": "8anA2YXRToO2"
      }
    },
    {
      "cell_type": "code",
      "source": [],
      "metadata": {
        "id": "JluXzYZpWCYX"
      },
      "execution_count": null,
      "outputs": []
    },
    {
      "cell_type": "markdown",
      "source": [
        "### Tarea\n",
        "\n",
        "1. Del dataframe `datos_elementos` genera un nuevo df, llamado `nuevos_datos1`, que solo tenga las columnas `Elemento`, `Electronegatividad` y `Estado de Oxidación`.\n",
        "\n",
        "2. Del dataframe `datos_elementos2` genera otro df llamado `nuevos_datos2` con las columnas `Elemento` y `Configuración Electrónica`.\n",
        "\n",
        "3. Une los dataframes de los pasos 1 y 2, guardando el df resultante en `datos_electrones` y obtén sus estadísticas.\n",
        "\n",
        "4. Del df `datos_electrones` obtén las filas de los elementos cuyos números atómicos están entre 6 y 12. Calcula sus estadísticas."
      ],
      "metadata": {
        "id": "08LfXfrgbX07"
      }
    },
    {
      "cell_type": "code",
      "source": [],
      "metadata": {
        "id": "AlVAnp7cgaZ-"
      },
      "execution_count": null,
      "outputs": []
    }
  ]
}