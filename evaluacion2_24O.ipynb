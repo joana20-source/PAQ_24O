{
  "nbformat": 4,
  "nbformat_minor": 0,
  "metadata": {
    "colab": {
      "provenance": [],
      "include_colab_link": true
    },
    "kernelspec": {
      "name": "python3",
      "display_name": "Python 3"
    },
    "language_info": {
      "name": "python"
    }
  },
  "cells": [
    {
      "cell_type": "markdown",
      "metadata": {
        "id": "view-in-github",
        "colab_type": "text"
      },
      "source": [
        "<a href=\"https://colab.research.google.com/github/joana20-source/PAQ_24O/blob/main/evaluacion2_24O.ipynb\" target=\"_parent\"><img src=\"https://colab.research.google.com/assets/colab-badge.svg\" alt=\"Open In Colab\"/></a>"
      ]
    },
    {
      "cell_type": "markdown",
      "source": [
        "## Evaluación Parcial II. Funciones y condicionales\n",
        "\n",
        "#### 16-Diciembre-2024\n",
        "####Profesora: Dra. Joana Avelar Robledo"
      ],
      "metadata": {
        "id": "OlIXkj5YKh8x"
      }
    },
    {
      "cell_type": "markdown",
      "source": [
        "Problema 1: A continuación se presenta una cadena de ADN, mediante una función y condicionales identifica cuántos aminoácidos de A, T, G y C se encuentran presentes en la cadena. Imprime el total de cada aminoácido presente."
      ],
      "metadata": {
        "id": "JQTEpmFhMEGI"
      }
    },
    {
      "cell_type": "code",
      "source": [
        "adn_rosa =\n",
        "\"ATGCGTACGTTAGCTACGTTAGGCCTTAGGCTAGCTAGGCTAAGCTTAGCTTAGCGGCTAACGGTAGCTAGCTAGCTACGGCTTAG\n",
        "GCTAAGCTTAGCGGCTAAGCTTAGCTTACGGTAGCTAGCTAAGGCTTAGCTTAGCGGCTTAGGCTAACGG\n",
        "    TAGCTTAGGCTAACGGTAGCTAGCTTAGGCTAAGCTTAGCTTAGCGGCTTAGGCTAAGCTTAGCGGCTAACGGTAGCT\"\n"
      ],
      "metadata": {
        "id": "5X4lSDtmr5uE"
      },
      "execution_count": null,
      "outputs": []
    },
    {
      "cell_type": "code",
      "source": [],
      "metadata": {
        "id": "ezaHO6FEKg2r"
      },
      "execution_count": null,
      "outputs": []
    },
    {
      "cell_type": "markdown",
      "source": [
        "Problema 2: Un estudiante de química necesita calcular la cantidad de calor ($q$) absorbida o liberada por un material durante un cambio de temperatura. El cálculo se realiza con la ecuación:\n",
        "\n",
        "$q = m \\cdot c \\cdot \\Delta T$\n",
        "\n",
        "Donde\n",
        "\n",
        "\n",
        "*   $q$ es el calor en Joules\n",
        "*   $m$ es la masa del material en gramos\n",
        "*   $c$ es el calor específico del material en $J/(g \\cdot °C)$\n",
        "*   $\\Delta T$ es el cambio de temperatura en °C, calculada como $\\Delta T = T_{f} - T_{i} $\n",
        "\n",
        "Genera una función que calcule el calor, lo imprima e indique si se absorbe ($q > 0$) o se libera calor ($q < 0$).\n",
        "\n",
        "Puedes probar tu función con los siguientes valores para el agua:\n",
        "* $m$ = 200 g\n",
        "* $c$ = 4.18 $J/(g \\cdot °C)$\n",
        "* $T_{i}$ = 25 °C\n",
        "* $T_{f}$ = 100 °C\n",
        "\n",
        "\n"
      ],
      "metadata": {
        "id": "3Ikj_Q1-EtpU"
      }
    },
    {
      "cell_type": "code",
      "source": [],
      "metadata": {
        "id": "MpdL40rgL1fB"
      },
      "execution_count": null,
      "outputs": []
    }
  ]
}