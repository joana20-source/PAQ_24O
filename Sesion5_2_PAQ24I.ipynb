{
  "nbformat": 4,
  "nbformat_minor": 0,
  "metadata": {
    "colab": {
      "provenance": [],
      "authorship_tag": "ABX9TyNqtZnpte8yVlI+Bq3xZjTU",
      "include_colab_link": true
    },
    "kernelspec": {
      "name": "python3",
      "display_name": "Python 3"
    },
    "language_info": {
      "name": "python"
    }
  },
  "cells": [
    {
      "cell_type": "markdown",
      "metadata": {
        "id": "view-in-github",
        "colab_type": "text"
      },
      "source": [
        "<a href=\"https://colab.research.google.com/github/joana20-source/PAQ_24O/blob/main/Sesion5_2_PAQ24I.ipynb\" target=\"_parent\"><img src=\"https://colab.research.google.com/assets/colab-badge.svg\" alt=\"Open In Colab\"/></a>"
      ]
    },
    {
      "cell_type": "markdown",
      "source": [
        "<a href=\"https://colab.research.google.com/github/joana20-source/PAQ_24O/blob/main/Sesion5_2_PAQ24I.ipynb\" target=\"_parent\"><img src=\"https://colab.research.google.com/assets/colab-badge.svg\" alt=\"Open In Colab\"/></a>"
      ],
      "metadata": {
        "id": "G-Z0z3pUBRJy"
      }
    },
    {
      "cell_type": "markdown",
      "source": [
        "\n",
        "### Resumen de for\n",
        "\n",
        "Recordemos que el ciclo for tiene la siguiente sintaxis."
      ],
      "metadata": {
        "id": "Qh9-_LH5u9Nq"
      }
    },
    {
      "cell_type": "code",
      "source": [
        "lista_nueva = []\n",
        "for elemento in alguna_coleccion_datos:\n",
        "     instruccion\n",
        "\n",
        "\n",
        "lista_nueva = [instruccion for elemento in alguna_coleccion_datos]"
      ],
      "metadata": {
        "id": "q4HF139BuGva"
      },
      "execution_count": null,
      "outputs": []
    },
    {
      "cell_type": "markdown",
      "source": [
        "Veamos algunos ejemplos"
      ],
      "metadata": {
        "id": "ZBi5ykidvusn"
      }
    },
    {
      "cell_type": "code",
      "source": [
        "lista_nueva = []\n",
        "for i in range(5):\n",
        "    lista_nueva.append(i*2)\n",
        "lista_nueva"
      ],
      "metadata": {
        "id": "66Y03o3fvQR1"
      },
      "execution_count": null,
      "outputs": []
    },
    {
      "cell_type": "code",
      "source": [
        "lista_nueva2 = [i*2 for i in range(5)]\n",
        "lista_nueva2"
      ],
      "metadata": {
        "id": "F3WM908Vveex"
      },
      "execution_count": null,
      "outputs": []
    },
    {
      "cell_type": "markdown",
      "source": [
        "<font size=4 color='blue'> Ejercicio 1: </font> La velocidad de reacción de una reacción química de segundo orden depende de la concentración de reactivos al cuadrado. La expresión de la velocidad de reacción es:\n",
        "\n",
        "$v = k \\cdot [A]^{2}$\n",
        "\n",
        "donde $v$ es la velocidad de reacción en mol/L$\\cdot$s, k es la constante de velocidad de la reacción en L/mol$\\cdot$s y $[A]$ es la concentración del reactivo A en mol/L. Para una k con un valor de 0.5 L/mol$\\cdot$s obtenga los valores de la velocidad para las siguientes concentraciones 0.1, 0.2, 0.3, 0.4, 0.5, 0.8, 1.4.\n",
        "\n",
        "\n"
      ],
      "metadata": {
        "id": "aUfvKlkD4plN"
      }
    },
    {
      "cell_type": "code",
      "source": [],
      "metadata": {
        "id": "l07zOGdj4pA6"
      },
      "execution_count": null,
      "outputs": []
    },
    {
      "cell_type": "markdown",
      "source": [
        "### Operadores de asignación\n",
        "\n",
        "Se utiliza un operador de asignación para asignar valores a una variable. Esto generalmente se combina con otros operadores (como aritmética, bit a bit) donde la operación se realiza en los operandos y el resultado se asigna al operando izquierdo.\n",
        "\n",
        "Considera los siguientes ejemplos,\n",
        "\n",
        "a = 18. Aquí = es un operador de asignación, y el resultado se almacena en la variable a.\n",
        "\n",
        "a + = 10. Aquí += es un operador de asignación, y el resultado se almacena en la variable a. Es lo mismo que a = a + 10.\n",
        "\n",
        "| Operador de Asignación | Equivalencia                   | Ejemplo                |\n",
        "|-------------------------|--------------------------------|-------------------------|\n",
        "| `=`                     | Asigna un valor               | `x = 5`                |\n",
        "| `+=`                    | `x = x + valor`               | `x += 3  # x = x + 3`  |\n",
        "| `-=`                    | `x = x - valor`               | `x -= 2  # x = x - 2`  |\n",
        "| `*=`                    | `x = x * valor`               | `x *= 4  # x = x * 4`  |\n",
        "| `/=`                    | `x = x / valor`               | `x /= 2  # x = x / 2`  |\n",
        "| `//=`                   | `x = x // valor`              | `x //= 3 # x = x // 3` |\n",
        "| `%=`                    | `x = x % valor`               | `x %= 2  # x = x % 2`  |\n",
        "| `**=`                   | `x = x ** valor`              | `x **= 3 # x = x ** 3` |\n",
        "\n"
      ],
      "metadata": {
        "id": "qkD2U7h-lN8h"
      }
    },
    {
      "cell_type": "code",
      "source": [
        "temperaturas = [18, 20, 22, 24, 26, 28, 30]\n",
        "\n",
        "temperaturas_nuevas = []\n",
        "for temp in temperaturas:\n",
        "    temp += 1\n",
        "    temperaturas_nuevas.append(temp)\n",
        "\n",
        "temperaturas_nuevas\n"
      ],
      "metadata": {
        "id": "p8h8F0IDrpKR"
      },
      "execution_count": null,
      "outputs": []
    },
    {
      "cell_type": "markdown",
      "source": [
        "**Cálculo de sumas con for**"
      ],
      "metadata": {
        "id": "O7X0j1718HsG"
      }
    },
    {
      "cell_type": "code",
      "source": [
        "temperaturas = [18, 20, 22, 24, 26, 28, 30]\n",
        "\n",
        "suma_temperaturas = 0 ### Importante colocar el 0\n",
        "\n",
        "for temp in temperaturas:\n",
        "\n",
        "     suma_temperaturas += temp\n",
        "\n",
        "print(suma_temperaturas)"
      ],
      "metadata": {
        "id": "QL9Zsib8omDh"
      },
      "execution_count": null,
      "outputs": []
    },
    {
      "cell_type": "markdown",
      "source": [
        "<font size=4 color='blue'> Ejercicio 2: </font> Calcula el promedio de las velocidades calculadas en el problema 1 de esta sesión."
      ],
      "metadata": {
        "id": "3_x_534T8nY1"
      }
    },
    {
      "cell_type": "markdown",
      "source": [
        "# Principios de programación 4 - Extra\n",
        "---\n",
        "\n",
        "## Graficación básica\n",
        "\n",
        "Una gráfica es una representación de los pares de valores $(x,y)$ que pertenecen a una ecuación. Para realizar una gráfica en un programa de hoja de cálculo necesitas una columna de valores de $x$ y una columna de valores de $y$. Por ejemplo:\n",
        "\n",
        "\n",
        "|x| y|\n",
        "|---|---|\n",
        "|1|1|\n",
        "|2|2|\n",
        "|3|6|\n",
        "|4|10|\n",
        "\n",
        "En Python, podemos usar una lista (o tupla) para almacenar los valores de $x$ y otra para los valores de $y$. Una vez que tenemos ambas listas (que, por supuesto, deben de ser del mismo tamaño), podemos usar alguna función para realizar gráficas.\n",
        "\n",
        "El paquete más utilizado en Python con este fin es `matplotlib`. Ejecutemos la siguiente celda para importarlo:\n"
      ],
      "metadata": {
        "id": "CnLNPRZetvb-"
      }
    },
    {
      "cell_type": "code",
      "execution_count": null,
      "metadata": {
        "id": "2wv7QrKptBBQ"
      },
      "outputs": [],
      "source": [
        "import matplotlib.pyplot as plt"
      ]
    },
    {
      "cell_type": "markdown",
      "source": [
        "En la siguiente celda tenemos dos listas que contienen los valores de la tabla mostrada arriba:"
      ],
      "metadata": {
        "id": "ihxBD1Zc0AfF"
      }
    },
    {
      "cell_type": "code",
      "source": [
        "valores_x = [1,2,3,4]\n",
        "valores_y = [1,2,6,10]"
      ],
      "metadata": {
        "id": "aKkVqR6qz_VC"
      },
      "execution_count": null,
      "outputs": []
    },
    {
      "cell_type": "markdown",
      "source": [
        "Para graficar, basta con usar la función `plt.plot(x,y)`, donde `x` y `y` deben ser listas con los valores de $x$ y de $y$."
      ],
      "metadata": {
        "id": "uR_a1h1t0Qsm"
      }
    },
    {
      "cell_type": "code",
      "source": [
        "plt.plot(valores_x,valores_y)"
      ],
      "metadata": {
        "id": "If8J134M0QCQ"
      },
      "execution_count": null,
      "outputs": []
    },
    {
      "cell_type": "markdown",
      "source": [
        "Es común que deseemos graficar una función, como por ejemplo $f(x)=x^3+2x^3-10$. Un procedimiento posible sería:\n",
        "\n",
        "1. Generar un conjunto de valores $x$ en donde evaluaremos la función. Podemos usar el *for corto* de la sesión 5.1:"
      ],
      "metadata": {
        "id": "9wId5oFr0vvl"
      }
    },
    {
      "cell_type": "code",
      "source": [
        "# Generamos 100 valores enteros en el intervalo [0,100)\n",
        "conjunto_x = [x for x in range(100)]"
      ],
      "metadata": {
        "id": "UqlIANU10kas"
      },
      "execution_count": null,
      "outputs": []
    },
    {
      "cell_type": "markdown",
      "source": [
        "2. Usando estos puntos y usando de nuevo el comprensión de listas, generamos $y$:"
      ],
      "metadata": {
        "id": "9N9Gt3i13iA6"
      }
    },
    {
      "cell_type": "code",
      "source": [
        "conjunto_y = [x**3 + 2*x**3 - 10 for x in conjunto_x]"
      ],
      "metadata": {
        "id": "-vj9AiUZ26eT"
      },
      "execution_count": null,
      "outputs": []
    },
    {
      "cell_type": "markdown",
      "source": [
        "3. Finalmente, graficamos:"
      ],
      "metadata": {
        "id": "5LeTVmF-37ZI"
      }
    },
    {
      "cell_type": "code",
      "source": [
        "plt.plot(conjunto_x,conjunto_y)\n",
        "plt.xlabel(\"datos x\")\n",
        "plt.ylabel(\"datos y\")"
      ],
      "metadata": {
        "id": "-fQnbCeq33fc"
      },
      "execution_count": null,
      "outputs": []
    },
    {
      "cell_type": "code",
      "source": [
        "#Podemos combinar graficas facilmente\n",
        "plt.plot(valores_x, valores_y)\n",
        "plt.plot(conjunto_x,conjunto_y)"
      ],
      "metadata": {
        "id": "-cbVDR6Y5wnd"
      },
      "execution_count": null,
      "outputs": []
    },
    {
      "cell_type": "markdown",
      "source": [
        "Prueba con diferentes funciones e intervalos para familiarizarte con la generación de gráficas."
      ],
      "metadata": {
        "id": "Mc97V51z4Fpp"
      }
    },
    {
      "cell_type": "markdown",
      "source": [
        "<font size=4 color='blue'> Ejercicio 3: </font> Grafica las concentraciones y velocidades calculadas en el problema 1 de esta sesión."
      ],
      "metadata": {
        "id": "ro7TkEmD_yn6"
      }
    },
    {
      "cell_type": "code",
      "source": [],
      "metadata": {
        "id": "luGalI1K9peO"
      },
      "execution_count": null,
      "outputs": []
    }
  ]
}