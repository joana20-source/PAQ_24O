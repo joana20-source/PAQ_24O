{
  "nbformat": 4,
  "nbformat_minor": 0,
  "metadata": {
    "colab": {
      "provenance": [],
      "include_colab_link": true
    },
    "kernelspec": {
      "name": "python3",
      "display_name": "Python 3"
    },
    "language_info": {
      "name": "python"
    }
  },
  "cells": [
    {
      "cell_type": "markdown",
      "metadata": {
        "id": "view-in-github",
        "colab_type": "text"
      },
      "source": [
        "<a href=\"https://colab.research.google.com/github/joana20-source/PAQ_24O/blob/main/Sesion5_2_PAQ24I.ipynb\" target=\"_parent\"><img src=\"https://colab.research.google.com/assets/colab-badge.svg\" alt=\"Open In Colab\"/></a>"
      ]
    },
    {
      "cell_type": "markdown",
      "source": [
        "# Principios de programación 4 - Extra\n",
        "---\n",
        "\n",
        "## Graficación básica\n",
        "\n",
        "Una gráfica es una representación de los pares de valores $(x,y)$ que pertenecen a una ecuación. Para realizar una gráfica en un programa de hoja de cálculo necesitas una columna de valores de $x$ y una columna de valores de $y$. Por ejemplo:\n",
        "\n",
        "\n",
        "|x| y|\n",
        "|---|---|\n",
        "|1|1|\n",
        "|2|2|\n",
        "|3|6|\n",
        "|4|10|\n",
        "\n",
        "En Python, podemos usar una lista (o tupla) para almacenar los valores de $x$ y otra para los valores de $y$. Una vez que tenemos ambas listas (que, por supuesto, deben de ser del mismo tamaño), podemos usar alguna función para realizar gráficas.\n",
        "\n",
        "El paquete más utilizado en Python con este fin es `matplotlib`. Ejecutemos la siguiente celda para importarlo:\n"
      ],
      "metadata": {
        "id": "CnLNPRZetvb-"
      }
    },
    {
      "cell_type": "code",
      "execution_count": null,
      "metadata": {
        "id": "2wv7QrKptBBQ"
      },
      "outputs": [],
      "source": [
        "import matplotlib.pyplot as plt"
      ]
    },
    {
      "cell_type": "markdown",
      "source": [
        "En la siguiente celda tenemos dos listas que contienen los valores de la tabla mostrada arriba:"
      ],
      "metadata": {
        "id": "ihxBD1Zc0AfF"
      }
    },
    {
      "cell_type": "code",
      "source": [
        "valores_x = [1,2,3,4]\n",
        "valores_y = [1,2,6,10]"
      ],
      "metadata": {
        "id": "aKkVqR6qz_VC"
      },
      "execution_count": null,
      "outputs": []
    },
    {
      "cell_type": "markdown",
      "source": [
        "Para graficar, basta con usar la función `plt.plot(x,y)`, donde `x` y `y` deben ser listas con los valores de $x$ y de $y$."
      ],
      "metadata": {
        "id": "uR_a1h1t0Qsm"
      }
    },
    {
      "cell_type": "code",
      "source": [
        "plt.plot(valores_x,valores_y)"
      ],
      "metadata": {
        "id": "If8J134M0QCQ"
      },
      "execution_count": null,
      "outputs": []
    },
    {
      "cell_type": "markdown",
      "source": [
        "Es común que deseemos graficar una función, como por ejemplo $f(x)=x^3+2x^3-10$. Un procedimiento posible sería:\n",
        "\n",
        "1. Generar un conjunto de valores $x$ en donde evaluaremos la función. Podemos usar el *for corto* de la sesión 5.1:"
      ],
      "metadata": {
        "id": "9wId5oFr0vvl"
      }
    },
    {
      "cell_type": "code",
      "source": [
        "# Generamos 100 valores enteros en el intervalo [0,100)\n",
        "conjunto_x = [x for x in range(100)]"
      ],
      "metadata": {
        "id": "UqlIANU10kas"
      },
      "execution_count": null,
      "outputs": []
    },
    {
      "cell_type": "code",
      "source": [
        "# Para generar intervalos lineales arbitrarios, podemos primero\n",
        "# calcular el tamaño del paso y luego sumarlo al limite\n",
        "# inferior.\n",
        "# Generamos 100 valores entre -1 y 1.\n",
        "# Calculamos el paso\n",
        "#paso = (1 - (-1))/100\n",
        "# Sumamos en un ciclo el paso adecuado, considerando cuantos\n",
        "# pasos llevamos.\n",
        "#conjunto_x = [-1 + (paso * x) for x in range(100)]"
      ],
      "metadata": {
        "id": "itejSC_X3hFD"
      },
      "execution_count": null,
      "outputs": []
    },
    {
      "cell_type": "markdown",
      "source": [
        "2. Usando estos puntos y usando de nuevo el comprensión de listas, generamos $y$:"
      ],
      "metadata": {
        "id": "9N9Gt3i13iA6"
      }
    },
    {
      "cell_type": "code",
      "source": [
        "conjunto_y = [x**3 + 2*x**3 - 10 for x in conjunto_x]"
      ],
      "metadata": {
        "id": "-vj9AiUZ26eT"
      },
      "execution_count": null,
      "outputs": []
    },
    {
      "cell_type": "markdown",
      "source": [
        "3. Finalmente, graficamos:"
      ],
      "metadata": {
        "id": "5LeTVmF-37ZI"
      }
    },
    {
      "cell_type": "code",
      "source": [
        "plt.plot(conjunto_x,conjunto_y)"
      ],
      "metadata": {
        "id": "-fQnbCeq33fc"
      },
      "execution_count": null,
      "outputs": []
    },
    {
      "cell_type": "code",
      "source": [
        "#Podemos combinar graficas facilmente\n",
        "plt.plot(valores_x, valores_y)\n",
        "plt.plot(conjunto_x,conjunto_y)"
      ],
      "metadata": {
        "id": "-cbVDR6Y5wnd"
      },
      "execution_count": null,
      "outputs": []
    },
    {
      "cell_type": "markdown",
      "source": [
        "Prueba con diferentes funciones e intervalos para familiarizarte con la generación de gráficas."
      ],
      "metadata": {
        "id": "Mc97V51z4Fpp"
      }
    }
  ]
}