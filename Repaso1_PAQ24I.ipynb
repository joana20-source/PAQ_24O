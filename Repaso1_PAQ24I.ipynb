{
  "nbformat": 4,
  "nbformat_minor": 0,
  "metadata": {
    "colab": {
      "provenance": [],
      "include_colab_link": true
    },
    "kernelspec": {
      "name": "python3",
      "display_name": "Python 3"
    },
    "language_info": {
      "name": "python"
    }
  },
  "cells": [
    {
      "cell_type": "markdown",
      "metadata": {
        "id": "view-in-github",
        "colab_type": "text"
      },
      "source": [
        "<a href=\"https://colab.research.google.com/github/joana20-source/PAQ_24O/blob/main/Repaso1_PAQ24I.ipynb\" target=\"_parent\"><img src=\"https://colab.research.google.com/assets/colab-badge.svg\" alt=\"Open In Colab\"/></a>"
      ]
    },
    {
      "cell_type": "markdown",
      "source": [
        "# Repaso Programación Aplicada a la Química\n",
        "\n",
        "Los siguientes ejercicios servirán para practicar los temas: Ciclos, Condicionales y Funciones.\n",
        "\n",
        "## Problema 1: Especies cargadas\n",
        "\n",
        "1. Escribe un código que, a partir del número de protones y de electrones, indique si el sistema es un anión, un catión o es neutro. También indica cuando el valor no tiene sentido físico.\n",
        "2. Adapta el punto anterior para utilizarlo en una función.\n",
        "3. Usemos el siguiente formato para indicar la carga de una especie química: *formula_química{#carga/+ o -}*. Por ejemplo, para $[Cu(NH_3)_6]^{2-}$ escribiriamos *Cu(NH3)6{2-}*. Escribe un código que recupere solamente el signo asociado a la carga. Con base en esto, crea una función modificada de la anterior que use este tipo de formato.\n",
        "4. La siguiente lista contiene una serie de especies neutras o cargadas:\n",
        "\n",
        "```python\n",
        "especies = ['Cl{-}', 'NH4{+}', 'H2O2', 'NO3{-}', 'Ca{2+}', 'SO4{2-}', 'N2O', 'K{+}', 'Fe{3+}', 'OH{-}', 'MnO4{-}', 'CuSO2', 'CH3COO{-}', 'CO3{2-}', 'Na{+}']\n",
        "```\n",
        "\n",
        "Escribe un código que indique cuantos aniones, cationes y especies neutras tiene la lista.\n",
        "\n"
      ],
      "metadata": {
        "id": "Qg-7xAmGv4LK"
      }
    },
    {
      "cell_type": "markdown",
      "source": [
        "## Problema 2: ADN\n",
        "\n",
        "0. Los nucleótidos del ADN son adenina (A), guanina (G), citosina (C) y timina (T). Sabemos que solo pueden formarse pares *A-T* y *G-C*. En los siguientes ejercicios, usa las siguientes cadenas de ADN como ejemplo:\n",
        "```\n",
        "cadena_adn_1 = 'ATGCATCGTAGCATGC'\n",
        "cadena_adn_2 = 'GCTAGCATCGTAGCTA'\n",
        "```\n",
        "1. Escribe un código que indique cuál es el último nucleótido de una cadena dada, así como el número de nucleótidos. La cadena estará dada como texto.\n",
        "2. Crea una función que verifique que la cadena es válida (que solo esté formada por los nucleótidos posibles), imprimiendo un mensaje si es válida o no.\n",
        "3. Un codón está formado por 3 nucleótidos. Escribe código que indique el número máximo de nucleótidos de una cadena de ADN.\n",
        "4. Escribe un código que, a partir de una cadena de ADN, de como resultado la cadena complementaria.\n",
        "5. Escribe un código que verifique que dos cadenas de ADN son complementarias.\n",
        "\n"
      ],
      "metadata": {
        "id": "1gTfIjFFQI-H"
      }
    },
    {
      "cell_type": "markdown",
      "source": [
        "## Problema 3: Electroquímica\n",
        "\n",
        "0. Vamos a evaluar algunas celdas electroquímicas (baterías). Para ello haremos uso de 4 pares de cátodo-ánodo (Zinc-Carbon, Plomo-Ácido, Niquel-Cadmio, Ión-Litio), cuya información se encuentra en las siguientes listas:\n",
        "\n",
        "```python\n",
        "# Los potenciales están en V.\n",
        "catodos = [\n",
        "    {\"reaccion\": \"MnO2 + H2O + e- -> MnO(OH) + OH-\", \"potencial\": 0.15},  \n",
        "    {\"reaccion\": \"PbO2 + 4H+ + 2e- -> Pb2+ + 2H2O\", \"potencial\": 1.68},  \n",
        "    {\"reaccion\": \"NiO(OH) + H2O + e- -> Ni(OH)2 + OH-\", \"potencial\": 0.49},  \n",
        "    {\"reaccion\": \"LiCoO2 -> Li+ + CoO2 + e-\", \"potencial\": 3.04},  \n",
        "]\n",
        "\n",
        "anodos = [\n",
        "    {\"reaccion\": \"Zn + 2OH- -> ZnO + H2O + 2e-\", \"potencial\": -1.24},  \n",
        "    {\"reaccion\": \"Pb + SO4^2- -> PbSO4 + 2e-\", \"potencial\": -0.36},  \n",
        "    {\"reaccion\": \"Cd + 2OH- -> Cd(OH)2 + 2e-\", \"potencial\": -0.56},  \n",
        "    {\"reaccion\": \"C6H6O6 + Li+ + e- -> C6H5O6 + LiOH\", \"potencial\": -0.13}  \n",
        "]\n",
        "```\n",
        "\n",
        "1. Escribe un código que indique el potencial estándar (E^º) de cada celda, siguiendo la ecuación:\n",
        "\n",
        "$$E^º_{celda} = E^º_{catodo} - E^º_{anodo}$$\n",
        "\n",
        "Agrega cada potencial de celda en una nueva lista.\n",
        "\n",
        "2. Crea un código que calcule el cambio en el potencial para un conjunto de pares de concentraciones de la especie reducida y de la especie oxidada:\n",
        "\n",
        "```python\n",
        "concentraciones = [(1.0, 0.1), (0.5, 0.2), (0.3, 0.3), (0.2, 0.5),(0.1, 1.0)]\n",
        "```\n",
        "\n",
        "La ecuación a seguir es:\n",
        "\n",
        "$$E_{celda}=E^º_{celda}​−\\frac{0.0592}{n}​ log\\frac{[Red]}{[Ox]​}$$\n",
        "\n",
        "Para cada batería, el número de electrones $n$ esta dado en la lista:\n",
        "\n",
        "```python\n",
        "electrones = [1,2,1,1]\n",
        "```\n",
        "3. Si el potencial de celda es negativo, la reacción es espontánea, y al contrario si es positivo. Crea un código que indique para los pares de concentraciones como es la reacción.\n"
      ],
      "metadata": {
        "id": "WzgULUOxQNCC"
      }
    },
    {
      "cell_type": "markdown",
      "source": [
        "## Problema 4: Cuántica\n",
        "\n",
        "En el modelo de Bohr para el átomo de hidrógeno, la energía del electrón en el nivel n está dada por la ecuación:\n",
        "\n",
        "$E_{n} = -13.6/n^{2}$  eV\n",
        "Para los siguientes valores de n=[0, -1, 5, 8, -9, 10, 0, -100, 20]\n",
        "\n",
        "Crea un programa que determine si el electrón está en un estado fundamental, estado excitado o en un estado no permitido.\n",
        "\n",
        "Repite el paso anterior, pero ahora solcitando al usuario dos valores apara generar una lista y que por medio de un while y los condicionales se determine el estado del electrón."
      ],
      "metadata": {
        "id": "gbpvCLj4pAJZ"
      }
    },
    {
      "cell_type": "markdown",
      "source": [
        "## Problema 5: Termodinámica\n",
        "Un químico desea determinar si una reacción es espontánea, no espontánea o está en equilibrio en función de la energía libre de Gibbs ($\\Delta G$). La energía libre de Gibbs está relacionada con la entalpía ($\\Delta H$) y la entropía ($\\Delta S$) a través de la ecuación:\n",
        "\n",
        "\n",
        "$\\Delta G = \\Delta H - T \\Delta S $\n",
        "donde T es la temperatura en kelvins.\n",
        "\n",
        "1. El químico necesita un programa que:\n",
        "Solicite al usuario los valores de $\\Delta H$, $\\Delta S$ en kJ/mol y T en K.\n",
        "\n",
        "2. Calcule $\\Delta G$\n",
        "\n",
        "3. Clasifique la reacción según las siguientes reglas:\n",
        "\n",
        "* $\\Delta G$ negativa es una reacción espontánea\n",
        "* $\\Delta G$ positiva es una reacción no espontánea\n",
        "* $\\Delta G$ igual a cero es una reacción en equilibrio"
      ],
      "metadata": {
        "id": "lbWpWvoAl0zs"
      }
    },
    {
      "cell_type": "code",
      "execution_count": null,
      "metadata": {
        "id": "MbnhONBKvyY2"
      },
      "outputs": [],
      "source": []
    }
  ]
}