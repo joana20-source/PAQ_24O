{
  "nbformat": 4,
  "nbformat_minor": 0,
  "metadata": {
    "colab": {
      "provenance": [],
      "authorship_tag": "ABX9TyOrYgoEKEKAemGjxrYUbXEq",
      "include_colab_link": true
    },
    "kernelspec": {
      "name": "python3",
      "display_name": "Python 3"
    },
    "language_info": {
      "name": "python"
    }
  },
  "cells": [
    {
      "cell_type": "markdown",
      "metadata": {
        "id": "view-in-github",
        "colab_type": "text"
      },
      "source": [
        "<a href=\"https://colab.research.google.com/github/molecular-mar/molecular-mar.github.io/blob/master/Sesion5_1_PAQ24P.ipynb\" target=\"_parent\"><img src=\"https://colab.research.google.com/assets/colab-badge.svg\" alt=\"Open In Colab\"/></a>"
      ]
    },
    {
      "cell_type": "markdown",
      "source": [
        "# Principios de programación 4\n",
        "---"
      ],
      "metadata": {
        "id": "Tu_PRIDRA_rK"
      }
    },
    {
      "cell_type": "markdown",
      "source": [
        "## Ciclos\n",
        "---"
      ],
      "metadata": {
        "id": "XjemkhGDHBPz"
      }
    },
    {
      "cell_type": "markdown",
      "source": [
        "### Ciclo `for`\n"
      ],
      "metadata": {
        "id": "Ux5vsWZFrRbT"
      }
    },
    {
      "cell_type": "markdown",
      "source": [
        "#### Sintaxis\n",
        "\n",
        "Una herramienta básica en programación es el concepto de *ciclo*: una instrucción que señala que otro grupo de instrucciones deben de realizarse de forma repetida. Uno de estos ciclos se conoce como **for**, y su sintaxis es la siguiente:\n",
        "```python\n",
        "for variable in iterable:\n",
        "  instruccion_1\n",
        "  instruccion_2\n",
        "  ...\n",
        "  instruccion_n\n",
        "```\n",
        "Revisemos a detalle esta sintaxis. Comenzamos por la instrucción `for`(nota el color azul del texto), que indica el tipo de ciclo a usar. Luego, después de un espacio indicamos una `variable`. Después de otro espacio, tenemos la instrucción `in`, y luego de otro espacio encontramos un `iterable`, junto con el símbolo de dos puntos (`:`).\n",
        "\n",
        "Un *iterable* en Python es un tipo de dato sobre el cuál podemos realizar un ciclo, recuperando uno de los valores que lo componen cada la vez. Sin entrar a mucho detalle, en general podemos pensar que los iterables son como las colecciones de datos, como las listas, las tuplas y los strings abordadas en la sesión anterior.\n"
      ],
      "metadata": {
        "id": "_ONM6juNBVXG"
      }
    },
    {
      "cell_type": "markdown",
      "source": [
        "#### Identación\n",
        "\n",
        "Antes de experimentar con el uso de `for`, un **punto importante** a considerar: deberás distinguir entre instrucciones asociadas al ciclo e instrucciones no asociadas. En Python es muy importante la *identación*, el espacio que hay al inicio de una linea de código. Las líneas contiguas de código con una misma identación están en un mismo *bloque*, lo que afecta su comportamiento. Por lo tanto, este espacio al inicio no debe ser tomado a la ligera, sino utilizado a conciencia.\n",
        "\n",
        "Hay dos convenciones de uso frecuente: usar 2 espacios o 4 espacios. Para este curso puedes utilizar la que prefieras, pero debes ser consistente."
      ],
      "metadata": {
        "id": "iMqZ0Vi2rY1g"
      }
    },
    {
      "cell_type": "markdown",
      "source": [
        "❓Copia la lista mm_elementos de la Sesión anterior en una cc. En una celda separada o debajo de la definición, escribe este fragmento de código:\n",
        "```python\n",
        "for masa in mm_elementos:\n",
        "    print(masa)\n",
        "    print('Probando el ciclo for')\n",
        "```\n",
        "Observa que ocurre y escribe con tus propias palabras qué es lo que hace el ciclo for (puedes partir de la traducción literal al español de la instrucción)."
      ],
      "metadata": {
        "id": "tJ0v6sa3rCxg"
      }
    },
    {
      "cell_type": "code",
      "source": [],
      "metadata": {
        "id": "T9Qx0-kwwtPb"
      },
      "execution_count": null,
      "outputs": []
    },
    {
      "cell_type": "markdown",
      "source": [
        "❓ Realiza los siguientes ajustes sobre el `for` anterior, duplicando cada vez la celda de código que recién creamos. En cada caso, documenta tu observación:\n",
        "* Comenta la linea de `print(masa)`.\n",
        "* Retira la identación de la linea `print('Probando el ciclo for')`.\n"
      ],
      "metadata": {
        "id": "qJWUsW_qt5_r"
      }
    },
    {
      "cell_type": "code",
      "source": [],
      "metadata": {
        "id": "v9a2Zfvzwt7S"
      },
      "execution_count": null,
      "outputs": []
    },
    {
      "cell_type": "markdown",
      "source": [
        "❓La siguiente celda contiene una lista de concentraciones en g/mL. Asumiendo que el soluto es acetato de sodio (CH$_3$COONa), calcula la molaridad (mol/L) dentro de un ciclo `for`, imprimiendo la concentración obtenida con un mensaje adecuado."
      ],
      "metadata": {
        "id": "NUx7mnWLzs8f"
      }
    },
    {
      "cell_type": "code",
      "source": [
        "concentraciones = [0.05, 0.25, 1/3, 2.5, 2.E-2, 0.60, 4.25]"
      ],
      "metadata": {
        "id": "_jDsUOaLzspO"
      },
      "execution_count": null,
      "outputs": []
    },
    {
      "cell_type": "markdown",
      "source": [
        "❓Crea una lista con los nombres de los estudiantes de Programación Aplicada a la Química. Imprimelos uno por uno usando `for`."
      ],
      "metadata": {
        "id": "BBNNUtdmVNGU"
      }
    },
    {
      "cell_type": "markdown",
      "source": [
        "#### La función `range`\n",
        "\n",
        "En el ejemplo anterior usamos una lista como iterable en el ciclo `for`. Cuando sabemos cuántas veces queremos repetir un ciclo, y no queremos *iterar* sobre una lista, podemos utilizar la función `range`, la cuál genera un iterable que cumple con cierto *intervalo* de valores. Realizemos algunas pruebas para entender su funcionamiento.\n",
        "\n",
        "Si imprimimos`range` observaremos de donde a donde va el intervalo. Podemos convertir esa información a una lista, usando la función `list()` como se muestra a continuación:"
      ],
      "metadata": {
        "id": "CaYCWPPvuEXc"
      }
    },
    {
      "cell_type": "code",
      "source": [
        "print(range(6))\n",
        "print(list(range(6)))"
      ],
      "metadata": {
        "id": "v5D5u1qJV5JH",
        "outputId": "0aa8130a-81af-4aed-c552-0bb3041b8fc0",
        "colab": {
          "base_uri": "https://localhost:8080/"
        }
      },
      "execution_count": null,
      "outputs": [
        {
          "output_type": "stream",
          "name": "stdout",
          "text": [
            "range(0, 6)\n",
            "[0, 1, 2, 3, 4, 5]\n"
          ]
        }
      ]
    },
    {
      "cell_type": "code",
      "source": [
        "# Ejemplo de un ciclo for usando range\n",
        "for i in range(6):\n",
        "  print(i)"
      ],
      "metadata": {
        "id": "eQTObqvfYVu1",
        "outputId": "f7ea5f09-c8c0-4a62-e132-637927824295",
        "colab": {
          "base_uri": "https://localhost:8080/"
        }
      },
      "execution_count": null,
      "outputs": [
        {
          "output_type": "stream",
          "name": "stdout",
          "text": [
            "0\n",
            "1\n",
            "2\n",
            "3\n",
            "4\n",
            "5\n"
          ]
        }
      ]
    },
    {
      "cell_type": "markdown",
      "source": [
        "#### Sintaxis de `range`\n",
        "\n",
        "Para definir un intervalo, necesitamos saber:\n",
        "* El valor inicial\n",
        "* El valor final\n",
        "* El incremento para ir del inicio al final (paso)\n",
        "\n",
        "En Python, la función `range` usa la siguiente sintaxis:\n",
        "\n",
        "```python\n",
        "#Con tres valores\n",
        "range(inicio,final,paso)\n",
        "#Con dos valores (paso=1)\n",
        "range(inicio,final)\n",
        "#Con un solo valor (inicio=0, paso=1)\n",
        "range(final)\n",
        "\n",
        "```"
      ],
      "metadata": {
        "id": "1--ASe3MZVBn"
      }
    },
    {
      "cell_type": "markdown",
      "source": [
        "❓Escribe un ciclo `for`, usando como iterable `range(100)`. Escribe al menos una instrucción `print` dentro del ciclo `for` para observar los valores de la variable asociada al ciclo. Intenta además ese ciclo en intervalo de 50 a 100, y en un intervalor de 50 a 100 con pasos de tamaño 2."
      ],
      "metadata": {
        "id": "2BpAdCoXWqnA"
      }
    },
    {
      "cell_type": "code",
      "source": [],
      "metadata": {
        "id": "yK_g2_tWJUfK"
      },
      "execution_count": null,
      "outputs": []
    },
    {
      "cell_type": "markdown",
      "source": [
        "❓ Imprime los números impares entre 0 y 10 usando `range` y `for`.\n"
      ],
      "metadata": {
        "id": "xf7Uq6kA0sow"
      }
    },
    {
      "cell_type": "code",
      "source": [],
      "metadata": {
        "id": "vYG5CjL50mKb"
      },
      "execution_count": null,
      "outputs": []
    },
    {
      "cell_type": "markdown",
      "source": [
        "---\n",
        "---"
      ],
      "metadata": {
        "id": "20GibFHEwUvc"
      }
    },
    {
      "cell_type": "markdown",
      "source": [
        "#### Algunas tareas cotidianas\n",
        "\n",
        "Existen algunos procedimientos que suelen realizarse con ciclos. Uno de ellos es construir nuevas listas. Para ello es importante crear antes del ciclo la lista que vamos a modificar. Si nuestra lista va a ser creada desde cero, tendremos que definirla como una *lista vacia*:\n",
        "```python\n",
        "lista_nueva = [] # Lista vacia\n",
        "for dato in iterable:\n",
        "    lista_nueva.append(dato) # Adentro de append() lo que deseamos agregar\n",
        "```\n",
        "Vamos a crear una lista que comience en 10, incluyendo 7 números con un paso de 0.3 :\n",
        "\n",
        "\n",
        "\n"
      ],
      "metadata": {
        "id": "j_Fm5BGByhQn"
      }
    },
    {
      "cell_type": "code",
      "source": [
        "valores = []\n",
        "for i in range(7):\n",
        "    valores.append(10+i*0.3)\n",
        "    print(valores)\n",
        "\n",
        "# ¿Qué harías para que no se impriman los valores en cada iteración?\n",
        "# Imprimiendo solamente la lista resultante."
      ],
      "metadata": {
        "id": "h9PahvH2fS6u",
        "outputId": "139d8254-f105-4573-ebdd-3b0bcc2f24fb",
        "colab": {
          "base_uri": "https://localhost:8080/"
        }
      },
      "execution_count": null,
      "outputs": [
        {
          "output_type": "stream",
          "name": "stdout",
          "text": [
            "[10.0]\n",
            "[10.0, 10.3]\n",
            "[10.0, 10.3, 10.6]\n",
            "[10.0, 10.3, 10.6, 10.9]\n",
            "[10.0, 10.3, 10.6, 10.9, 11.2]\n",
            "[10.0, 10.3, 10.6, 10.9, 11.2, 11.5]\n",
            "[10.0, 10.3, 10.6, 10.9, 11.2, 11.5, 11.8]\n"
          ]
        }
      ]
    },
    {
      "cell_type": "markdown",
      "source": [
        "❓La disociación de un acido monoprótico sigue la reacción:\n",
        "\n",
        "$$HA \\rightleftarrows H^+ + A^- $$\n",
        "\n",
        "Su constante de equilibrio, en términos de la concentración inicial de $HA$ ($[HA]_0$) y la concentración de equilibrio de protones ($[H^+]_{eq}$) tiene la forma:\n",
        "\n",
        "$$K_A=\\frac{[H^+]_{eq}[A^-]_{eq}}{[HA]_{eq}}=\\frac{[H^+]^2_{eq}}{[HA]_{0}-[H^+]_{eq}}$$\n",
        "\n",
        "Despejando:\n",
        "\n",
        "$$[HA]_0 = \\frac{[H^+]^2_{eq}}{K_A} + [H^+]_{eq}$$\n",
        "\n",
        "Para valores de pH que vayan de 0 a 6, con pasos de 0.5, calcula y almacena los valores de $[HA]_0$."
      ],
      "metadata": {
        "id": "_KaUS88fg24-"
      }
    },
    {
      "cell_type": "markdown",
      "source": [
        "Otra tarea común es *acumular* valores en una variable. Es posible definir el valor de una variable como su valor previo más un incremento:"
      ],
      "metadata": {
        "id": "V3yeMiI1eVfd"
      }
    },
    {
      "cell_type": "code",
      "source": [
        "var = 3**3 +2 # Calculamos un valor inicial\n",
        "print(var)\n",
        "var = var + 1 # Al valor inicial, le sumamos 1 y redefinimos var\n",
        "print(var)"
      ],
      "metadata": {
        "id": "oHEXXa9sLKcy",
        "outputId": "27dbb16a-64b7-4913-b7e7-ba29f82c0538",
        "colab": {
          "base_uri": "https://localhost:8080/"
        }
      },
      "execution_count": null,
      "outputs": [
        {
          "output_type": "stream",
          "name": "stdout",
          "text": [
            "29\n",
            "30\n"
          ]
        }
      ]
    },
    {
      "cell_type": "markdown",
      "source": [
        "❓Calcula la concentración promedio de la lista de `concentraciones`."
      ],
      "metadata": {
        "id": "bE8mx4NCpdgI"
      }
    },
    {
      "cell_type": "markdown",
      "source": [
        "❓Duplica la celda anterior, y añade en la copia un `print` de la variable `vol_acido` dentro del ciclo."
      ],
      "metadata": {
        "id": "DLI6VS8Z_4Uo"
      }
    },
    {
      "cell_type": "markdown",
      "source": [
        "Lo primero que debemos hacer para acumular un valor es definir la variable en donde haremos la acumulación. Luego, dentro del ciclo, debemos definir una operación como la mostrada arriba.\n",
        "\n",
        "Cuando realizamos una *asignación de variable*, que ocurre cuando usamos el operador `=` (se le llama *de asignación* en programación, no igual), internamente lo primero que se hace es evaluar del lado derecho de `=`, y luego de esto asignar ese valor a la variable. Por ello es posible utilizar a la variable para definir a la variable en este contexto.\n",
        "\n",
        "El **operador `+=`** funciona igual que la operación de acumulación mostrada, pero sin la necesidad de repetir el nombre de la variable:\n",
        "```python\n",
        "variable = 10\n",
        "variable += 5 # agregar 5 al valor de variable\n",
        "```"
      ],
      "metadata": {
        "id": "MVeJorqy-LPo"
      }
    },
    {
      "cell_type": "code",
      "source": [
        "variable = 10\n",
        "print(variable)\n",
        "variable += 5\n",
        "print(variable)"
      ],
      "metadata": {
        "id": "jzqw_yT7Om8D",
        "outputId": "366f8f37-9a8c-43cf-ce7f-ee726e091714",
        "colab": {
          "base_uri": "https://localhost:8080/"
        }
      },
      "execution_count": null,
      "outputs": [
        {
          "output_type": "stream",
          "name": "stdout",
          "text": [
            "10\n",
            "15\n"
          ]
        }
      ]
    },
    {
      "cell_type": "markdown",
      "source": [
        "❓Vuelve a calcular el promedio de concentraciones usando el operador `+=`"
      ],
      "metadata": {
        "id": "XcP4kLa6w0sv"
      }
    },
    {
      "cell_type": "markdown",
      "source": [
        "#### Ciclos anidados\n",
        "\n",
        "Es posible crear un ciclo dentro de otro ciclo. Por ejemplo, para la matriz definida en la siguiente celda:"
      ],
      "metadata": {
        "id": "118xBH3sLuAK"
      }
    },
    {
      "cell_type": "code",
      "source": [
        "A = [[1,2,3],[4,5,6],[7,8,9]]"
      ],
      "metadata": {
        "id": "jHqb844EsknQ"
      },
      "execution_count": null,
      "outputs": []
    },
    {
      "cell_type": "markdown",
      "source": [
        "Podemos imprimir cada valor utilizando los dos indices de cada elemento (recuerda la notación $a_{ij}$):"
      ],
      "metadata": {
        "id": "-ZRGnMOHspBj"
      }
    },
    {
      "cell_type": "code",
      "source": [
        "for i in range(3):\n",
        "  for j in range(3):\n",
        "    print(\"El elemento\", i, j, \"es\", A[i][j])  # Imprime el elemento A[i][j]"
      ],
      "metadata": {
        "colab": {
          "base_uri": "https://localhost:8080/"
        },
        "id": "35V1dOF6s2cc",
        "outputId": "c1fc1dda-d348-4748-a53e-a8bf9bd605bc"
      },
      "execution_count": null,
      "outputs": [
        {
          "output_type": "stream",
          "name": "stdout",
          "text": [
            "El elemento 0 0 es 1\n",
            "El elemento 0 1 es 2\n",
            "El elemento 0 2 es 3\n",
            "El elemento 1 0 es 4\n",
            "El elemento 1 1 es 5\n",
            "El elemento 1 2 es 6\n",
            "El elemento 2 0 es 7\n",
            "El elemento 2 1 es 8\n",
            "El elemento 2 2 es 9\n"
          ]
        }
      ]
    },
    {
      "cell_type": "markdown",
      "source": [
        "❓Usando ciclos anidados, genera una nueva matriz a partir de la suma de `matriz1` y `matriz2`."
      ],
      "metadata": {
        "id": "kjh5YuMAtPaZ"
      }
    },
    {
      "cell_type": "code",
      "source": [
        "matriz1 = [[1, 2, 3], [4, 5, 6], [7, 8, 9]]\n",
        "matriz2 = [[9, 8, 7], [6, 5, 4], [3, 2, 1]]"
      ],
      "metadata": {
        "id": "jsD73Fhiu6Mq"
      },
      "execution_count": null,
      "outputs": []
    },
    {
      "cell_type": "markdown",
      "source": [
        "#### `for` corto\n",
        "\n",
        "Hay una forma breve de usar el ciclo `for` cuando se desea crear una lista. A esta forma también se le conoce como *comprensión de lista*:\n",
        "\n",
        "```python\n",
        "lista = [elemento_de_la_nueva_lista for var in iterable]\n",
        "```\n",
        "\n",
        "El siguiente ejemplo convierte una lista de concentraciones de $H^+$ en valores de pH:"
      ],
      "metadata": {
        "id": "qgUVTdp4khGF"
      }
    },
    {
      "cell_type": "code",
      "source": [
        "import math\n",
        "concentraciones_Hmas = [1E3, 1E6, 1E8, 1E13]\n",
        "pH_calculados = [-math.log10(con) for con in concentraciones_Hmas]\n",
        "print(pH_calculados)"
      ],
      "metadata": {
        "id": "RQxJNt-QAvv-",
        "outputId": "62e816dc-607c-4a5a-b43b-eab1f08d7d76",
        "colab": {
          "base_uri": "https://localhost:8080/"
        }
      },
      "execution_count": null,
      "outputs": [
        {
          "output_type": "stream",
          "name": "stdout",
          "text": [
            "[-3.0, -6.0, -8.0, -13.0]\n"
          ]
        }
      ]
    },
    {
      "cell_type": "markdown",
      "source": [
        "## Tarea\n",
        "\n",
        "Resuelve los siguientes problemas en un nuevo notebook.\n",
        "\n",
        "* Necesitamos realizar una serie de disoluciones con concentraciones diferentes para un experimento. Cuentas con un pequeño robot que puede realizarlas por ti, pero necesitas crear un programa para que funcione. Crea un programa que calcule los gramos necesarios de una lista de compuestos para elaborar una serie de soluciones. Los compuestos son: hidróxido de sodio, triclorometano, acetato de sodio y dimetilformamida. Las concentraciones que deseas son 0.001M, 0.05M, 0.2 M, 0.66 M y 2.1 M. Debes hacer uso de `for`.\n",
        "\n",
        "\n",
        "* Usando ciclos `for`, realiza las siguientes operaciones:\n",
        "\n",
        " 1. Crea las matrices (usando listas anidadas):\n",
        "\n",
        "$$A= \\begin{bmatrix}\n",
        "1 & 3 & 5\\\\\n",
        "3 & 5 & 7\\\\\n",
        "5 & 7 & 9\\\\\n",
        "\\end{bmatrix}$$\n",
        "\n",
        "$$B= \\begin{bmatrix}\n",
        "2 & 4 & 6\\\\\n",
        "4 & 6 & 8\\\\\n",
        "6 & 8 & 10\\\\\n",
        "\\end{bmatrix}$$\n",
        "\n",
        " 2. Calcula la traza de cada matrix. La traza se define como la suma de los elementos diagonales ($\\sum_i A_{ii}$)\n"
      ],
      "metadata": {
        "id": "n2iaHv-yFciV"
      }
    },
    {
      "cell_type": "code",
      "source": [],
      "metadata": {
        "id": "yD7qUYE8FgMj"
      },
      "execution_count": null,
      "outputs": []
    }
  ]
}